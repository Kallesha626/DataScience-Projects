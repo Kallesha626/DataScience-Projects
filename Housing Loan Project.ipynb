{
 "cells": [
  {
   "cell_type": "markdown",
   "id": "f304255f",
   "metadata": {},
   "source": [
    "# 1. Check Eligibility of the Customer given Input"
   ]
  },
  {
   "cell_type": "code",
   "execution_count": 38,
   "id": "12596dbc",
   "metadata": {},
   "outputs": [],
   "source": [
    "from warnings import filterwarnings\n",
    "filterwarnings(\"ignore\")"
   ]
  },
  {
   "cell_type": "markdown",
   "id": "70831cd5",
   "metadata": {},
   "source": [
    "# Read File"
   ]
  },
  {
   "cell_type": "code",
   "execution_count": 39,
   "id": "ab5d0af3",
   "metadata": {},
   "outputs": [],
   "source": [
    "from pandas import read_csv\n",
    "A = read_csv(\"C://Users/Kallesh/OneDrive/Desktop/Training_sets.csv\")"
   ]
  },
  {
   "cell_type": "code",
   "execution_count": 40,
   "id": "2e99ba24",
   "metadata": {},
   "outputs": [
    {
     "data": {
      "text/html": [
       "<div>\n",
       "<style scoped>\n",
       "    .dataframe tbody tr th:only-of-type {\n",
       "        vertical-align: middle;\n",
       "    }\n",
       "\n",
       "    .dataframe tbody tr th {\n",
       "        vertical-align: top;\n",
       "    }\n",
       "\n",
       "    .dataframe thead th {\n",
       "        text-align: right;\n",
       "    }\n",
       "</style>\n",
       "<table border=\"1\" class=\"dataframe\">\n",
       "  <thead>\n",
       "    <tr style=\"text-align: right;\">\n",
       "      <th></th>\n",
       "      <th>Loan_ID</th>\n",
       "      <th>Gender</th>\n",
       "      <th>Married</th>\n",
       "      <th>Dependents</th>\n",
       "      <th>Education</th>\n",
       "      <th>Self_Employed</th>\n",
       "      <th>ApplicantIncome</th>\n",
       "      <th>CoapplicantIncome</th>\n",
       "      <th>LoanAmount</th>\n",
       "      <th>Loan_Amount_Term</th>\n",
       "      <th>Credit_History</th>\n",
       "      <th>Property_Area</th>\n",
       "      <th>Loan_Status</th>\n",
       "    </tr>\n",
       "  </thead>\n",
       "  <tbody>\n",
       "    <tr>\n",
       "      <th>0</th>\n",
       "      <td>LP001002</td>\n",
       "      <td>Male</td>\n",
       "      <td>No</td>\n",
       "      <td>0</td>\n",
       "      <td>Graduate</td>\n",
       "      <td>No</td>\n",
       "      <td>5849.0</td>\n",
       "      <td>0.0</td>\n",
       "      <td>NaN</td>\n",
       "      <td>360.0</td>\n",
       "      <td>1.0</td>\n",
       "      <td>Urban</td>\n",
       "      <td>Y</td>\n",
       "    </tr>\n",
       "    <tr>\n",
       "      <th>1</th>\n",
       "      <td>LP001003</td>\n",
       "      <td>Male</td>\n",
       "      <td>Yes</td>\n",
       "      <td>1</td>\n",
       "      <td>Graduate</td>\n",
       "      <td>No</td>\n",
       "      <td>NaN</td>\n",
       "      <td>1508.0</td>\n",
       "      <td>128.0</td>\n",
       "      <td>360.0</td>\n",
       "      <td>1.0</td>\n",
       "      <td>Rural</td>\n",
       "      <td>N</td>\n",
       "    </tr>\n",
       "    <tr>\n",
       "      <th>2</th>\n",
       "      <td>LP001005</td>\n",
       "      <td>Male</td>\n",
       "      <td>Yes</td>\n",
       "      <td>0</td>\n",
       "      <td>Graduate</td>\n",
       "      <td>Yes</td>\n",
       "      <td>3000.0</td>\n",
       "      <td>0.0</td>\n",
       "      <td>66.0</td>\n",
       "      <td>360.0</td>\n",
       "      <td>1.0</td>\n",
       "      <td>Urban</td>\n",
       "      <td>Y</td>\n",
       "    </tr>\n",
       "  </tbody>\n",
       "</table>\n",
       "</div>"
      ],
      "text/plain": [
       "    Loan_ID Gender Married Dependents Education Self_Employed  \\\n",
       "0  LP001002   Male      No          0  Graduate            No   \n",
       "1  LP001003   Male     Yes          1  Graduate            No   \n",
       "2  LP001005   Male     Yes          0  Graduate           Yes   \n",
       "\n",
       "   ApplicantIncome  CoapplicantIncome  LoanAmount  Loan_Amount_Term  \\\n",
       "0           5849.0                0.0         NaN             360.0   \n",
       "1              NaN             1508.0       128.0             360.0   \n",
       "2           3000.0                0.0        66.0             360.0   \n",
       "\n",
       "   Credit_History Property_Area Loan_Status  \n",
       "0             1.0         Urban           Y  \n",
       "1             1.0         Rural           N  \n",
       "2             1.0         Urban           Y  "
      ]
     },
     "execution_count": 40,
     "metadata": {},
     "output_type": "execute_result"
    }
   ],
   "source": [
    "A.head(3)"
   ]
  },
  {
   "cell_type": "markdown",
   "id": "eb966267",
   "metadata": {},
   "source": [
    "# Missing Data Treatment"
   ]
  },
  {
   "cell_type": "code",
   "execution_count": 41,
   "id": "19faab5e",
   "metadata": {},
   "outputs": [
    {
     "data": {
      "text/plain": [
       "Loan_ID               0\n",
       "Gender               15\n",
       "Married               3\n",
       "Dependents           15\n",
       "Education             1\n",
       "Self_Employed        32\n",
       "ApplicantIncome       2\n",
       "CoapplicantIncome     1\n",
       "LoanAmount           22\n",
       "Loan_Amount_Term     14\n",
       "Credit_History       50\n",
       "Property_Area         0\n",
       "Loan_Status           0\n",
       "dtype: int64"
      ]
     },
     "execution_count": 41,
     "metadata": {},
     "output_type": "execute_result"
    }
   ],
   "source": [
    "A.isna().sum()"
   ]
  },
  {
   "cell_type": "code",
   "execution_count": 42,
   "id": "d956ff58",
   "metadata": {},
   "outputs": [],
   "source": [
    "for i in A.columns:\n",
    "    if(A[i].dtypes==\"object\"):\n",
    "        x = A[i].mode()[0]\n",
    "        A[i]=A[i].fillna(x)\n",
    "    else:\n",
    "        x = A[i].mean()\n",
    "        A[i]=A[i].fillna(x)"
   ]
  },
  {
   "cell_type": "code",
   "execution_count": 43,
   "id": "afff7243",
   "metadata": {},
   "outputs": [
    {
     "data": {
      "text/plain": [
       "Loan_ID              0\n",
       "Gender               0\n",
       "Married              0\n",
       "Dependents           0\n",
       "Education            0\n",
       "Self_Employed        0\n",
       "ApplicantIncome      0\n",
       "CoapplicantIncome    0\n",
       "LoanAmount           0\n",
       "Loan_Amount_Term     0\n",
       "Credit_History       0\n",
       "Property_Area        0\n",
       "Loan_Status          0\n",
       "dtype: int64"
      ]
     },
     "execution_count": 43,
     "metadata": {},
     "output_type": "execute_result"
    }
   ],
   "source": [
    "A.isna().sum()"
   ]
  },
  {
   "cell_type": "markdown",
   "id": "f66a8ea1",
   "metadata": {},
   "source": [
    "# Delete Unnecessary Columns"
   ]
  },
  {
   "cell_type": "code",
   "execution_count": 44,
   "id": "3855a43f",
   "metadata": {},
   "outputs": [
    {
     "data": {
      "text/html": [
       "<div>\n",
       "<style scoped>\n",
       "    .dataframe tbody tr th:only-of-type {\n",
       "        vertical-align: middle;\n",
       "    }\n",
       "\n",
       "    .dataframe tbody tr th {\n",
       "        vertical-align: top;\n",
       "    }\n",
       "\n",
       "    .dataframe thead th {\n",
       "        text-align: right;\n",
       "    }\n",
       "</style>\n",
       "<table border=\"1\" class=\"dataframe\">\n",
       "  <thead>\n",
       "    <tr style=\"text-align: right;\">\n",
       "      <th></th>\n",
       "      <th>Gender</th>\n",
       "      <th>Married</th>\n",
       "      <th>Dependents</th>\n",
       "      <th>Education</th>\n",
       "      <th>Self_Employed</th>\n",
       "      <th>ApplicantIncome</th>\n",
       "      <th>CoapplicantIncome</th>\n",
       "      <th>LoanAmount</th>\n",
       "      <th>Loan_Amount_Term</th>\n",
       "      <th>Credit_History</th>\n",
       "      <th>Property_Area</th>\n",
       "      <th>Loan_Status</th>\n",
       "    </tr>\n",
       "  </thead>\n",
       "  <tbody>\n",
       "    <tr>\n",
       "      <th>0</th>\n",
       "      <td>Male</td>\n",
       "      <td>No</td>\n",
       "      <td>0</td>\n",
       "      <td>Graduate</td>\n",
       "      <td>No</td>\n",
       "      <td>5849.00000</td>\n",
       "      <td>0.0</td>\n",
       "      <td>146.412162</td>\n",
       "      <td>360.0</td>\n",
       "      <td>1.0</td>\n",
       "      <td>Urban</td>\n",
       "      <td>Y</td>\n",
       "    </tr>\n",
       "    <tr>\n",
       "      <th>1</th>\n",
       "      <td>Male</td>\n",
       "      <td>Yes</td>\n",
       "      <td>1</td>\n",
       "      <td>Graduate</td>\n",
       "      <td>No</td>\n",
       "      <td>5405.54085</td>\n",
       "      <td>1508.0</td>\n",
       "      <td>128.000000</td>\n",
       "      <td>360.0</td>\n",
       "      <td>1.0</td>\n",
       "      <td>Rural</td>\n",
       "      <td>N</td>\n",
       "    </tr>\n",
       "    <tr>\n",
       "      <th>2</th>\n",
       "      <td>Male</td>\n",
       "      <td>Yes</td>\n",
       "      <td>0</td>\n",
       "      <td>Graduate</td>\n",
       "      <td>Yes</td>\n",
       "      <td>3000.00000</td>\n",
       "      <td>0.0</td>\n",
       "      <td>66.000000</td>\n",
       "      <td>360.0</td>\n",
       "      <td>1.0</td>\n",
       "      <td>Urban</td>\n",
       "      <td>Y</td>\n",
       "    </tr>\n",
       "  </tbody>\n",
       "</table>\n",
       "</div>"
      ],
      "text/plain": [
       "  Gender Married Dependents Education Self_Employed  ApplicantIncome  \\\n",
       "0   Male      No          0  Graduate            No       5849.00000   \n",
       "1   Male     Yes          1  Graduate            No       5405.54085   \n",
       "2   Male     Yes          0  Graduate           Yes       3000.00000   \n",
       "\n",
       "   CoapplicantIncome  LoanAmount  Loan_Amount_Term  Credit_History  \\\n",
       "0                0.0  146.412162             360.0             1.0   \n",
       "1             1508.0  128.000000             360.0             1.0   \n",
       "2                0.0   66.000000             360.0             1.0   \n",
       "\n",
       "  Property_Area Loan_Status  \n",
       "0         Urban           Y  \n",
       "1         Rural           N  \n",
       "2         Urban           Y  "
      ]
     },
     "execution_count": 44,
     "metadata": {},
     "output_type": "execute_result"
    }
   ],
   "source": [
    "A = A.drop(labels=[\"Loan_ID\"],axis=1)   \n",
    "A.head(3)"
   ]
  },
  {
   "cell_type": "markdown",
   "id": "41fdfc48",
   "metadata": {},
   "source": [
    "# Delete Special Symbols from data"
   ]
  },
  {
   "cell_type": "code",
   "execution_count": 45,
   "id": "2d6bb689",
   "metadata": {},
   "outputs": [
    {
     "name": "stdout",
     "output_type": "stream",
     "text": [
      "\n",
      " Male      502\n",
      "Female    112\n",
      "Name: Gender, dtype: int64\n",
      "\n",
      " Yes    401\n",
      "No     213\n",
      "Name: Married, dtype: int64\n",
      "\n",
      " 0     360\n",
      "1     102\n",
      "2     101\n",
      "3+     51\n",
      "Name: Dependents, dtype: int64\n",
      "\n",
      " Graduate        480\n",
      "Not Graduate    134\n",
      "Name: Education, dtype: int64\n",
      "\n",
      " No     532\n",
      "Yes     82\n",
      "Name: Self_Employed, dtype: int64\n",
      "\n",
      " 2500.0    9\n",
      "2600.0    6\n",
      "6000.0    6\n",
      "3750.0    5\n",
      "5000.0    5\n",
      "         ..\n",
      "6133.0    1\n",
      "2058.0    1\n",
      "2787.0    1\n",
      "6256.0    1\n",
      "5829.0    1\n",
      "Name: ApplicantIncome, Length: 505, dtype: int64\n",
      "\n",
      " 0.0       273\n",
      "2500.0      5\n",
      "2083.0      5\n",
      "1666.0      5\n",
      "1625.0      3\n",
      "         ... \n",
      "3447.0      1\n",
      "688.0       1\n",
      "2669.0      1\n",
      "189.0       1\n",
      "1700.0      1\n",
      "Name: CoapplicantIncome, Length: 287, dtype: int64\n",
      "\n",
      " 146.412162    22\n",
      "120.000000    20\n",
      "110.000000    17\n",
      "100.000000    15\n",
      "160.000000    12\n",
      "              ..\n",
      "211.000000     1\n",
      "250.000000     1\n",
      "62.000000      1\n",
      "85.000000      1\n",
      "436.000000     1\n",
      "Name: LoanAmount, Length: 204, dtype: int64\n",
      "\n",
      " 360.0    512\n",
      "180.0     44\n",
      "480.0     15\n",
      "342.0     14\n",
      "300.0     13\n",
      "84.0       4\n",
      "240.0      4\n",
      "120.0      3\n",
      "36.0       2\n",
      "60.0       2\n",
      "12.0       1\n",
      "Name: Loan_Amount_Term, dtype: int64\n",
      "\n",
      " 1.000000    475\n",
      "0.000000     89\n",
      "0.842199     50\n",
      "Name: Credit_History, dtype: int64\n",
      "\n",
      " Semiurban    233\n",
      "Urban        202\n",
      "Rural        179\n",
      "Name: Property_Area, dtype: int64\n",
      "\n",
      " Y    422\n",
      "N    192\n",
      "Name: Loan_Status, dtype: int64\n"
     ]
    }
   ],
   "source": [
    "for i in A.columns:\n",
    "    print(\"\\n\",A[i].value_counts())\n"
   ]
  },
  {
   "cell_type": "code",
   "execution_count": 46,
   "id": "6c295d7f",
   "metadata": {},
   "outputs": [],
   "source": [
    "def spe_sym_removal(df):\n",
    "    raw_dep = []\n",
    "    for i in df.Dependents:\n",
    "        i = i.replace(\"+\",\"\")\n",
    "        raw_dep.append(i)\n",
    "    \n",
    "    return raw_dep"
   ]
  },
  {
   "cell_type": "code",
   "execution_count": 47,
   "id": "d484fe02",
   "metadata": {},
   "outputs": [],
   "source": [
    "new_dep = spe_sym_removal(A)"
   ]
  },
  {
   "cell_type": "code",
   "execution_count": 48,
   "id": "861d93ea",
   "metadata": {},
   "outputs": [],
   "source": [
    "A[[\"Dependents\"]] = new_dep"
   ]
  },
  {
   "cell_type": "code",
   "execution_count": 49,
   "id": "ceaf4600",
   "metadata": {},
   "outputs": [
    {
     "data": {
      "text/plain": [
       "0    360\n",
       "1    102\n",
       "2    101\n",
       "3     51\n",
       "Name: Dependents, dtype: int64"
      ]
     },
     "execution_count": 49,
     "metadata": {},
     "output_type": "execute_result"
    }
   ],
   "source": [
    "A.Dependents.value_counts()\n"
   ]
  },
  {
   "cell_type": "markdown",
   "id": "8757ad03",
   "metadata": {},
   "source": [
    "# Declare X and Y"
   ]
  },
  {
   "cell_type": "code",
   "execution_count": 50,
   "id": "5e3098a0",
   "metadata": {},
   "outputs": [],
   "source": [
    "Y = A[[\"Loan_Status\"]]\n",
    "X = A.drop(labels=[\"Loan_Status\"],axis=1)"
   ]
  },
  {
   "cell_type": "markdown",
   "id": "6e13f118",
   "metadata": {},
   "source": [
    "# EDA\n",
    "\n",
    "1) Univariate"
   ]
  },
  {
   "cell_type": "code",
   "execution_count": 51,
   "id": "1473da3a",
   "metadata": {},
   "outputs": [
    {
     "data": {
      "image/png": "[encoded data removed]",
      "text/plain": [
       "<Figure size 1440x2880 with 11 Axes>"
      ]
     },
     "metadata": {
      "needs_background": "light"
     },
     "output_type": "display_data"
    }
   ],
   "source": [
    "import seaborn as sb\n",
    "import matplotlib.pyplot as pt\n",
    "pt.figure(figsize=(20,40))\n",
    "q = 1\n",
    "for i in X.columns:\n",
    "    if X[i].dtype == \"object\":\n",
    "        pt.subplot(11,3,q)\n",
    "        sb.countplot(X[i])\n",
    "        q = q + 1\n",
    "        \n",
    "    else:\n",
    "        pt.subplot(11,3,q)\n",
    "        sb.distplot(X[i])\n",
    "        q = q + 1"
   ]
  },
  {
   "cell_type": "code",
   "execution_count": 52,
   "id": "f6cc5097",
   "metadata": {},
   "outputs": [
    {
     "data": {
      "image/png": "[encoded data removed]",
      "text/plain": [
       "<Figure size 1440x2880 with 11 Axes>"
      ]
     },
     "metadata": {
      "needs_background": "light"
     },
     "output_type": "display_data"
    }
   ],
   "source": [
    "import matplotlib.pyplot as pt\n",
    "pt.figure(figsize=(20,40))\n",
    "q = 1\n",
    "for i in X.columns:\n",
    "    if X[i].dtype == \"object\":\n",
    "        pt.subplot(11,3,q)\n",
    "        sb.countplot(y=X[i],hue=Y.Loan_Status)\n",
    "        q = q + 1\n",
    "        \n",
    "    else:\n",
    "        pt.subplot(11,3,q)\n",
    "        sb.boxplot(Y.Loan_Status,X[i])\n",
    "        q = q + 1"
   ]
  },
  {
   "cell_type": "markdown",
   "id": "9adf13a6",
   "metadata": {},
   "source": [
    "# Data Preprocessing"
   ]
  },
  {
   "cell_type": "code",
   "execution_count": 53,
   "id": "954d3171",
   "metadata": {},
   "outputs": [],
   "source": [
    "cat=[]\n",
    "con=[]\n",
    "\n",
    "for i in X.columns:\n",
    "    if(X[i].dtypes==\"object\"):\n",
    "        cat.append(i)\n",
    "    else:\n",
    "        con.append(i)\n",
    "    \n",
    "        "
   ]
  },
  {
   "cell_type": "code",
   "execution_count": 54,
   "id": "d96edf34",
   "metadata": {},
   "outputs": [
    {
     "data": {
      "text/plain": [
       "ApplicantIncome      6.538870\n",
       "CoapplicantIncome    7.492000\n",
       "LoanAmount           2.726601\n",
       "Loan_Amount_Term    -2.389680\n",
       "Credit_History      -1.963600\n",
       "dtype: float64"
      ]
     },
     "execution_count": 54,
     "metadata": {},
     "output_type": "execute_result"
    }
   ],
   "source": [
    "X[con].skew()\n"
   ]
  },
  {
   "cell_type": "code",
   "execution_count": 55,
   "id": "279aa13d",
   "metadata": {},
   "outputs": [],
   "source": [
    "from numpy import log, sqrt\n",
    "X.CoapplicantIncome = sqrt(X.CoapplicantIncome)\n",
    "X.ApplicantIncome = log(X.ApplicantIncome)\n",
    "X.LoanAmount = log(X.LoanAmount)"
   ]
  },
  {
   "cell_type": "code",
   "execution_count": 56,
   "id": "d637e81f",
   "metadata": {},
   "outputs": [
    {
     "data": {
      "text/plain": [
       "ApplicantIncome      0.477562\n",
       "CoapplicantIncome    0.980113\n",
       "LoanAmount          -0.223227\n",
       "Loan_Amount_Term    -2.389680\n",
       "Credit_History      -1.963600\n",
       "dtype: float64"
      ]
     },
     "execution_count": 56,
     "metadata": {},
     "output_type": "execute_result"
    }
   ],
   "source": [
    "X[con].skew()"
   ]
  },
  {
   "cell_type": "markdown",
   "id": "44f602dc",
   "metadata": {},
   "source": [
    "# Preprocessing"
   ]
  },
  {
   "cell_type": "code",
   "execution_count": 57,
   "id": "70ee4df9",
   "metadata": {},
   "outputs": [],
   "source": [
    "import pandas as pd\n",
    "from sklearn.preprocessing import StandardScaler\n",
    "ss = StandardScaler()\n",
    "Xcon = pd.DataFrame(ss.fit_transform(X[con]),columns = con)\n",
    "Xcat = pd.get_dummies(X[cat])"
   ]
  },
  {
   "cell_type": "code",
   "execution_count": 58,
   "id": "a284b684",
   "metadata": {},
   "outputs": [
    {
     "data": {
      "text/html": [
       "<div>\n",
       "<style scoped>\n",
       "    .dataframe tbody tr th:only-of-type {\n",
       "        vertical-align: middle;\n",
       "    }\n",
       "\n",
       "    .dataframe tbody tr th {\n",
       "        vertical-align: top;\n",
       "    }\n",
       "\n",
       "    .dataframe thead th {\n",
       "        text-align: right;\n",
       "    }\n",
       "</style>\n",
       "<table border=\"1\" class=\"dataframe\">\n",
       "  <thead>\n",
       "    <tr style=\"text-align: right;\">\n",
       "      <th></th>\n",
       "      <th>Gender_Female</th>\n",
       "      <th>Gender_Male</th>\n",
       "      <th>Married_No</th>\n",
       "      <th>Married_Yes</th>\n",
       "      <th>Dependents_0</th>\n",
       "      <th>Dependents_1</th>\n",
       "      <th>Dependents_2</th>\n",
       "      <th>Dependents_3</th>\n",
       "      <th>Education_Graduate</th>\n",
       "      <th>Education_Not Graduate</th>\n",
       "      <th>Self_Employed_No</th>\n",
       "      <th>Self_Employed_Yes</th>\n",
       "      <th>Property_Area_Rural</th>\n",
       "      <th>Property_Area_Semiurban</th>\n",
       "      <th>Property_Area_Urban</th>\n",
       "    </tr>\n",
       "  </thead>\n",
       "  <tbody>\n",
       "    <tr>\n",
       "      <th>0</th>\n",
       "      <td>0</td>\n",
       "      <td>1</td>\n",
       "      <td>1</td>\n",
       "      <td>0</td>\n",
       "      <td>1</td>\n",
       "      <td>0</td>\n",
       "      <td>0</td>\n",
       "      <td>0</td>\n",
       "      <td>1</td>\n",
       "      <td>0</td>\n",
       "      <td>1</td>\n",
       "      <td>0</td>\n",
       "      <td>0</td>\n",
       "      <td>0</td>\n",
       "      <td>1</td>\n",
       "    </tr>\n",
       "    <tr>\n",
       "      <th>1</th>\n",
       "      <td>0</td>\n",
       "      <td>1</td>\n",
       "      <td>0</td>\n",
       "      <td>1</td>\n",
       "      <td>0</td>\n",
       "      <td>1</td>\n",
       "      <td>0</td>\n",
       "      <td>0</td>\n",
       "      <td>1</td>\n",
       "      <td>0</td>\n",
       "      <td>1</td>\n",
       "      <td>0</td>\n",
       "      <td>1</td>\n",
       "      <td>0</td>\n",
       "      <td>0</td>\n",
       "    </tr>\n",
       "    <tr>\n",
       "      <th>2</th>\n",
       "      <td>0</td>\n",
       "      <td>1</td>\n",
       "      <td>0</td>\n",
       "      <td>1</td>\n",
       "      <td>1</td>\n",
       "      <td>0</td>\n",
       "      <td>0</td>\n",
       "      <td>0</td>\n",
       "      <td>1</td>\n",
       "      <td>0</td>\n",
       "      <td>0</td>\n",
       "      <td>1</td>\n",
       "      <td>0</td>\n",
       "      <td>0</td>\n",
       "      <td>1</td>\n",
       "    </tr>\n",
       "    <tr>\n",
       "      <th>3</th>\n",
       "      <td>0</td>\n",
       "      <td>1</td>\n",
       "      <td>0</td>\n",
       "      <td>1</td>\n",
       "      <td>1</td>\n",
       "      <td>0</td>\n",
       "      <td>0</td>\n",
       "      <td>0</td>\n",
       "      <td>0</td>\n",
       "      <td>1</td>\n",
       "      <td>1</td>\n",
       "      <td>0</td>\n",
       "      <td>0</td>\n",
       "      <td>0</td>\n",
       "      <td>1</td>\n",
       "    </tr>\n",
       "    <tr>\n",
       "      <th>4</th>\n",
       "      <td>0</td>\n",
       "      <td>1</td>\n",
       "      <td>1</td>\n",
       "      <td>0</td>\n",
       "      <td>1</td>\n",
       "      <td>0</td>\n",
       "      <td>0</td>\n",
       "      <td>0</td>\n",
       "      <td>1</td>\n",
       "      <td>0</td>\n",
       "      <td>1</td>\n",
       "      <td>0</td>\n",
       "      <td>0</td>\n",
       "      <td>0</td>\n",
       "      <td>1</td>\n",
       "    </tr>\n",
       "    <tr>\n",
       "      <th>...</th>\n",
       "      <td>...</td>\n",
       "      <td>...</td>\n",
       "      <td>...</td>\n",
       "      <td>...</td>\n",
       "      <td>...</td>\n",
       "      <td>...</td>\n",
       "      <td>...</td>\n",
       "      <td>...</td>\n",
       "      <td>...</td>\n",
       "      <td>...</td>\n",
       "      <td>...</td>\n",
       "      <td>...</td>\n",
       "      <td>...</td>\n",
       "      <td>...</td>\n",
       "      <td>...</td>\n",
       "    </tr>\n",
       "    <tr>\n",
       "      <th>609</th>\n",
       "      <td>1</td>\n",
       "      <td>0</td>\n",
       "      <td>1</td>\n",
       "      <td>0</td>\n",
       "      <td>1</td>\n",
       "      <td>0</td>\n",
       "      <td>0</td>\n",
       "      <td>0</td>\n",
       "      <td>1</td>\n",
       "      <td>0</td>\n",
       "      <td>1</td>\n",
       "      <td>0</td>\n",
       "      <td>1</td>\n",
       "      <td>0</td>\n",
       "      <td>0</td>\n",
       "    </tr>\n",
       "    <tr>\n",
       "      <th>610</th>\n",
       "      <td>0</td>\n",
       "      <td>1</td>\n",
       "      <td>0</td>\n",
       "      <td>1</td>\n",
       "      <td>0</td>\n",
       "      <td>0</td>\n",
       "      <td>0</td>\n",
       "      <td>1</td>\n",
       "      <td>1</td>\n",
       "      <td>0</td>\n",
       "      <td>1</td>\n",
       "      <td>0</td>\n",
       "      <td>1</td>\n",
       "      <td>0</td>\n",
       "      <td>0</td>\n",
       "    </tr>\n",
       "    <tr>\n",
       "      <th>611</th>\n",
       "      <td>0</td>\n",
       "      <td>1</td>\n",
       "      <td>0</td>\n",
       "      <td>1</td>\n",
       "      <td>0</td>\n",
       "      <td>1</td>\n",
       "      <td>0</td>\n",
       "      <td>0</td>\n",
       "      <td>1</td>\n",
       "      <td>0</td>\n",
       "      <td>1</td>\n",
       "      <td>0</td>\n",
       "      <td>0</td>\n",
       "      <td>0</td>\n",
       "      <td>1</td>\n",
       "    </tr>\n",
       "    <tr>\n",
       "      <th>612</th>\n",
       "      <td>0</td>\n",
       "      <td>1</td>\n",
       "      <td>0</td>\n",
       "      <td>1</td>\n",
       "      <td>0</td>\n",
       "      <td>0</td>\n",
       "      <td>1</td>\n",
       "      <td>0</td>\n",
       "      <td>1</td>\n",
       "      <td>0</td>\n",
       "      <td>1</td>\n",
       "      <td>0</td>\n",
       "      <td>0</td>\n",
       "      <td>0</td>\n",
       "      <td>1</td>\n",
       "    </tr>\n",
       "    <tr>\n",
       "      <th>613</th>\n",
       "      <td>1</td>\n",
       "      <td>0</td>\n",
       "      <td>1</td>\n",
       "      <td>0</td>\n",
       "      <td>1</td>\n",
       "      <td>0</td>\n",
       "      <td>0</td>\n",
       "      <td>0</td>\n",
       "      <td>1</td>\n",
       "      <td>0</td>\n",
       "      <td>0</td>\n",
       "      <td>1</td>\n",
       "      <td>0</td>\n",
       "      <td>1</td>\n",
       "      <td>0</td>\n",
       "    </tr>\n",
       "  </tbody>\n",
       "</table>\n",
       "<p>614 rows × 15 columns</p>\n",
       "</div>"
      ],
      "text/plain": [
       "     Gender_Female  Gender_Male  Married_No  Married_Yes  Dependents_0  \\\n",
       "0                0            1           1            0             1   \n",
       "1                0            1           0            1             0   \n",
       "2                0            1           0            1             1   \n",
       "3                0            1           0            1             1   \n",
       "4                0            1           1            0             1   \n",
       "..             ...          ...         ...          ...           ...   \n",
       "609              1            0           1            0             1   \n",
       "610              0            1           0            1             0   \n",
       "611              0            1           0            1             0   \n",
       "612              0            1           0            1             0   \n",
       "613              1            0           1            0             1   \n",
       "\n",
       "     Dependents_1  Dependents_2  Dependents_3  Education_Graduate  \\\n",
       "0               0             0             0                   1   \n",
       "1               1             0             0                   1   \n",
       "2               0             0             0                   1   \n",
       "3               0             0             0                   0   \n",
       "4               0             0             0                   1   \n",
       "..            ...           ...           ...                 ...   \n",
       "609             0             0             0                   1   \n",
       "610             0             0             1                   1   \n",
       "611             1             0             0                   1   \n",
       "612             0             1             0                   1   \n",
       "613             0             0             0                   1   \n",
       "\n",
       "     Education_Not Graduate  Self_Employed_No  Self_Employed_Yes  \\\n",
       "0                         0                 1                  0   \n",
       "1                         0                 1                  0   \n",
       "2                         0                 0                  1   \n",
       "3                         1                 1                  0   \n",
       "4                         0                 1                  0   \n",
       "..                      ...               ...                ...   \n",
       "609                       0                 1                  0   \n",
       "610                       0                 1                  0   \n",
       "611                       0                 1                  0   \n",
       "612                       0                 1                  0   \n",
       "613                       0                 0                  1   \n",
       "\n",
       "     Property_Area_Rural  Property_Area_Semiurban  Property_Area_Urban  \n",
       "0                      0                        0                    1  \n",
       "1                      1                        0                    0  \n",
       "2                      0                        0                    1  \n",
       "3                      0                        0                    1  \n",
       "4                      0                        0                    1  \n",
       "..                   ...                      ...                  ...  \n",
       "609                    1                        0                    0  \n",
       "610                    1                        0                    0  \n",
       "611                    0                        0                    1  \n",
       "612                    0                        0                    1  \n",
       "613                    0                        1                    0  \n",
       "\n",
       "[614 rows x 15 columns]"
      ]
     },
     "execution_count": 58,
     "metadata": {},
     "output_type": "execute_result"
    }
   ],
   "source": [
    "Xcat"
   ]
  },
  {
   "cell_type": "code",
   "execution_count": 59,
   "id": "b3c3f8cb",
   "metadata": {},
   "outputs": [
    {
     "data": {
      "text/html": [
       "<div>\n",
       "<style scoped>\n",
       "    .dataframe tbody tr th:only-of-type {\n",
       "        vertical-align: middle;\n",
       "    }\n",
       "\n",
       "    .dataframe tbody tr th {\n",
       "        vertical-align: top;\n",
       "    }\n",
       "\n",
       "    .dataframe thead th {\n",
       "        text-align: right;\n",
       "    }\n",
       "</style>\n",
       "<table border=\"1\" class=\"dataframe\">\n",
       "  <thead>\n",
       "    <tr style=\"text-align: right;\">\n",
       "      <th></th>\n",
       "      <th>ApplicantIncome</th>\n",
       "      <th>CoapplicantIncome</th>\n",
       "      <th>LoanAmount</th>\n",
       "      <th>Loan_Amount_Term</th>\n",
       "      <th>Credit_History</th>\n",
       "    </tr>\n",
       "  </thead>\n",
       "  <tbody>\n",
       "    <tr>\n",
       "      <th>0</th>\n",
       "      <td>0.515465</td>\n",
       "      <td>-0.968030</td>\n",
       "      <td>0.250640</td>\n",
       "      <td>0.279851</td>\n",
       "      <td>0.451640</td>\n",
       "    </tr>\n",
       "    <tr>\n",
       "      <th>1</th>\n",
       "      <td>0.393196</td>\n",
       "      <td>0.374420</td>\n",
       "      <td>-0.020226</td>\n",
       "      <td>0.279851</td>\n",
       "      <td>0.451640</td>\n",
       "    </tr>\n",
       "    <tr>\n",
       "      <th>2</th>\n",
       "      <td>-0.519896</td>\n",
       "      <td>-0.968030</td>\n",
       "      <td>-1.355202</td>\n",
       "      <td>0.279851</td>\n",
       "      <td>0.451640</td>\n",
       "    </tr>\n",
       "    <tr>\n",
       "      <th>3</th>\n",
       "      <td>-0.751980</td>\n",
       "      <td>0.710655</td>\n",
       "      <td>-0.150299</td>\n",
       "      <td>0.279851</td>\n",
       "      <td>0.451640</td>\n",
       "    </tr>\n",
       "    <tr>\n",
       "      <th>4</th>\n",
       "      <td>0.554992</td>\n",
       "      <td>-0.968030</td>\n",
       "      <td>0.174727</td>\n",
       "      <td>0.279851</td>\n",
       "      <td>0.451640</td>\n",
       "    </tr>\n",
       "    <tr>\n",
       "      <th>...</th>\n",
       "      <td>...</td>\n",
       "      <td>...</td>\n",
       "      <td>...</td>\n",
       "      <td>...</td>\n",
       "      <td>...</td>\n",
       "    </tr>\n",
       "    <tr>\n",
       "      <th>609</th>\n",
       "      <td>-0.572468</td>\n",
       "      <td>-0.968030</td>\n",
       "      <td>-1.208025</td>\n",
       "      <td>0.279851</td>\n",
       "      <td>0.451640</td>\n",
       "    </tr>\n",
       "    <tr>\n",
       "      <th>610</th>\n",
       "      <td>-0.033218</td>\n",
       "      <td>-0.968030</td>\n",
       "      <td>-2.364484</td>\n",
       "      <td>-2.518655</td>\n",
       "      <td>0.451640</td>\n",
       "    </tr>\n",
       "    <tr>\n",
       "      <th>611</th>\n",
       "      <td>1.015004</td>\n",
       "      <td>-0.432476</td>\n",
       "      <td>1.353011</td>\n",
       "      <td>0.279851</td>\n",
       "      <td>0.451640</td>\n",
       "    </tr>\n",
       "    <tr>\n",
       "      <th>612</th>\n",
       "      <td>0.918095</td>\n",
       "      <td>-0.968030</td>\n",
       "      <td>0.743783</td>\n",
       "      <td>0.279851</td>\n",
       "      <td>0.451640</td>\n",
       "    </tr>\n",
       "    <tr>\n",
       "      <th>613</th>\n",
       "      <td>0.137215</td>\n",
       "      <td>-0.968030</td>\n",
       "      <td>0.057004</td>\n",
       "      <td>0.279851</td>\n",
       "      <td>-2.410441</td>\n",
       "    </tr>\n",
       "  </tbody>\n",
       "</table>\n",
       "<p>614 rows × 5 columns</p>\n",
       "</div>"
      ],
      "text/plain": [
       "     ApplicantIncome  CoapplicantIncome  LoanAmount  Loan_Amount_Term  \\\n",
       "0           0.515465          -0.968030    0.250640          0.279851   \n",
       "1           0.393196           0.374420   -0.020226          0.279851   \n",
       "2          -0.519896          -0.968030   -1.355202          0.279851   \n",
       "3          -0.751980           0.710655   -0.150299          0.279851   \n",
       "4           0.554992          -0.968030    0.174727          0.279851   \n",
       "..               ...                ...         ...               ...   \n",
       "609        -0.572468          -0.968030   -1.208025          0.279851   \n",
       "610        -0.033218          -0.968030   -2.364484         -2.518655   \n",
       "611         1.015004          -0.432476    1.353011          0.279851   \n",
       "612         0.918095          -0.968030    0.743783          0.279851   \n",
       "613         0.137215          -0.968030    0.057004          0.279851   \n",
       "\n",
       "     Credit_History  \n",
       "0          0.451640  \n",
       "1          0.451640  \n",
       "2          0.451640  \n",
       "3          0.451640  \n",
       "4          0.451640  \n",
       "..              ...  \n",
       "609        0.451640  \n",
       "610        0.451640  \n",
       "611        0.451640  \n",
       "612        0.451640  \n",
       "613       -2.410441  \n",
       "\n",
       "[614 rows x 5 columns]"
      ]
     },
     "execution_count": 59,
     "metadata": {},
     "output_type": "execute_result"
    }
   ],
   "source": [
    "Xcon"
   ]
  },
  {
   "cell_type": "code",
   "execution_count": 60,
   "id": "330cbec1",
   "metadata": {},
   "outputs": [],
   "source": [
    "X = Xcat.join(X[con])"
   ]
  },
  {
   "cell_type": "code",
   "execution_count": 61,
   "id": "22e13d28",
   "metadata": {},
   "outputs": [
    {
     "data": {
      "text/html": [
       "<div>\n",
       "<style scoped>\n",
       "    .dataframe tbody tr th:only-of-type {\n",
       "        vertical-align: middle;\n",
       "    }\n",
       "\n",
       "    .dataframe tbody tr th {\n",
       "        vertical-align: top;\n",
       "    }\n",
       "\n",
       "    .dataframe thead th {\n",
       "        text-align: right;\n",
       "    }\n",
       "</style>\n",
       "<table border=\"1\" class=\"dataframe\">\n",
       "  <thead>\n",
       "    <tr style=\"text-align: right;\">\n",
       "      <th></th>\n",
       "      <th>Gender_Female</th>\n",
       "      <th>Gender_Male</th>\n",
       "      <th>Married_No</th>\n",
       "      <th>Married_Yes</th>\n",
       "      <th>Dependents_0</th>\n",
       "      <th>Dependents_1</th>\n",
       "      <th>Dependents_2</th>\n",
       "      <th>Dependents_3</th>\n",
       "      <th>Education_Graduate</th>\n",
       "      <th>Education_Not Graduate</th>\n",
       "      <th>Self_Employed_No</th>\n",
       "      <th>Self_Employed_Yes</th>\n",
       "      <th>Property_Area_Rural</th>\n",
       "      <th>Property_Area_Semiurban</th>\n",
       "      <th>Property_Area_Urban</th>\n",
       "      <th>ApplicantIncome</th>\n",
       "      <th>CoapplicantIncome</th>\n",
       "      <th>LoanAmount</th>\n",
       "      <th>Loan_Amount_Term</th>\n",
       "      <th>Credit_History</th>\n",
       "    </tr>\n",
       "  </thead>\n",
       "  <tbody>\n",
       "    <tr>\n",
       "      <th>0</th>\n",
       "      <td>0</td>\n",
       "      <td>1</td>\n",
       "      <td>1</td>\n",
       "      <td>0</td>\n",
       "      <td>1</td>\n",
       "      <td>0</td>\n",
       "      <td>0</td>\n",
       "      <td>0</td>\n",
       "      <td>1</td>\n",
       "      <td>0</td>\n",
       "      <td>1</td>\n",
       "      <td>0</td>\n",
       "      <td>0</td>\n",
       "      <td>0</td>\n",
       "      <td>1</td>\n",
       "      <td>8.674026</td>\n",
       "      <td>0.000000</td>\n",
       "      <td>4.986426</td>\n",
       "      <td>360.0</td>\n",
       "      <td>1.0</td>\n",
       "    </tr>\n",
       "    <tr>\n",
       "      <th>1</th>\n",
       "      <td>0</td>\n",
       "      <td>1</td>\n",
       "      <td>0</td>\n",
       "      <td>1</td>\n",
       "      <td>0</td>\n",
       "      <td>1</td>\n",
       "      <td>0</td>\n",
       "      <td>0</td>\n",
       "      <td>1</td>\n",
       "      <td>0</td>\n",
       "      <td>1</td>\n",
       "      <td>0</td>\n",
       "      <td>1</td>\n",
       "      <td>0</td>\n",
       "      <td>0</td>\n",
       "      <td>8.595180</td>\n",
       "      <td>38.832976</td>\n",
       "      <td>4.852030</td>\n",
       "      <td>360.0</td>\n",
       "      <td>1.0</td>\n",
       "    </tr>\n",
       "    <tr>\n",
       "      <th>2</th>\n",
       "      <td>0</td>\n",
       "      <td>1</td>\n",
       "      <td>0</td>\n",
       "      <td>1</td>\n",
       "      <td>1</td>\n",
       "      <td>0</td>\n",
       "      <td>0</td>\n",
       "      <td>0</td>\n",
       "      <td>1</td>\n",
       "      <td>0</td>\n",
       "      <td>0</td>\n",
       "      <td>1</td>\n",
       "      <td>0</td>\n",
       "      <td>0</td>\n",
       "      <td>1</td>\n",
       "      <td>8.006368</td>\n",
       "      <td>0.000000</td>\n",
       "      <td>4.189655</td>\n",
       "      <td>360.0</td>\n",
       "      <td>1.0</td>\n",
       "    </tr>\n",
       "    <tr>\n",
       "      <th>3</th>\n",
       "      <td>0</td>\n",
       "      <td>1</td>\n",
       "      <td>0</td>\n",
       "      <td>1</td>\n",
       "      <td>1</td>\n",
       "      <td>0</td>\n",
       "      <td>0</td>\n",
       "      <td>0</td>\n",
       "      <td>0</td>\n",
       "      <td>1</td>\n",
       "      <td>1</td>\n",
       "      <td>0</td>\n",
       "      <td>0</td>\n",
       "      <td>0</td>\n",
       "      <td>1</td>\n",
       "      <td>7.856707</td>\n",
       "      <td>48.559242</td>\n",
       "      <td>4.787492</td>\n",
       "      <td>360.0</td>\n",
       "      <td>1.0</td>\n",
       "    </tr>\n",
       "    <tr>\n",
       "      <th>4</th>\n",
       "      <td>0</td>\n",
       "      <td>1</td>\n",
       "      <td>1</td>\n",
       "      <td>0</td>\n",
       "      <td>1</td>\n",
       "      <td>0</td>\n",
       "      <td>0</td>\n",
       "      <td>0</td>\n",
       "      <td>1</td>\n",
       "      <td>0</td>\n",
       "      <td>1</td>\n",
       "      <td>0</td>\n",
       "      <td>0</td>\n",
       "      <td>0</td>\n",
       "      <td>1</td>\n",
       "      <td>8.699515</td>\n",
       "      <td>0.000000</td>\n",
       "      <td>4.948760</td>\n",
       "      <td>360.0</td>\n",
       "      <td>1.0</td>\n",
       "    </tr>\n",
       "    <tr>\n",
       "      <th>...</th>\n",
       "      <td>...</td>\n",
       "      <td>...</td>\n",
       "      <td>...</td>\n",
       "      <td>...</td>\n",
       "      <td>...</td>\n",
       "      <td>...</td>\n",
       "      <td>...</td>\n",
       "      <td>...</td>\n",
       "      <td>...</td>\n",
       "      <td>...</td>\n",
       "      <td>...</td>\n",
       "      <td>...</td>\n",
       "      <td>...</td>\n",
       "      <td>...</td>\n",
       "      <td>...</td>\n",
       "      <td>...</td>\n",
       "      <td>...</td>\n",
       "      <td>...</td>\n",
       "      <td>...</td>\n",
       "      <td>...</td>\n",
       "    </tr>\n",
       "    <tr>\n",
       "      <th>609</th>\n",
       "      <td>1</td>\n",
       "      <td>0</td>\n",
       "      <td>1</td>\n",
       "      <td>0</td>\n",
       "      <td>1</td>\n",
       "      <td>0</td>\n",
       "      <td>0</td>\n",
       "      <td>0</td>\n",
       "      <td>1</td>\n",
       "      <td>0</td>\n",
       "      <td>1</td>\n",
       "      <td>0</td>\n",
       "      <td>1</td>\n",
       "      <td>0</td>\n",
       "      <td>0</td>\n",
       "      <td>7.972466</td>\n",
       "      <td>0.000000</td>\n",
       "      <td>4.262680</td>\n",
       "      <td>360.0</td>\n",
       "      <td>1.0</td>\n",
       "    </tr>\n",
       "    <tr>\n",
       "      <th>610</th>\n",
       "      <td>0</td>\n",
       "      <td>1</td>\n",
       "      <td>0</td>\n",
       "      <td>1</td>\n",
       "      <td>0</td>\n",
       "      <td>0</td>\n",
       "      <td>0</td>\n",
       "      <td>1</td>\n",
       "      <td>1</td>\n",
       "      <td>0</td>\n",
       "      <td>1</td>\n",
       "      <td>0</td>\n",
       "      <td>1</td>\n",
       "      <td>0</td>\n",
       "      <td>0</td>\n",
       "      <td>8.320205</td>\n",
       "      <td>0.000000</td>\n",
       "      <td>3.688879</td>\n",
       "      <td>180.0</td>\n",
       "      <td>1.0</td>\n",
       "    </tr>\n",
       "    <tr>\n",
       "      <th>611</th>\n",
       "      <td>0</td>\n",
       "      <td>1</td>\n",
       "      <td>0</td>\n",
       "      <td>1</td>\n",
       "      <td>0</td>\n",
       "      <td>1</td>\n",
       "      <td>0</td>\n",
       "      <td>0</td>\n",
       "      <td>1</td>\n",
       "      <td>0</td>\n",
       "      <td>1</td>\n",
       "      <td>0</td>\n",
       "      <td>0</td>\n",
       "      <td>0</td>\n",
       "      <td>1</td>\n",
       "      <td>8.996157</td>\n",
       "      <td>15.491933</td>\n",
       "      <td>5.533389</td>\n",
       "      <td>360.0</td>\n",
       "      <td>1.0</td>\n",
       "    </tr>\n",
       "    <tr>\n",
       "      <th>612</th>\n",
       "      <td>0</td>\n",
       "      <td>1</td>\n",
       "      <td>0</td>\n",
       "      <td>1</td>\n",
       "      <td>0</td>\n",
       "      <td>0</td>\n",
       "      <td>1</td>\n",
       "      <td>0</td>\n",
       "      <td>1</td>\n",
       "      <td>0</td>\n",
       "      <td>1</td>\n",
       "      <td>0</td>\n",
       "      <td>0</td>\n",
       "      <td>0</td>\n",
       "      <td>1</td>\n",
       "      <td>8.933664</td>\n",
       "      <td>0.000000</td>\n",
       "      <td>5.231109</td>\n",
       "      <td>360.0</td>\n",
       "      <td>1.0</td>\n",
       "    </tr>\n",
       "    <tr>\n",
       "      <th>613</th>\n",
       "      <td>1</td>\n",
       "      <td>0</td>\n",
       "      <td>1</td>\n",
       "      <td>0</td>\n",
       "      <td>1</td>\n",
       "      <td>0</td>\n",
       "      <td>0</td>\n",
       "      <td>0</td>\n",
       "      <td>1</td>\n",
       "      <td>0</td>\n",
       "      <td>0</td>\n",
       "      <td>1</td>\n",
       "      <td>0</td>\n",
       "      <td>1</td>\n",
       "      <td>0</td>\n",
       "      <td>8.430109</td>\n",
       "      <td>0.000000</td>\n",
       "      <td>4.890349</td>\n",
       "      <td>360.0</td>\n",
       "      <td>0.0</td>\n",
       "    </tr>\n",
       "  </tbody>\n",
       "</table>\n",
       "<p>614 rows × 20 columns</p>\n",
       "</div>"
      ],
      "text/plain": [
       "     Gender_Female  Gender_Male  Married_No  Married_Yes  Dependents_0  \\\n",
       "0                0            1           1            0             1   \n",
       "1                0            1           0            1             0   \n",
       "2                0            1           0            1             1   \n",
       "3                0            1           0            1             1   \n",
       "4                0            1           1            0             1   \n",
       "..             ...          ...         ...          ...           ...   \n",
       "609              1            0           1            0             1   \n",
       "610              0            1           0            1             0   \n",
       "611              0            1           0            1             0   \n",
       "612              0            1           0            1             0   \n",
       "613              1            0           1            0             1   \n",
       "\n",
       "     Dependents_1  Dependents_2  Dependents_3  Education_Graduate  \\\n",
       "0               0             0             0                   1   \n",
       "1               1             0             0                   1   \n",
       "2               0             0             0                   1   \n",
       "3               0             0             0                   0   \n",
       "4               0             0             0                   1   \n",
       "..            ...           ...           ...                 ...   \n",
       "609             0             0             0                   1   \n",
       "610             0             0             1                   1   \n",
       "611             1             0             0                   1   \n",
       "612             0             1             0                   1   \n",
       "613             0             0             0                   1   \n",
       "\n",
       "     Education_Not Graduate  Self_Employed_No  Self_Employed_Yes  \\\n",
       "0                         0                 1                  0   \n",
       "1                         0                 1                  0   \n",
       "2                         0                 0                  1   \n",
       "3                         1                 1                  0   \n",
       "4                         0                 1                  0   \n",
       "..                      ...               ...                ...   \n",
       "609                       0                 1                  0   \n",
       "610                       0                 1                  0   \n",
       "611                       0                 1                  0   \n",
       "612                       0                 1                  0   \n",
       "613                       0                 0                  1   \n",
       "\n",
       "     Property_Area_Rural  Property_Area_Semiurban  Property_Area_Urban  \\\n",
       "0                      0                        0                    1   \n",
       "1                      1                        0                    0   \n",
       "2                      0                        0                    1   \n",
       "3                      0                        0                    1   \n",
       "4                      0                        0                    1   \n",
       "..                   ...                      ...                  ...   \n",
       "609                    1                        0                    0   \n",
       "610                    1                        0                    0   \n",
       "611                    0                        0                    1   \n",
       "612                    0                        0                    1   \n",
       "613                    0                        1                    0   \n",
       "\n",
       "     ApplicantIncome  CoapplicantIncome  LoanAmount  Loan_Amount_Term  \\\n",
       "0           8.674026           0.000000    4.986426             360.0   \n",
       "1           8.595180          38.832976    4.852030             360.0   \n",
       "2           8.006368           0.000000    4.189655             360.0   \n",
       "3           7.856707          48.559242    4.787492             360.0   \n",
       "4           8.699515           0.000000    4.948760             360.0   \n",
       "..               ...                ...         ...               ...   \n",
       "609         7.972466           0.000000    4.262680             360.0   \n",
       "610         8.320205           0.000000    3.688879             180.0   \n",
       "611         8.996157          15.491933    5.533389             360.0   \n",
       "612         8.933664           0.000000    5.231109             360.0   \n",
       "613         8.430109           0.000000    4.890349             360.0   \n",
       "\n",
       "     Credit_History  \n",
       "0               1.0  \n",
       "1               1.0  \n",
       "2               1.0  \n",
       "3               1.0  \n",
       "4               1.0  \n",
       "..              ...  \n",
       "609             1.0  \n",
       "610             1.0  \n",
       "611             1.0  \n",
       "612             1.0  \n",
       "613             0.0  \n",
       "\n",
       "[614 rows x 20 columns]"
      ]
     },
     "execution_count": 61,
     "metadata": {},
     "output_type": "execute_result"
    }
   ],
   "source": [
    "X"
   ]
  },
  {
   "cell_type": "code",
   "execution_count": 62,
   "id": "0fb0c3e3",
   "metadata": {},
   "outputs": [],
   "source": [
    "from sklearn.preprocessing import LabelEncoder\n",
    "le = LabelEncoder()\n",
    "Y.Loan_Status = le.fit_transform(Y)\n",
    "from warnings import filterwarnings\n",
    "filterwarnings(\"ignore\")"
   ]
  },
  {
   "cell_type": "code",
   "execution_count": 63,
   "id": "5bb53c3f",
   "metadata": {},
   "outputs": [
    {
     "data": {
      "text/html": [
       "<div>\n",
       "<style scoped>\n",
       "    .dataframe tbody tr th:only-of-type {\n",
       "        vertical-align: middle;\n",
       "    }\n",
       "\n",
       "    .dataframe tbody tr th {\n",
       "        vertical-align: top;\n",
       "    }\n",
       "\n",
       "    .dataframe thead th {\n",
       "        text-align: right;\n",
       "    }\n",
       "</style>\n",
       "<table border=\"1\" class=\"dataframe\">\n",
       "  <thead>\n",
       "    <tr style=\"text-align: right;\">\n",
       "      <th></th>\n",
       "      <th>Loan_Status</th>\n",
       "    </tr>\n",
       "  </thead>\n",
       "  <tbody>\n",
       "    <tr>\n",
       "      <th>0</th>\n",
       "      <td>1</td>\n",
       "    </tr>\n",
       "    <tr>\n",
       "      <th>1</th>\n",
       "      <td>0</td>\n",
       "    </tr>\n",
       "    <tr>\n",
       "      <th>2</th>\n",
       "      <td>1</td>\n",
       "    </tr>\n",
       "  </tbody>\n",
       "</table>\n",
       "</div>"
      ],
      "text/plain": [
       "   Loan_Status\n",
       "0            1\n",
       "1            0\n",
       "2            1"
      ]
     },
     "execution_count": 63,
     "metadata": {},
     "output_type": "execute_result"
    }
   ],
   "source": [
    "Y.head(3)"
   ]
  },
  {
   "cell_type": "markdown",
   "id": "fd35e81d",
   "metadata": {},
   "source": [
    "# Divide X and Y into training and testing"
   ]
  },
  {
   "cell_type": "code",
   "execution_count": 64,
   "id": "b8a087f5",
   "metadata": {},
   "outputs": [],
   "source": [
    "from sklearn.model_selection import train_test_split\n",
    "xtrain,xtest,ytrain,ytest = train_test_split(X,Y,test_size=0.2,random_state=32)"
   ]
  },
  {
   "cell_type": "markdown",
   "id": "c878b398",
   "metadata": {},
   "source": [
    "# Creating ML Models and choose one of the best"
   ]
  },
  {
   "cell_type": "markdown",
   "id": "7c30df81",
   "metadata": {},
   "source": [
    "# 1) Logistic Classifier Model"
   ]
  },
  {
   "cell_type": "code",
   "execution_count": 65,
   "id": "dda7d2f7",
   "metadata": {},
   "outputs": [],
   "source": [
    "from sklearn.linear_model import LogisticRegression\n",
    "\n",
    "lr = LogisticRegression()\n",
    "lr_model = lr.fit(xtrain,ytrain)"
   ]
  },
  {
   "cell_type": "markdown",
   "id": "40127566",
   "metadata": {},
   "source": [
    "# Calculating train and test error"
   ]
  },
  {
   "cell_type": "code",
   "execution_count": 66,
   "id": "714aa63a",
   "metadata": {},
   "outputs": [
    {
     "name": "stdout",
     "output_type": "stream",
     "text": [
      "Logistic Model Train Accuracy:  0.8147\n",
      "Logistic Model Test Accuracy:  0.7886\n"
     ]
    }
   ],
   "source": [
    "from sklearn.metrics import accuracy_score\n",
    "\n",
    "pred_tr_lrmodel = lr_model.predict(xtrain)\n",
    "acc_tr_lrmodel = round(accuracy_score(ytrain,pred_tr_lrmodel),4)\n",
    "print(\"Logistic Model Train Accuracy: \",acc_tr_lrmodel)\n",
    "\n",
    "pred_ts_lrmodel = lr_model.predict(xtest)\n",
    "acc_ts_lrmodel = round(accuracy_score(ytest,pred_ts_lrmodel),4)\n",
    "print(\"Logistic Model Test Accuracy: \",acc_ts_lrmodel)"
   ]
  },
  {
   "cell_type": "markdown",
   "id": "eafc90e5",
   "metadata": {},
   "source": [
    "# 2) Naive Bayes Model"
   ]
  },
  {
   "cell_type": "code",
   "execution_count": 67,
   "id": "b666671a",
   "metadata": {},
   "outputs": [],
   "source": [
    "from sklearn.naive_bayes import GaussianNB\n",
    "\n",
    "nb = GaussianNB()\n",
    "nb_model = nb.fit(xtrain,ytrain)"
   ]
  },
  {
   "cell_type": "markdown",
   "id": "556a5756",
   "metadata": {},
   "source": [
    "# Calculating train and test error"
   ]
  },
  {
   "cell_type": "code",
   "execution_count": 68,
   "id": "6757d5e7",
   "metadata": {},
   "outputs": [
    {
     "name": "stdout",
     "output_type": "stream",
     "text": [
      "Naive Bayes Model Train Accuracy :  0.8106\n",
      "Naive Bayes Model Test Accuracy:  0.7886\n"
     ]
    }
   ],
   "source": [
    "pred_tr_nbmodel = nb_model.predict(xtrain)\n",
    "acc_tr_nbmodel = round(accuracy_score(ytrain,pred_tr_nbmodel),4)\n",
    "print(\"Naive Bayes Model Train Accuracy : \",acc_tr_nbmodel)\n",
    "\n",
    "pred_ts_nbmodel = nb_model.predict(xtest)\n",
    "acc_ts_nbmodel = round(accuracy_score(ytest,pred_ts_nbmodel),4)\n",
    "print(\"Naive Bayes Model Test Accuracy: \",acc_ts_nbmodel)"
   ]
  },
  {
   "cell_type": "markdown",
   "id": "dc35a870",
   "metadata": {},
   "source": [
    "# 3) Decision Tree"
   ]
  },
  {
   "cell_type": "code",
   "execution_count": 70,
   "id": "1477ca76",
   "metadata": {},
   "outputs": [],
   "source": [
    "from sklearn.tree import DecisionTreeClassifier\n",
    "\n",
    "dtr_model = DecisionTreeClassifier(random_state=32)\n",
    "model = dtr_model.fit(xtrain,ytrain)\n"
   ]
  },
  {
   "cell_type": "markdown",
   "id": "c4cbe10b",
   "metadata": {},
   "source": [
    "# Calculating train and test error\n"
   ]
  },
  {
   "cell_type": "code",
   "execution_count": 71,
   "id": "01819626",
   "metadata": {},
   "outputs": [
    {
     "name": "stdout",
     "output_type": "stream",
     "text": [
      "Decision Tree Model Train Accuracy:  1.0\n",
      "Decision Tree Model Test Accuracy:  0.748\n"
     ]
    }
   ],
   "source": [
    "pred_tr_dtrmodel = model.predict(xtrain)\n",
    "acc_tr_dtrmodel = round(accuracy_score(ytrain,pred_tr_dtrmodel),4)\n",
    "print(\"Decision Tree Model Train Accuracy: \",acc_tr_dtrmodel)\n",
    "\n",
    "pred_ts_dtrmodel = model.predict(xtest)\n",
    "acc_ts_dtrmodel = round(accuracy_score(ytest,pred_ts_dtrmodel),4)\n",
    "print(\"Decision Tree Model Test Accuracy: \",acc_ts_dtrmodel)"
   ]
  },
  {
   "cell_type": "markdown",
   "id": "5b262830",
   "metadata": {},
   "source": [
    "# 4) Random Forest Model\n",
    "Finding best value for n Estimators, max depth using GridSearchCV"
   ]
  },
  {
   "cell_type": "code",
   "execution_count": 72,
   "id": "422a5818",
   "metadata": {},
   "outputs": [
    {
     "data": {
      "text/plain": [
       "{'max_depth': 5, 'n_estimators': 13}"
      ]
     },
     "execution_count": 72,
     "metadata": {},
     "output_type": "execute_result"
    }
   ],
   "source": [
    "from sklearn.ensemble import RandomForestClassifier\n",
    "from sklearn.model_selection import GridSearchCV\n",
    "\n",
    "tg = {\"max_depth\":range(2,15,1),\"n_estimators\":range(2,15,1)}\n",
    "rfr = RandomForestClassifier(random_state=21)\n",
    "cv = GridSearchCV(rfr,tg,scoring=\"accuracy\",cv=4)\n",
    "cvmodel = cv.fit(xtrain,ytrain)\n",
    "cvmodel.best_params_"
   ]
  },
  {
   "cell_type": "markdown",
   "id": "a295ea27",
   "metadata": {},
   "source": [
    "# Creating Random Forest Model"
   ]
  },
  {
   "cell_type": "code",
   "execution_count": 73,
   "id": "e2442268",
   "metadata": {},
   "outputs": [],
   "source": [
    "rfr2 = RandomForestClassifier(n_estimators=4, random_state=21, max_depth=2)\n",
    "model_rfr = rfr2.fit(xtrain,ytrain)"
   ]
  },
  {
   "cell_type": "markdown",
   "id": "078cbb0c",
   "metadata": {},
   "source": [
    "# Calculating train and test error"
   ]
  },
  {
   "cell_type": "code",
   "execution_count": 75,
   "id": "700a3b7f",
   "metadata": {},
   "outputs": [
    {
     "name": "stdout",
     "output_type": "stream",
     "text": [
      "Random Forest Model Train Accuracy:  0.7312\n",
      "Decision Tree Model Test Accuracy:  0.6829\n"
     ]
    }
   ],
   "source": [
    "pred_tr_rfrmodel = model_rfr.predict(xtrain)\n",
    "acc_tr_rfrmodel = round(accuracy_score(ytrain,pred_tr_rfrmodel),4)\n",
    "print(\"Random Forest Model Train Accuracy: \",acc_tr_rfrmodel)\n",
    "\n",
    "pred_ts_rfrmodel = model_rfr.predict(xtest)\n",
    "acc_ts_rfrmodel = round(accuracy_score(ytest,pred_ts_rfrmodel),4)\n",
    "print(\"Decision Tree Model Test Accuracy: \",acc_ts_rfrmodel)"
   ]
  },
  {
   "cell_type": "markdown",
   "id": "e4e9d257",
   "metadata": {},
   "source": [
    "# 5) Adaboost Model\n",
    "Finding best value for n Estimators, max depth using GridSearchCV"
   ]
  },
  {
   "cell_type": "code",
   "execution_count": 76,
   "id": "0dceb072",
   "metadata": {},
   "outputs": [
    {
     "data": {
      "text/plain": [
       "{'n_estimators': 2}"
      ]
     },
     "execution_count": 76,
     "metadata": {},
     "output_type": "execute_result"
    }
   ],
   "source": [
    "from sklearn.ensemble import AdaBoostClassifier\n",
    "from sklearn.tree import DecisionTreeClassifier\n",
    "from sklearn.model_selection import GridSearchCV\n",
    "\n",
    "tg = {\"n_estimators\":range(2,15,1)}\n",
    "abm = AdaBoostClassifier(DecisionTreeClassifier(random_state=21,max_depth=2),random_state=21)\n",
    "cv = GridSearchCV(abm,tg,scoring=\"accuracy\",cv=4)\n",
    "cvmodel = cv.fit(xtrain,ytrain)\n",
    "cvmodel.best_params_"
   ]
  },
  {
   "cell_type": "markdown",
   "id": "09ed14ba",
   "metadata": {},
   "source": [
    "# Creating Adaboost Model"
   ]
  },
  {
   "cell_type": "code",
   "execution_count": 77,
   "id": "2d71ea78",
   "metadata": {},
   "outputs": [],
   "source": [
    "boost = AdaBoostClassifier(DecisionTreeClassifier(random_state=21,max_depth=2),n_estimators=2,random_state=21)\n",
    "model_abm = boost.fit(xtrain,ytrain)"
   ]
  },
  {
   "cell_type": "markdown",
   "id": "04e25bd4",
   "metadata": {},
   "source": [
    "# Calculating train and test error"
   ]
  },
  {
   "cell_type": "code",
   "execution_count": 78,
   "id": "d1eb4a27",
   "metadata": {},
   "outputs": [
    {
     "name": "stdout",
     "output_type": "stream",
     "text": [
      "Adaboost Model Train Accuracy:  0.8228\n",
      "Adaboost Model Test Accuracy:  0.7805\n"
     ]
    }
   ],
   "source": [
    "pred_tr_abmmodel = model_abm.predict(xtrain)\n",
    "acc_tr_abmmodel = round(accuracy_score(ytrain,pred_tr_abmmodel),4)\n",
    "print(\"Adaboost Model Train Accuracy: \",acc_tr_abmmodel)\n",
    "\n",
    "pred_ts_abmmodel = model_abm.predict(xtest)\n",
    "acc_ts_abmmodel = round(accuracy_score(ytest,pred_ts_abmmodel),4)\n",
    "print(\"Adaboost Model Test Accuracy: \",acc_ts_abmmodel)"
   ]
  },
  {
   "cell_type": "markdown",
   "id": "24347f7f",
   "metadata": {},
   "source": [
    "# 6) KNN Model\n",
    "Finding best value for n neighbors using GridSearchCV"
   ]
  },
  {
   "cell_type": "code",
   "execution_count": 80,
   "id": "6fc9545f",
   "metadata": {},
   "outputs": [
    {
     "data": {
      "text/plain": [
       "{'n_neighbors': 13}"
      ]
     },
     "execution_count": 80,
     "metadata": {},
     "output_type": "execute_result"
    }
   ],
   "source": [
    "from sklearn.neighbors import KNeighborsClassifier\n",
    "\n",
    "tg = {\"n_neighbors\":range(2,15,1)}\n",
    "knn = KNeighborsClassifier()\n",
    "cv = GridSearchCV(knn,tg,scoring=\"accuracy\",cv=4)\n",
    "cvmodel = cv.fit(xtrain,ytrain)\n",
    "cvmodel.best_params_"
   ]
  },
  {
   "cell_type": "markdown",
   "id": "3edbed37",
   "metadata": {},
   "source": [
    "# Creating KNN Model"
   ]
  },
  {
   "cell_type": "code",
   "execution_count": 82,
   "id": "87f0666e",
   "metadata": {},
   "outputs": [],
   "source": [
    "kn = KNeighborsClassifier(n_neighbors=13)\n",
    "knn_model = kn.fit(xtrain,ytrain)"
   ]
  },
  {
   "cell_type": "markdown",
   "id": "c7f80e76",
   "metadata": {},
   "source": [
    "# Calculating train and test error"
   ]
  },
  {
   "cell_type": "code",
   "execution_count": 84,
   "id": "7259216b",
   "metadata": {},
   "outputs": [
    {
     "name": "stdout",
     "output_type": "stream",
     "text": [
      "KNN Model Train Accuracy:  0.7108\n",
      "KNN Model Test Accuracy:  0.7886\n"
     ]
    }
   ],
   "source": [
    "pred_tr_knnmodel = knn_model.predict(xtrain)\n",
    "acc_tr_knnmodel = round(accuracy_score(ytrain,pred_tr_knnmodel),4)\n",
    "print(\"KNN Model Train Accuracy: \",acc_tr_knnmodel)\n",
    "\n",
    "pred_ts_knnmodel = knn_model.predict(xtest)\n",
    "acc_ts_knnmodel = round(accuracy_score(ytest,pred_ts_knnmodel),4)\n",
    "print(\"KNN Model Test Accuracy: \",acc_ts_nbmodel)"
   ]
  },
  {
   "cell_type": "markdown",
   "id": "fdefecbd",
   "metadata": {},
   "source": [
    "# Naive Bayes Model is the best among all models\n",
    "Train Naive Bayes Model overall trainning data"
   ]
  },
  {
   "cell_type": "code",
   "execution_count": 85,
   "id": "13787451",
   "metadata": {},
   "outputs": [],
   "source": [
    "nb1 = GaussianNB()\n",
    "model  = nb1.fit(X,Y)"
   ]
  },
  {
   "cell_type": "markdown",
   "id": "2d853991",
   "metadata": {},
   "source": [
    "# Prepare testing data same as training data"
   ]
  },
  {
   "cell_type": "code",
   "execution_count": 158,
   "id": "bedf5d6f",
   "metadata": {},
   "outputs": [],
   "source": [
    "from pandas import read_csv\n",
    "B = read_csv(\"C://Users/Kallesh/OneDrive/Desktop/testing_sets.csv\")"
   ]
  },
  {
   "cell_type": "code",
   "execution_count": 159,
   "id": "652649e3",
   "metadata": {},
   "outputs": [
    {
     "data": {
      "text/html": [
       "<div>\n",
       "<style scoped>\n",
       "    .dataframe tbody tr th:only-of-type {\n",
       "        vertical-align: middle;\n",
       "    }\n",
       "\n",
       "    .dataframe tbody tr th {\n",
       "        vertical-align: top;\n",
       "    }\n",
       "\n",
       "    .dataframe thead th {\n",
       "        text-align: right;\n",
       "    }\n",
       "</style>\n",
       "<table border=\"1\" class=\"dataframe\">\n",
       "  <thead>\n",
       "    <tr style=\"text-align: right;\">\n",
       "      <th></th>\n",
       "      <th>Loan_ID</th>\n",
       "      <th>Gender</th>\n",
       "      <th>Married</th>\n",
       "      <th>Dependents</th>\n",
       "      <th>Education</th>\n",
       "      <th>Self_Employed</th>\n",
       "      <th>ApplicantIncome</th>\n",
       "      <th>CoapplicantIncome</th>\n",
       "      <th>LoanAmount</th>\n",
       "      <th>Loan_Amount_Term</th>\n",
       "      <th>Credit_History</th>\n",
       "      <th>Property_Area</th>\n",
       "    </tr>\n",
       "  </thead>\n",
       "  <tbody>\n",
       "    <tr>\n",
       "      <th>0</th>\n",
       "      <td>LP001015</td>\n",
       "      <td>Male</td>\n",
       "      <td>Yes</td>\n",
       "      <td>0</td>\n",
       "      <td>Graduate</td>\n",
       "      <td>No</td>\n",
       "      <td>5720</td>\n",
       "      <td>0</td>\n",
       "      <td>110.0</td>\n",
       "      <td>360.0</td>\n",
       "      <td>1.0</td>\n",
       "      <td>Urban</td>\n",
       "    </tr>\n",
       "    <tr>\n",
       "      <th>1</th>\n",
       "      <td>LP001022</td>\n",
       "      <td>Male</td>\n",
       "      <td>Yes</td>\n",
       "      <td>1</td>\n",
       "      <td>Graduate</td>\n",
       "      <td>No</td>\n",
       "      <td>3076</td>\n",
       "      <td>1500</td>\n",
       "      <td>126.0</td>\n",
       "      <td>360.0</td>\n",
       "      <td>1.0</td>\n",
       "      <td>Urban</td>\n",
       "    </tr>\n",
       "    <tr>\n",
       "      <th>2</th>\n",
       "      <td>LP001031</td>\n",
       "      <td>Male</td>\n",
       "      <td>Yes</td>\n",
       "      <td>2</td>\n",
       "      <td>Graduate</td>\n",
       "      <td>No</td>\n",
       "      <td>5000</td>\n",
       "      <td>1800</td>\n",
       "      <td>208.0</td>\n",
       "      <td>360.0</td>\n",
       "      <td>1.0</td>\n",
       "      <td>Urban</td>\n",
       "    </tr>\n",
       "  </tbody>\n",
       "</table>\n",
       "</div>"
      ],
      "text/plain": [
       "    Loan_ID Gender Married Dependents Education Self_Employed  \\\n",
       "0  LP001015   Male     Yes          0  Graduate            No   \n",
       "1  LP001022   Male     Yes          1  Graduate            No   \n",
       "2  LP001031   Male     Yes          2  Graduate            No   \n",
       "\n",
       "   ApplicantIncome  CoapplicantIncome  LoanAmount  Loan_Amount_Term  \\\n",
       "0             5720                  0       110.0             360.0   \n",
       "1             3076               1500       126.0             360.0   \n",
       "2             5000               1800       208.0             360.0   \n",
       "\n",
       "   Credit_History Property_Area  \n",
       "0             1.0         Urban  \n",
       "1             1.0         Urban  \n",
       "2             1.0         Urban  "
      ]
     },
     "execution_count": 159,
     "metadata": {},
     "output_type": "execute_result"
    }
   ],
   "source": [
    "B.head(3)"
   ]
  },
  {
   "cell_type": "code",
   "execution_count": 160,
   "id": "e16525fb",
   "metadata": {},
   "outputs": [],
   "source": [
    "B = B.drop(labels=[\"Loan_ID\"],axis=1)"
   ]
  },
  {
   "cell_type": "code",
   "execution_count": 161,
   "id": "5ff76e39",
   "metadata": {},
   "outputs": [],
   "source": [
    "from miss import replacer,preprocessing\n",
    "replacer(B)"
   ]
  },
  {
   "cell_type": "code",
   "execution_count": 162,
   "id": "dcfa7e9e",
   "metadata": {},
   "outputs": [],
   "source": [
    "new_dep_B = []\n",
    "new_dep_B = spe_sym_removal(B)\n",
    "B[[\"Dependents\"]] = new_dep_B"
   ]
  },
  {
   "cell_type": "code",
   "execution_count": 163,
   "id": "30ed27a4",
   "metadata": {},
   "outputs": [],
   "source": [
    "cat=[]\n",
    "con=[]\n",
    "\n",
    "for i in B.columns:\n",
    "    if(B[i].dtypes==\"object\"):\n",
    "        cat.append(i)\n",
    "    else:\n",
    "        con.append(i)"
   ]
  },
  {
   "cell_type": "code",
   "execution_count": 164,
   "id": "41c56180",
   "metadata": {},
   "outputs": [
    {
     "data": {
      "text/plain": [
       "['Gender',\n",
       " 'Married',\n",
       " 'Dependents',\n",
       " 'Education',\n",
       " 'Self_Employed',\n",
       " 'Property_Area']"
      ]
     },
     "execution_count": 164,
     "metadata": {},
     "output_type": "execute_result"
    }
   ],
   "source": [
    "cat"
   ]
  },
  {
   "cell_type": "code",
   "execution_count": 165,
   "id": "e9a362e2",
   "metadata": {},
   "outputs": [],
   "source": [
    "import pandas as pd\n",
    "from sklearn.preprocessing import StandardScaler\n",
    "ss = StandardScaler()\n",
    "Xcon = pd.DataFrame(ss.fit_transform(B[con]),columns = con)\n",
    "Xcat = pd.get_dummies(B[cat])"
   ]
  },
  {
   "cell_type": "code",
   "execution_count": 166,
   "id": "aa2bd6ad",
   "metadata": {},
   "outputs": [],
   "source": [
    "B1 = Xcat.join(X[con])"
   ]
  },
  {
   "cell_type": "code",
   "execution_count": 167,
   "id": "47ad8bcc",
   "metadata": {},
   "outputs": [
    {
     "data": {
      "text/html": [
       "<div>\n",
       "<style scoped>\n",
       "    .dataframe tbody tr th:only-of-type {\n",
       "        vertical-align: middle;\n",
       "    }\n",
       "\n",
       "    .dataframe tbody tr th {\n",
       "        vertical-align: top;\n",
       "    }\n",
       "\n",
       "    .dataframe thead th {\n",
       "        text-align: right;\n",
       "    }\n",
       "</style>\n",
       "<table border=\"1\" class=\"dataframe\">\n",
       "  <thead>\n",
       "    <tr style=\"text-align: right;\">\n",
       "      <th></th>\n",
       "      <th>Gender_Female</th>\n",
       "      <th>Gender_Male</th>\n",
       "      <th>Married_No</th>\n",
       "      <th>Married_Yes</th>\n",
       "      <th>Dependents_0</th>\n",
       "      <th>Dependents_1</th>\n",
       "      <th>Dependents_2</th>\n",
       "      <th>Dependents_3</th>\n",
       "      <th>Education_Graduate</th>\n",
       "      <th>Education_Not Graduate</th>\n",
       "      <th>Self_Employed_No</th>\n",
       "      <th>Self_Employed_Yes</th>\n",
       "      <th>Property_Area_Rural</th>\n",
       "      <th>Property_Area_Semiurban</th>\n",
       "      <th>Property_Area_Urban</th>\n",
       "      <th>ApplicantIncome</th>\n",
       "      <th>CoapplicantIncome</th>\n",
       "      <th>LoanAmount</th>\n",
       "      <th>Loan_Amount_Term</th>\n",
       "      <th>Credit_History</th>\n",
       "    </tr>\n",
       "  </thead>\n",
       "  <tbody>\n",
       "    <tr>\n",
       "      <th>0</th>\n",
       "      <td>0</td>\n",
       "      <td>1</td>\n",
       "      <td>0</td>\n",
       "      <td>1</td>\n",
       "      <td>1</td>\n",
       "      <td>0</td>\n",
       "      <td>0</td>\n",
       "      <td>0</td>\n",
       "      <td>1</td>\n",
       "      <td>0</td>\n",
       "      <td>1</td>\n",
       "      <td>0</td>\n",
       "      <td>0</td>\n",
       "      <td>0</td>\n",
       "      <td>1</td>\n",
       "      <td>8.674026</td>\n",
       "      <td>0.000000</td>\n",
       "      <td>4.986426</td>\n",
       "      <td>360.0</td>\n",
       "      <td>1.000000</td>\n",
       "    </tr>\n",
       "    <tr>\n",
       "      <th>1</th>\n",
       "      <td>0</td>\n",
       "      <td>1</td>\n",
       "      <td>0</td>\n",
       "      <td>1</td>\n",
       "      <td>0</td>\n",
       "      <td>1</td>\n",
       "      <td>0</td>\n",
       "      <td>0</td>\n",
       "      <td>1</td>\n",
       "      <td>0</td>\n",
       "      <td>1</td>\n",
       "      <td>0</td>\n",
       "      <td>0</td>\n",
       "      <td>0</td>\n",
       "      <td>1</td>\n",
       "      <td>8.595180</td>\n",
       "      <td>38.832976</td>\n",
       "      <td>4.852030</td>\n",
       "      <td>360.0</td>\n",
       "      <td>1.000000</td>\n",
       "    </tr>\n",
       "    <tr>\n",
       "      <th>2</th>\n",
       "      <td>0</td>\n",
       "      <td>1</td>\n",
       "      <td>0</td>\n",
       "      <td>1</td>\n",
       "      <td>0</td>\n",
       "      <td>0</td>\n",
       "      <td>1</td>\n",
       "      <td>0</td>\n",
       "      <td>1</td>\n",
       "      <td>0</td>\n",
       "      <td>1</td>\n",
       "      <td>0</td>\n",
       "      <td>0</td>\n",
       "      <td>0</td>\n",
       "      <td>1</td>\n",
       "      <td>8.006368</td>\n",
       "      <td>0.000000</td>\n",
       "      <td>4.189655</td>\n",
       "      <td>360.0</td>\n",
       "      <td>1.000000</td>\n",
       "    </tr>\n",
       "    <tr>\n",
       "      <th>3</th>\n",
       "      <td>0</td>\n",
       "      <td>1</td>\n",
       "      <td>0</td>\n",
       "      <td>1</td>\n",
       "      <td>0</td>\n",
       "      <td>0</td>\n",
       "      <td>1</td>\n",
       "      <td>0</td>\n",
       "      <td>1</td>\n",
       "      <td>0</td>\n",
       "      <td>1</td>\n",
       "      <td>0</td>\n",
       "      <td>0</td>\n",
       "      <td>0</td>\n",
       "      <td>1</td>\n",
       "      <td>7.856707</td>\n",
       "      <td>48.559242</td>\n",
       "      <td>4.787492</td>\n",
       "      <td>360.0</td>\n",
       "      <td>1.000000</td>\n",
       "    </tr>\n",
       "    <tr>\n",
       "      <th>4</th>\n",
       "      <td>0</td>\n",
       "      <td>1</td>\n",
       "      <td>1</td>\n",
       "      <td>0</td>\n",
       "      <td>1</td>\n",
       "      <td>0</td>\n",
       "      <td>0</td>\n",
       "      <td>0</td>\n",
       "      <td>0</td>\n",
       "      <td>1</td>\n",
       "      <td>1</td>\n",
       "      <td>0</td>\n",
       "      <td>0</td>\n",
       "      <td>0</td>\n",
       "      <td>1</td>\n",
       "      <td>8.699515</td>\n",
       "      <td>0.000000</td>\n",
       "      <td>4.948760</td>\n",
       "      <td>360.0</td>\n",
       "      <td>1.000000</td>\n",
       "    </tr>\n",
       "    <tr>\n",
       "      <th>...</th>\n",
       "      <td>...</td>\n",
       "      <td>...</td>\n",
       "      <td>...</td>\n",
       "      <td>...</td>\n",
       "      <td>...</td>\n",
       "      <td>...</td>\n",
       "      <td>...</td>\n",
       "      <td>...</td>\n",
       "      <td>...</td>\n",
       "      <td>...</td>\n",
       "      <td>...</td>\n",
       "      <td>...</td>\n",
       "      <td>...</td>\n",
       "      <td>...</td>\n",
       "      <td>...</td>\n",
       "      <td>...</td>\n",
       "      <td>...</td>\n",
       "      <td>...</td>\n",
       "      <td>...</td>\n",
       "      <td>...</td>\n",
       "    </tr>\n",
       "    <tr>\n",
       "      <th>362</th>\n",
       "      <td>0</td>\n",
       "      <td>1</td>\n",
       "      <td>0</td>\n",
       "      <td>1</td>\n",
       "      <td>0</td>\n",
       "      <td>0</td>\n",
       "      <td>0</td>\n",
       "      <td>1</td>\n",
       "      <td>0</td>\n",
       "      <td>1</td>\n",
       "      <td>0</td>\n",
       "      <td>1</td>\n",
       "      <td>0</td>\n",
       "      <td>0</td>\n",
       "      <td>1</td>\n",
       "      <td>8.465900</td>\n",
       "      <td>48.301139</td>\n",
       "      <td>4.867534</td>\n",
       "      <td>360.0</td>\n",
       "      <td>1.000000</td>\n",
       "    </tr>\n",
       "    <tr>\n",
       "      <th>363</th>\n",
       "      <td>0</td>\n",
       "      <td>1</td>\n",
       "      <td>0</td>\n",
       "      <td>1</td>\n",
       "      <td>1</td>\n",
       "      <td>0</td>\n",
       "      <td>0</td>\n",
       "      <td>0</td>\n",
       "      <td>1</td>\n",
       "      <td>0</td>\n",
       "      <td>1</td>\n",
       "      <td>0</td>\n",
       "      <td>0</td>\n",
       "      <td>0</td>\n",
       "      <td>1</td>\n",
       "      <td>8.010692</td>\n",
       "      <td>55.072679</td>\n",
       "      <td>4.553877</td>\n",
       "      <td>300.0</td>\n",
       "      <td>0.842199</td>\n",
       "    </tr>\n",
       "    <tr>\n",
       "      <th>364</th>\n",
       "      <td>0</td>\n",
       "      <td>1</td>\n",
       "      <td>1</td>\n",
       "      <td>0</td>\n",
       "      <td>1</td>\n",
       "      <td>0</td>\n",
       "      <td>0</td>\n",
       "      <td>0</td>\n",
       "      <td>1</td>\n",
       "      <td>0</td>\n",
       "      <td>1</td>\n",
       "      <td>0</td>\n",
       "      <td>0</td>\n",
       "      <td>1</td>\n",
       "      <td>0</td>\n",
       "      <td>8.827908</td>\n",
       "      <td>0.000000</td>\n",
       "      <td>4.948760</td>\n",
       "      <td>360.0</td>\n",
       "      <td>1.000000</td>\n",
       "    </tr>\n",
       "    <tr>\n",
       "      <th>365</th>\n",
       "      <td>0</td>\n",
       "      <td>1</td>\n",
       "      <td>0</td>\n",
       "      <td>1</td>\n",
       "      <td>1</td>\n",
       "      <td>0</td>\n",
       "      <td>0</td>\n",
       "      <td>0</td>\n",
       "      <td>1</td>\n",
       "      <td>0</td>\n",
       "      <td>1</td>\n",
       "      <td>0</td>\n",
       "      <td>1</td>\n",
       "      <td>0</td>\n",
       "      <td>0</td>\n",
       "      <td>8.734882</td>\n",
       "      <td>0.000000</td>\n",
       "      <td>4.890349</td>\n",
       "      <td>360.0</td>\n",
       "      <td>1.000000</td>\n",
       "    </tr>\n",
       "    <tr>\n",
       "      <th>366</th>\n",
       "      <td>0</td>\n",
       "      <td>1</td>\n",
       "      <td>1</td>\n",
       "      <td>0</td>\n",
       "      <td>1</td>\n",
       "      <td>0</td>\n",
       "      <td>0</td>\n",
       "      <td>0</td>\n",
       "      <td>1</td>\n",
       "      <td>0</td>\n",
       "      <td>0</td>\n",
       "      <td>1</td>\n",
       "      <td>1</td>\n",
       "      <td>0</td>\n",
       "      <td>0</td>\n",
       "      <td>7.824046</td>\n",
       "      <td>0.000000</td>\n",
       "      <td>4.564348</td>\n",
       "      <td>480.0</td>\n",
       "      <td>1.000000</td>\n",
       "    </tr>\n",
       "  </tbody>\n",
       "</table>\n",
       "<p>367 rows × 20 columns</p>\n",
       "</div>"
      ],
      "text/plain": [
       "     Gender_Female  Gender_Male  Married_No  Married_Yes  Dependents_0  \\\n",
       "0                0            1           0            1             1   \n",
       "1                0            1           0            1             0   \n",
       "2                0            1           0            1             0   \n",
       "3                0            1           0            1             0   \n",
       "4                0            1           1            0             1   \n",
       "..             ...          ...         ...          ...           ...   \n",
       "362              0            1           0            1             0   \n",
       "363              0            1           0            1             1   \n",
       "364              0            1           1            0             1   \n",
       "365              0            1           0            1             1   \n",
       "366              0            1           1            0             1   \n",
       "\n",
       "     Dependents_1  Dependents_2  Dependents_3  Education_Graduate  \\\n",
       "0               0             0             0                   1   \n",
       "1               1             0             0                   1   \n",
       "2               0             1             0                   1   \n",
       "3               0             1             0                   1   \n",
       "4               0             0             0                   0   \n",
       "..            ...           ...           ...                 ...   \n",
       "362             0             0             1                   0   \n",
       "363             0             0             0                   1   \n",
       "364             0             0             0                   1   \n",
       "365             0             0             0                   1   \n",
       "366             0             0             0                   1   \n",
       "\n",
       "     Education_Not Graduate  Self_Employed_No  Self_Employed_Yes  \\\n",
       "0                         0                 1                  0   \n",
       "1                         0                 1                  0   \n",
       "2                         0                 1                  0   \n",
       "3                         0                 1                  0   \n",
       "4                         1                 1                  0   \n",
       "..                      ...               ...                ...   \n",
       "362                       1                 0                  1   \n",
       "363                       0                 1                  0   \n",
       "364                       0                 1                  0   \n",
       "365                       0                 1                  0   \n",
       "366                       0                 0                  1   \n",
       "\n",
       "     Property_Area_Rural  Property_Area_Semiurban  Property_Area_Urban  \\\n",
       "0                      0                        0                    1   \n",
       "1                      0                        0                    1   \n",
       "2                      0                        0                    1   \n",
       "3                      0                        0                    1   \n",
       "4                      0                        0                    1   \n",
       "..                   ...                      ...                  ...   \n",
       "362                    0                        0                    1   \n",
       "363                    0                        0                    1   \n",
       "364                    0                        1                    0   \n",
       "365                    1                        0                    0   \n",
       "366                    1                        0                    0   \n",
       "\n",
       "     ApplicantIncome  CoapplicantIncome  LoanAmount  Loan_Amount_Term  \\\n",
       "0           8.674026           0.000000    4.986426             360.0   \n",
       "1           8.595180          38.832976    4.852030             360.0   \n",
       "2           8.006368           0.000000    4.189655             360.0   \n",
       "3           7.856707          48.559242    4.787492             360.0   \n",
       "4           8.699515           0.000000    4.948760             360.0   \n",
       "..               ...                ...         ...               ...   \n",
       "362         8.465900          48.301139    4.867534             360.0   \n",
       "363         8.010692          55.072679    4.553877             300.0   \n",
       "364         8.827908           0.000000    4.948760             360.0   \n",
       "365         8.734882           0.000000    4.890349             360.0   \n",
       "366         7.824046           0.000000    4.564348             480.0   \n",
       "\n",
       "     Credit_History  \n",
       "0          1.000000  \n",
       "1          1.000000  \n",
       "2          1.000000  \n",
       "3          1.000000  \n",
       "4          1.000000  \n",
       "..              ...  \n",
       "362        1.000000  \n",
       "363        0.842199  \n",
       "364        1.000000  \n",
       "365        1.000000  \n",
       "366        1.000000  \n",
       "\n",
       "[367 rows x 20 columns]"
      ]
     },
     "execution_count": 167,
     "metadata": {},
     "output_type": "execute_result"
    }
   ],
   "source": [
    "B1"
   ]
  },
  {
   "cell_type": "markdown",
   "id": "071aa3b0",
   "metadata": {},
   "source": [
    "# Predicting Loan Status"
   ]
  },
  {
   "cell_type": "code",
   "execution_count": 195,
   "id": "e923e61b",
   "metadata": {},
   "outputs": [],
   "source": [
    "predicted_LoanStatus = model.predict(B1)"
   ]
  },
  {
   "cell_type": "code",
   "execution_count": 196,
   "id": "8a1623fe",
   "metadata": {},
   "outputs": [],
   "source": [
    "Loan_Status = le.inverse_transform(predicted_LoanStatus)"
   ]
  },
  {
   "cell_type": "code",
   "execution_count": 197,
   "id": "7d4a4480",
   "metadata": {},
   "outputs": [],
   "source": [
    "B[[\"Loan_Status\"]] = Loan_Status"
   ]
  },
  {
   "cell_type": "code",
   "execution_count": 198,
   "id": "e8b91502",
   "metadata": {},
   "outputs": [
    {
     "data": {
      "text/plain": [
       "Y    316\n",
       "N     51\n",
       "Name: Loan_Status, dtype: int64"
      ]
     },
     "execution_count": 198,
     "metadata": {},
     "output_type": "execute_result"
    }
   ],
   "source": [
    "B.Loan_Status.value_counts()"
   ]
  },
  {
   "cell_type": "code",
   "execution_count": 199,
   "id": "7855a186",
   "metadata": {},
   "outputs": [
    {
     "data": {
      "text/html": [
       "<div>\n",
       "<style scoped>\n",
       "    .dataframe tbody tr th:only-of-type {\n",
       "        vertical-align: middle;\n",
       "    }\n",
       "\n",
       "    .dataframe tbody tr th {\n",
       "        vertical-align: top;\n",
       "    }\n",
       "\n",
       "    .dataframe thead th {\n",
       "        text-align: right;\n",
       "    }\n",
       "</style>\n",
       "<table border=\"1\" class=\"dataframe\">\n",
       "  <thead>\n",
       "    <tr style=\"text-align: right;\">\n",
       "      <th></th>\n",
       "      <th>Gender</th>\n",
       "      <th>Married</th>\n",
       "      <th>Dependents</th>\n",
       "      <th>Education</th>\n",
       "      <th>Self_Employed</th>\n",
       "      <th>ApplicantIncome</th>\n",
       "      <th>CoapplicantIncome</th>\n",
       "      <th>LoanAmount</th>\n",
       "      <th>Loan_Amount_Term</th>\n",
       "      <th>Credit_History</th>\n",
       "      <th>Property_Area</th>\n",
       "      <th>Loan_Status</th>\n",
       "    </tr>\n",
       "  </thead>\n",
       "  <tbody>\n",
       "    <tr>\n",
       "      <th>0</th>\n",
       "      <td>Male</td>\n",
       "      <td>Yes</td>\n",
       "      <td>0</td>\n",
       "      <td>Graduate</td>\n",
       "      <td>No</td>\n",
       "      <td>5720</td>\n",
       "      <td>0</td>\n",
       "      <td>110.0</td>\n",
       "      <td>360.0</td>\n",
       "      <td>1.00</td>\n",
       "      <td>Urban</td>\n",
       "      <td>Y</td>\n",
       "    </tr>\n",
       "    <tr>\n",
       "      <th>1</th>\n",
       "      <td>Male</td>\n",
       "      <td>Yes</td>\n",
       "      <td>1</td>\n",
       "      <td>Graduate</td>\n",
       "      <td>No</td>\n",
       "      <td>3076</td>\n",
       "      <td>1500</td>\n",
       "      <td>126.0</td>\n",
       "      <td>360.0</td>\n",
       "      <td>1.00</td>\n",
       "      <td>Urban</td>\n",
       "      <td>Y</td>\n",
       "    </tr>\n",
       "    <tr>\n",
       "      <th>2</th>\n",
       "      <td>Male</td>\n",
       "      <td>Yes</td>\n",
       "      <td>2</td>\n",
       "      <td>Graduate</td>\n",
       "      <td>No</td>\n",
       "      <td>5000</td>\n",
       "      <td>1800</td>\n",
       "      <td>208.0</td>\n",
       "      <td>360.0</td>\n",
       "      <td>1.00</td>\n",
       "      <td>Urban</td>\n",
       "      <td>Y</td>\n",
       "    </tr>\n",
       "    <tr>\n",
       "      <th>3</th>\n",
       "      <td>Male</td>\n",
       "      <td>Yes</td>\n",
       "      <td>2</td>\n",
       "      <td>Graduate</td>\n",
       "      <td>No</td>\n",
       "      <td>2340</td>\n",
       "      <td>2546</td>\n",
       "      <td>100.0</td>\n",
       "      <td>360.0</td>\n",
       "      <td>0.83</td>\n",
       "      <td>Urban</td>\n",
       "      <td>Y</td>\n",
       "    </tr>\n",
       "    <tr>\n",
       "      <th>4</th>\n",
       "      <td>Male</td>\n",
       "      <td>No</td>\n",
       "      <td>0</td>\n",
       "      <td>Not Graduate</td>\n",
       "      <td>No</td>\n",
       "      <td>3276</td>\n",
       "      <td>0</td>\n",
       "      <td>78.0</td>\n",
       "      <td>360.0</td>\n",
       "      <td>1.00</td>\n",
       "      <td>Urban</td>\n",
       "      <td>Y</td>\n",
       "    </tr>\n",
       "  </tbody>\n",
       "</table>\n",
       "</div>"
      ],
      "text/plain": [
       "  Gender Married Dependents     Education Self_Employed  ApplicantIncome  \\\n",
       "0   Male     Yes          0      Graduate            No             5720   \n",
       "1   Male     Yes          1      Graduate            No             3076   \n",
       "2   Male     Yes          2      Graduate            No             5000   \n",
       "3   Male     Yes          2      Graduate            No             2340   \n",
       "4   Male      No          0  Not Graduate            No             3276   \n",
       "\n",
       "   CoapplicantIncome  LoanAmount  Loan_Amount_Term  Credit_History  \\\n",
       "0                  0       110.0             360.0            1.00   \n",
       "1               1500       126.0             360.0            1.00   \n",
       "2               1800       208.0             360.0            1.00   \n",
       "3               2546       100.0             360.0            0.83   \n",
       "4                  0        78.0             360.0            1.00   \n",
       "\n",
       "  Property_Area Loan_Status  \n",
       "0         Urban           Y  \n",
       "1         Urban           Y  \n",
       "2         Urban           Y  \n",
       "3         Urban           Y  \n",
       "4         Urban           Y  "
      ]
     },
     "execution_count": 199,
     "metadata": {},
     "output_type": "execute_result"
    }
   ],
   "source": [
    "B.head()"
   ]
  },
  {
   "cell_type": "markdown",
   "id": "ccc12057",
   "metadata": {},
   "source": [
    "# 2.Identify customer segments from given data and categorize customer into one of the segments."
   ]
  },
  {
   "cell_type": "code",
   "execution_count": 213,
   "id": "6aefad0a",
   "metadata": {},
   "outputs": [],
   "source": [
    "clust_train = A.drop(labels=[\"LoanAmount\",\"Loan_Amount_Term\",\"Loan_Status\"],axis=1)"
   ]
  },
  {
   "cell_type": "markdown",
   "id": "de2278ec",
   "metadata": {},
   "source": [
    "# Data Preprocessing"
   ]
  },
  {
   "cell_type": "code",
   "execution_count": 214,
   "id": "cb3e0aa2",
   "metadata": {},
   "outputs": [],
   "source": [
    "def cat_con_sep(df):\n",
    "    cat = []\n",
    "    con = []\n",
    "    for i in df.columns:\n",
    "        if df[i].dtype == \"object\":\n",
    "            cat.append(i)\n",
    "        \n",
    "        else:\n",
    "            con.append(i)\n",
    "            \n",
    "    \n",
    "    return cat,con"
   ]
  },
  {
   "cell_type": "code",
   "execution_count": 215,
   "id": "ca0d1e78",
   "metadata": {},
   "outputs": [],
   "source": [
    "cat, con = cat_con_sep(clust_train)"
   ]
  },
  {
   "cell_type": "code",
   "execution_count": 216,
   "id": "a7a05ef6",
   "metadata": {},
   "outputs": [],
   "source": [
    "from sklearn.preprocessing import StandardScaler\n",
    "def preprocessing_data(df,cat,con):\n",
    "    ss = StandardScaler()\n",
    "    df1 = pd.get_dummies(df[cat])\n",
    "    df2 = pd.DataFrame(ss.fit_transform(df[con]),columns=con)\n",
    "    df3 = df2.join(df1)\n",
    "    return df3"
   ]
  },
  {
   "cell_type": "code",
   "execution_count": 217,
   "id": "a8d05d2b",
   "metadata": {},
   "outputs": [],
   "source": [
    "clust_train = preprocessing_data(clust_train,cat,con)"
   ]
  },
  {
   "cell_type": "markdown",
   "id": "d3b9e826",
   "metadata": {},
   "source": [
    "# Applying for loop and making Elbow curve for getting best K cluster value"
   ]
  },
  {
   "cell_type": "code",
   "execution_count": 218,
   "id": "12f74879",
   "metadata": {},
   "outputs": [],
   "source": [
    "from sklearn.cluster import KMeans\n",
    "\n",
    "WCSS = []\n",
    "K = range(2,20,1)\n",
    "for i in K:\n",
    "    km = KMeans(n_clusters=i)\n",
    "    model_ser = km.fit(clust_train)\n",
    "    WCSS.append(model_ser.inertia_)"
   ]
  },
  {
   "cell_type": "code",
   "execution_count": 219,
   "id": "68f2b679",
   "metadata": {},
   "outputs": [
    {
     "data": {
      "text/plain": [
       "[2820.267473250377,\n",
       " 2465.5670268057333,\n",
       " 2168.5895548026674,\n",
       " 1819.4129385625274,\n",
       " 1697.4919326538125,\n",
       " 1602.4982278217774,\n",
       " 1500.7097376271379,\n",
       " 1448.3968527186823,\n",
       " 1368.9878529948862,\n",
       " 1321.9075563642382,\n",
       " 1269.351681790662,\n",
       " 1231.7442098956933,\n",
       " 1201.72418892885,\n",
       " 1137.405509696783,\n",
       " 1111.4987533605977,\n",
       " 1091.9739818309338,\n",
       " 1057.3813273153655,\n",
       " 1029.7419795658698]"
      ]
     },
     "execution_count": 219,
     "metadata": {},
     "output_type": "execute_result"
    }
   ],
   "source": [
    "WCSS"
   ]
  },
  {
   "cell_type": "code",
   "execution_count": 220,
   "id": "eba14dc3",
   "metadata": {},
   "outputs": [
    {
     "data": {
      "text/plain": [
       "Text(0.5, 1.0, 'Elbow curve Data')"
      ]
     },
     "execution_count": 220,
     "metadata": {},
     "output_type": "execute_result"
    },
    {
     "data": {
      "image/png": "[encoded data removed]",
      "text/plain": [
       "<Figure size 432x288 with 1 Axes>"
      ]
     },
     "metadata": {
      "needs_background": "light"
     },
     "output_type": "display_data"
    }
   ],
   "source": [
    "import matplotlib.pyplot as plt\n",
    "\n",
    "plt.scatter(K,WCSS,c=\"red\")\n",
    "plt.plot(K,WCSS,c=\"blue\")\n",
    "plt.xlabel(\"Number of Clusters - K\")\n",
    "plt.ylabel(\"Inertia\")\n",
    "plt.xticks(range(1,20,1))\n",
    "plt.title(\"Elbow curve Data\")"
   ]
  },
  {
   "cell_type": "markdown",
   "id": "71eecbef",
   "metadata": {},
   "source": [
    "# Create model with best K value"
   ]
  },
  {
   "cell_type": "code",
   "execution_count": 222,
   "id": "a02bba36",
   "metadata": {},
   "outputs": [],
   "source": [
    "km = KMeans(n_clusters=5)\n",
    "model_clust = km.fit(clust_train) \n"
   ]
  },
  {
   "cell_type": "markdown",
   "id": "a7d75e05",
   "metadata": {},
   "source": [
    "# Prepare test data as same as train data"
   ]
  },
  {
   "cell_type": "code",
   "execution_count": 223,
   "id": "ede416d9",
   "metadata": {},
   "outputs": [],
   "source": [
    "test_data_clst = B.drop(labels=[\"LoanAmount\",\"Loan_Amount_Term\",\"Loan_Status\"],axis=1)"
   ]
  },
  {
   "cell_type": "code",
   "execution_count": 225,
   "id": "6a028c53",
   "metadata": {},
   "outputs": [],
   "source": [
    "cat, con  = cat_con_sep(test_data_clst)"
   ]
  },
  {
   "cell_type": "code",
   "execution_count": 226,
   "id": "41ceae7c",
   "metadata": {},
   "outputs": [],
   "source": [
    "test_data_clst = preprocessing_data(test_data_clst,cat,con)"
   ]
  },
  {
   "cell_type": "markdown",
   "id": "fe7d44b5",
   "metadata": {},
   "source": [
    "# Predict clusters of data"
   ]
  },
  {
   "cell_type": "code",
   "execution_count": 228,
   "id": "79799acd",
   "metadata": {},
   "outputs": [],
   "source": [
    "cluster = model_clust.predict(test_data_clst)"
   ]
  },
  {
   "cell_type": "code",
   "execution_count": 229,
   "id": "cf940e99",
   "metadata": {},
   "outputs": [
    {
     "data": {
      "text/plain": [
       "array([1, 1, 1, 1, 4, 1, 4, 0, 1, 4, 4, 1, 4, 0, 4, 4, 1, 1, 1, 4, 1, 4,\n",
       "       4, 4, 1, 2, 1, 1, 1, 4, 4, 1, 4, 1, 1, 0, 1, 1, 4, 4, 1, 4, 1, 4,\n",
       "       4, 1, 1, 4, 4, 1, 1, 1, 1, 1, 1, 0, 4, 1, 0, 1, 1, 1, 4, 0, 1, 1,\n",
       "       0, 0, 1, 0, 4, 4, 1, 1, 1, 4, 1, 4, 1, 1, 0, 3, 0, 1, 0, 1, 1, 4,\n",
       "       4, 4, 1, 1, 1, 1, 0, 1, 1, 1, 1, 1, 4, 0, 1, 1, 4, 1, 0, 1, 1, 1,\n",
       "       4, 1, 4, 1, 1, 4, 4, 0, 0, 0, 4, 1, 1, 0, 0, 4, 0, 1, 4, 1, 1, 4,\n",
       "       1, 4, 4, 1, 1, 1, 4, 4, 0, 1, 0, 3, 1, 4, 4, 0, 1, 4, 4, 1, 4, 0,\n",
       "       1, 4, 1, 1, 4, 1, 4, 0, 4, 4, 4, 0, 0, 1, 0, 1, 4, 1, 1, 0, 0, 1,\n",
       "       1, 4, 1, 1, 1, 1, 1, 1, 1, 1, 1, 1, 1, 1, 1, 4, 0, 0, 1, 4, 0, 1,\n",
       "       0, 1, 1, 1, 1, 1, 4, 1, 1, 1, 4, 4, 4, 0, 1, 4, 1, 1, 1, 1, 1, 1,\n",
       "       1, 1, 1, 4, 0, 4, 1, 1, 4, 0, 2, 4, 1, 4, 1, 0, 0, 2, 1, 4, 4, 0,\n",
       "       1, 0, 4, 0, 1, 1, 1, 4, 0, 1, 4, 1, 1, 0, 1, 1, 1, 4, 1, 1, 4, 1,\n",
       "       1, 4, 0, 4, 0, 4, 1, 4, 3, 0, 0, 1, 1, 4, 0, 3, 4, 1, 4, 4, 1, 1,\n",
       "       1, 4, 4, 1, 1, 1, 4, 0, 1, 1, 4, 4, 1, 1, 1, 0, 4, 1, 1, 4, 1, 1,\n",
       "       1, 1, 4, 0, 4, 1, 4, 1, 1, 0, 4, 4, 1, 1, 1, 4, 1, 0, 1, 1, 1, 1,\n",
       "       1, 1, 1, 1, 1, 4, 4, 1, 1, 0, 1, 4, 1, 1, 4, 1, 0, 4, 1, 1, 1, 2,\n",
       "       1, 1, 0, 1, 1, 4, 1, 4, 1, 1, 1, 1, 4, 1, 4])"
      ]
     },
     "execution_count": 229,
     "metadata": {},
     "output_type": "execute_result"
    }
   ],
   "source": [
    "cluster"
   ]
  },
  {
   "cell_type": "code",
   "execution_count": 230,
   "id": "b810b644",
   "metadata": {},
   "outputs": [],
   "source": [
    "E = B.drop(labels=[\"LoanAmount\",\"Loan_Amount_Term\",\"Loan_Status\"],axis=1)"
   ]
  },
  {
   "cell_type": "code",
   "execution_count": 231,
   "id": "7034eeb2",
   "metadata": {},
   "outputs": [],
   "source": [
    "E[\"Cluster\"] = cluster"
   ]
  },
  {
   "cell_type": "code",
   "execution_count": 232,
   "id": "d66c2290",
   "metadata": {},
   "outputs": [
    {
     "data": {
      "text/html": [
       "<div>\n",
       "<style scoped>\n",
       "    .dataframe tbody tr th:only-of-type {\n",
       "        vertical-align: middle;\n",
       "    }\n",
       "\n",
       "    .dataframe tbody tr th {\n",
       "        vertical-align: top;\n",
       "    }\n",
       "\n",
       "    .dataframe thead th {\n",
       "        text-align: right;\n",
       "    }\n",
       "</style>\n",
       "<table border=\"1\" class=\"dataframe\">\n",
       "  <thead>\n",
       "    <tr style=\"text-align: right;\">\n",
       "      <th></th>\n",
       "      <th>Gender</th>\n",
       "      <th>Married</th>\n",
       "      <th>Dependents</th>\n",
       "      <th>Education</th>\n",
       "      <th>Self_Employed</th>\n",
       "      <th>ApplicantIncome</th>\n",
       "      <th>CoapplicantIncome</th>\n",
       "      <th>Credit_History</th>\n",
       "      <th>Property_Area</th>\n",
       "      <th>Cluster</th>\n",
       "    </tr>\n",
       "  </thead>\n",
       "  <tbody>\n",
       "    <tr>\n",
       "      <th>0</th>\n",
       "      <td>Male</td>\n",
       "      <td>Yes</td>\n",
       "      <td>0</td>\n",
       "      <td>Graduate</td>\n",
       "      <td>No</td>\n",
       "      <td>5720</td>\n",
       "      <td>0</td>\n",
       "      <td>1.00</td>\n",
       "      <td>Urban</td>\n",
       "      <td>1</td>\n",
       "    </tr>\n",
       "    <tr>\n",
       "      <th>1</th>\n",
       "      <td>Male</td>\n",
       "      <td>Yes</td>\n",
       "      <td>1</td>\n",
       "      <td>Graduate</td>\n",
       "      <td>No</td>\n",
       "      <td>3076</td>\n",
       "      <td>1500</td>\n",
       "      <td>1.00</td>\n",
       "      <td>Urban</td>\n",
       "      <td>1</td>\n",
       "    </tr>\n",
       "    <tr>\n",
       "      <th>2</th>\n",
       "      <td>Male</td>\n",
       "      <td>Yes</td>\n",
       "      <td>2</td>\n",
       "      <td>Graduate</td>\n",
       "      <td>No</td>\n",
       "      <td>5000</td>\n",
       "      <td>1800</td>\n",
       "      <td>1.00</td>\n",
       "      <td>Urban</td>\n",
       "      <td>1</td>\n",
       "    </tr>\n",
       "    <tr>\n",
       "      <th>3</th>\n",
       "      <td>Male</td>\n",
       "      <td>Yes</td>\n",
       "      <td>2</td>\n",
       "      <td>Graduate</td>\n",
       "      <td>No</td>\n",
       "      <td>2340</td>\n",
       "      <td>2546</td>\n",
       "      <td>0.83</td>\n",
       "      <td>Urban</td>\n",
       "      <td>1</td>\n",
       "    </tr>\n",
       "    <tr>\n",
       "      <th>4</th>\n",
       "      <td>Male</td>\n",
       "      <td>No</td>\n",
       "      <td>0</td>\n",
       "      <td>Not Graduate</td>\n",
       "      <td>No</td>\n",
       "      <td>3276</td>\n",
       "      <td>0</td>\n",
       "      <td>1.00</td>\n",
       "      <td>Urban</td>\n",
       "      <td>4</td>\n",
       "    </tr>\n",
       "  </tbody>\n",
       "</table>\n",
       "</div>"
      ],
      "text/plain": [
       "  Gender Married Dependents     Education Self_Employed  ApplicantIncome  \\\n",
       "0   Male     Yes          0      Graduate            No             5720   \n",
       "1   Male     Yes          1      Graduate            No             3076   \n",
       "2   Male     Yes          2      Graduate            No             5000   \n",
       "3   Male     Yes          2      Graduate            No             2340   \n",
       "4   Male      No          0  Not Graduate            No             3276   \n",
       "\n",
       "   CoapplicantIncome  Credit_History Property_Area  Cluster  \n",
       "0                  0            1.00         Urban        1  \n",
       "1               1500            1.00         Urban        1  \n",
       "2               1800            1.00         Urban        1  \n",
       "3               2546            0.83         Urban        1  \n",
       "4                  0            1.00         Urban        4  "
      ]
     },
     "execution_count": 232,
     "metadata": {},
     "output_type": "execute_result"
    }
   ],
   "source": [
    "E.head()"
   ]
  },
  {
   "cell_type": "code",
   "execution_count": 233,
   "id": "46c8766d",
   "metadata": {},
   "outputs": [
    {
     "data": {
      "text/plain": [
       "Cluster\n",
       "0     58\n",
       "1    195\n",
       "2      4\n",
       "3      4\n",
       "4    106\n",
       "Name: Cluster, dtype: int64"
      ]
     },
     "execution_count": 233,
     "metadata": {},
     "output_type": "execute_result"
    }
   ],
   "source": [
    "E.groupby(by=\"Cluster\")[\"Cluster\"].count()"
   ]
  },
  {
   "cell_type": "code",
   "execution_count": 234,
   "id": "6c3e6fbc",
   "metadata": {},
   "outputs": [],
   "source": [
    "cls_name = { \n",
    "    0:\"Good Credit History\",\n",
    "    1:\"Good Income and Credit history\",\n",
    "    2:\"Bad Credit History\",\n",
    "    3:\"Highest Coapplicant Income\",\n",
    "    4:\"Highest Applicant Income\"\n",
    "}"
   ]
  },
  {
   "cell_type": "code",
   "execution_count": 235,
   "id": "2e5fe9d3",
   "metadata": {},
   "outputs": [],
   "source": [
    "tag_clu = []\n",
    "for i in E.Cluster:\n",
    "    tag_clu.append(cls_name[i])\n",
    "    \n",
    "E[\"Customer Segmentation\"] = tag_clu"
   ]
  },
  {
   "cell_type": "code",
   "execution_count": 236,
   "id": "2d768df4",
   "metadata": {},
   "outputs": [
    {
     "data": {
      "text/html": [
       "<div>\n",
       "<style scoped>\n",
       "    .dataframe tbody tr th:only-of-type {\n",
       "        vertical-align: middle;\n",
       "    }\n",
       "\n",
       "    .dataframe tbody tr th {\n",
       "        vertical-align: top;\n",
       "    }\n",
       "\n",
       "    .dataframe thead th {\n",
       "        text-align: right;\n",
       "    }\n",
       "</style>\n",
       "<table border=\"1\" class=\"dataframe\">\n",
       "  <thead>\n",
       "    <tr style=\"text-align: right;\">\n",
       "      <th></th>\n",
       "      <th>Gender</th>\n",
       "      <th>Married</th>\n",
       "      <th>Dependents</th>\n",
       "      <th>Education</th>\n",
       "      <th>Self_Employed</th>\n",
       "      <th>ApplicantIncome</th>\n",
       "      <th>CoapplicantIncome</th>\n",
       "      <th>Credit_History</th>\n",
       "      <th>Property_Area</th>\n",
       "      <th>Cluster</th>\n",
       "      <th>Customer Segmentation</th>\n",
       "    </tr>\n",
       "  </thead>\n",
       "  <tbody>\n",
       "    <tr>\n",
       "      <th>0</th>\n",
       "      <td>Male</td>\n",
       "      <td>Yes</td>\n",
       "      <td>0</td>\n",
       "      <td>Graduate</td>\n",
       "      <td>No</td>\n",
       "      <td>5720</td>\n",
       "      <td>0</td>\n",
       "      <td>1.00</td>\n",
       "      <td>Urban</td>\n",
       "      <td>1</td>\n",
       "      <td>Good Income and Credit history</td>\n",
       "    </tr>\n",
       "    <tr>\n",
       "      <th>1</th>\n",
       "      <td>Male</td>\n",
       "      <td>Yes</td>\n",
       "      <td>1</td>\n",
       "      <td>Graduate</td>\n",
       "      <td>No</td>\n",
       "      <td>3076</td>\n",
       "      <td>1500</td>\n",
       "      <td>1.00</td>\n",
       "      <td>Urban</td>\n",
       "      <td>1</td>\n",
       "      <td>Good Income and Credit history</td>\n",
       "    </tr>\n",
       "    <tr>\n",
       "      <th>2</th>\n",
       "      <td>Male</td>\n",
       "      <td>Yes</td>\n",
       "      <td>2</td>\n",
       "      <td>Graduate</td>\n",
       "      <td>No</td>\n",
       "      <td>5000</td>\n",
       "      <td>1800</td>\n",
       "      <td>1.00</td>\n",
       "      <td>Urban</td>\n",
       "      <td>1</td>\n",
       "      <td>Good Income and Credit history</td>\n",
       "    </tr>\n",
       "    <tr>\n",
       "      <th>3</th>\n",
       "      <td>Male</td>\n",
       "      <td>Yes</td>\n",
       "      <td>2</td>\n",
       "      <td>Graduate</td>\n",
       "      <td>No</td>\n",
       "      <td>2340</td>\n",
       "      <td>2546</td>\n",
       "      <td>0.83</td>\n",
       "      <td>Urban</td>\n",
       "      <td>1</td>\n",
       "      <td>Good Income and Credit history</td>\n",
       "    </tr>\n",
       "    <tr>\n",
       "      <th>4</th>\n",
       "      <td>Male</td>\n",
       "      <td>No</td>\n",
       "      <td>0</td>\n",
       "      <td>Not Graduate</td>\n",
       "      <td>No</td>\n",
       "      <td>3276</td>\n",
       "      <td>0</td>\n",
       "      <td>1.00</td>\n",
       "      <td>Urban</td>\n",
       "      <td>4</td>\n",
       "      <td>Highest Applicant Income</td>\n",
       "    </tr>\n",
       "  </tbody>\n",
       "</table>\n",
       "</div>"
      ],
      "text/plain": [
       "  Gender Married Dependents     Education Self_Employed  ApplicantIncome  \\\n",
       "0   Male     Yes          0      Graduate            No             5720   \n",
       "1   Male     Yes          1      Graduate            No             3076   \n",
       "2   Male     Yes          2      Graduate            No             5000   \n",
       "3   Male     Yes          2      Graduate            No             2340   \n",
       "4   Male      No          0  Not Graduate            No             3276   \n",
       "\n",
       "   CoapplicantIncome  Credit_History Property_Area  Cluster  \\\n",
       "0                  0            1.00         Urban        1   \n",
       "1               1500            1.00         Urban        1   \n",
       "2               1800            1.00         Urban        1   \n",
       "3               2546            0.83         Urban        1   \n",
       "4                  0            1.00         Urban        4   \n",
       "\n",
       "            Customer Segmentation  \n",
       "0  Good Income and Credit history  \n",
       "1  Good Income and Credit history  \n",
       "2  Good Income and Credit history  \n",
       "3  Good Income and Credit history  \n",
       "4        Highest Applicant Income  "
      ]
     },
     "execution_count": 236,
     "metadata": {},
     "output_type": "execute_result"
    }
   ],
   "source": [
    "E.head()"
   ]
  },
  {
   "cell_type": "markdown",
   "id": "96ad7e3c",
   "metadata": {},
   "source": [
    "# 2. If customer is not eligible for the input required amount and duration:\n",
    "a. what can be amount for the given duration.\n",
    "Get data which have Loan_Status is yes"
   ]
  },
  {
   "cell_type": "code",
   "execution_count": 237,
   "id": "044826a2",
   "metadata": {},
   "outputs": [],
   "source": [
    "train_data1 = A[A[\"Loan_Status\"]==\"Y\"]\n"
   ]
  },
  {
   "cell_type": "markdown",
   "id": "3b59a7fc",
   "metadata": {},
   "source": [
    "# Indexing properly\n"
   ]
  },
  {
   "cell_type": "code",
   "execution_count": 238,
   "id": "1a2ee857",
   "metadata": {},
   "outputs": [],
   "source": [
    "len_train_data1 = train_data1.shape[0]\n",
    "train_data1.index = range(0,len_train_data1,1)\n"
   ]
  },
  {
   "cell_type": "markdown",
   "id": "3ee64d7b",
   "metadata": {},
   "source": [
    "# Remove Unwanted column\n"
   ]
  },
  {
   "cell_type": "code",
   "execution_count": 239,
   "id": "9d24760a",
   "metadata": {},
   "outputs": [],
   "source": [
    "train_data1 = train_data1.drop(labels=\"Loan_Status\",axis=1)\n"
   ]
  },
  {
   "cell_type": "markdown",
   "id": "1cd9fc90",
   "metadata": {},
   "source": [
    "# Declare X and Y\n"
   ]
  },
  {
   "cell_type": "code",
   "execution_count": 241,
   "id": "387d9256",
   "metadata": {},
   "outputs": [],
   "source": [
    "X = train_data1.drop(labels=\"LoanAmount\",axis=1)\n",
    "Y = train_data1[[\"LoanAmount\"]]\n"
   ]
  },
  {
   "cell_type": "markdown",
   "id": "8e9956b1",
   "metadata": {},
   "source": [
    "# EDA\n",
    "1)Unvariant"
   ]
  },
  {
   "cell_type": "code",
   "execution_count": 242,
   "id": "b8d8d135",
   "metadata": {},
   "outputs": [
    {
     "data": {
      "image/png": "[encoded data removed]",
      "text/plain": [
       "<Figure size 1440x2880 with 10 Axes>"
      ]
     },
     "metadata": {
      "needs_background": "light"
     },
     "output_type": "display_data"
    }
   ],
   "source": [
    "import matplotlib.pyplot as pt\n",
    "pt.figure(figsize=(20,40))\n",
    "q = 1\n",
    "for i in X.columns:\n",
    "    if X[i].dtype == \"object\":\n",
    "        pt.subplot(11,3,q)\n",
    "        sb.countplot(X[i])\n",
    "        q = q + 1\n",
    "        \n",
    "    else:\n",
    "        pt.subplot(11,3,q)\n",
    "        sb.distplot(X[i])\n",
    "        q = q + 1\n"
   ]
  },
  {
   "cell_type": "markdown",
   "id": "2292d5d8",
   "metadata": {},
   "source": [
    "# 2)Bivariant"
   ]
  },
  {
   "cell_type": "code",
   "execution_count": 243,
   "id": "31da1a56",
   "metadata": {},
   "outputs": [
    {
     "data": {
      "image/png": "[encoded data removed]",
      "text/plain": [
       "<Figure size 1440x2880 with 10 Axes>"
      ]
     },
     "metadata": {
      "needs_background": "light"
     },
     "output_type": "display_data"
    }
   ],
   "source": [
    "import matplotlib.pyplot as pt\n",
    "pt.figure(figsize=(20,40))\n",
    "q = 1\n",
    "for i in X.columns:\n",
    "    if X[i].dtype == \"object\":\n",
    "        pt.subplot(11,3,q)\n",
    "        sb.boxplot(X[i],Y.LoanAmount)\n",
    "        q = q + 1\n",
    "        \n",
    "    else:\n",
    "        pt.subplot(11,3,q)\n",
    "        sb.scatterplot(X[i],Y.LoanAmount)\n",
    "        q = q + 1\n"
   ]
  },
  {
   "cell_type": "markdown",
   "id": "f1435c6b",
   "metadata": {},
   "source": [
    "# Data Preprocessing\n"
   ]
  },
  {
   "cell_type": "code",
   "execution_count": 244,
   "id": "ddb04282",
   "metadata": {},
   "outputs": [],
   "source": [
    "cat, con = cat_con_sep(X)\n"
   ]
  },
  {
   "cell_type": "code",
   "execution_count": 245,
   "id": "61fc7b1b",
   "metadata": {},
   "outputs": [
    {
     "data": {
      "text/plain": [
       "ApplicantIncome      5.500304\n",
       "CoapplicantIncome    3.042653\n",
       "Loan_Amount_Term    -2.619580\n",
       "Credit_History      -6.430558\n",
       "dtype: float64"
      ]
     },
     "execution_count": 245,
     "metadata": {},
     "output_type": "execute_result"
    }
   ],
   "source": [
    "X[con].skew()\n"
   ]
  },
  {
   "cell_type": "code",
   "execution_count": 246,
   "id": "cb25ff6e",
   "metadata": {},
   "outputs": [],
   "source": [
    "from numpy import log, sqrt\n",
    "X.ApplicantIncome = log(X.ApplicantIncome)\n",
    "X.CoapplicantIncome = sqrt(X.CoapplicantIncome)\n"
   ]
  },
  {
   "cell_type": "code",
   "execution_count": 247,
   "id": "73307750",
   "metadata": {},
   "outputs": [
    {
     "data": {
      "text/plain": [
       "ApplicantIncome      0.694509\n",
       "CoapplicantIncome    0.351333\n",
       "Loan_Amount_Term    -2.619580\n",
       "Credit_History      -6.430558\n",
       "dtype: float64"
      ]
     },
     "execution_count": 247,
     "metadata": {},
     "output_type": "execute_result"
    }
   ],
   "source": [
    "X[con].skew()\n"
   ]
  },
  {
   "cell_type": "code",
   "execution_count": 248,
   "id": "83603aea",
   "metadata": {},
   "outputs": [],
   "source": [
    "X = preprocessing_data(X,cat,con)\n"
   ]
  },
  {
   "cell_type": "markdown",
   "id": "9202bdb1",
   "metadata": {},
   "source": [
    "# Divide X and Y into training and testing data\n"
   ]
  },
  {
   "cell_type": "code",
   "execution_count": 249,
   "id": "759c6290",
   "metadata": {},
   "outputs": [],
   "source": [
    "xtrain,xtest,ytrain,ytest = train_test_split(X,Y,test_size=0.2,random_state=32)\n"
   ]
  },
  {
   "cell_type": "markdown",
   "id": "aff429fa",
   "metadata": {},
   "source": [
    "# Creating ML Models and choose one of the best\n",
    "1) Multiple Linear Regressor Model"
   ]
  },
  {
   "cell_type": "code",
   "execution_count": 250,
   "id": "1b83a448",
   "metadata": {},
   "outputs": [],
   "source": [
    "from sklearn.linear_model import LinearRegression\n",
    "lm = LinearRegression()\n",
    "lm1_model = lm.fit(xtrain,ytrain)\n"
   ]
  },
  {
   "cell_type": "markdown",
   "id": "12470430",
   "metadata": {},
   "source": [
    "# Calculating train and test error\n"
   ]
  },
  {
   "cell_type": "code",
   "execution_count": 252,
   "id": "003eecfb",
   "metadata": {},
   "outputs": [
    {
     "name": "stdout",
     "output_type": "stream",
     "text": [
      "MLR Training MAE:  39.6296\n",
      "MLR Testing MAE:  36.9114\n"
     ]
    }
   ],
   "source": [
    "from sklearn.metrics import mean_absolute_error\n",
    "\n",
    "pred_tr_lm1model = lm1_model.predict(xtrain)\n",
    "err_tr_lm1model = round(mean_absolute_error(ytrain,pred_tr_lm1model),4)\n",
    "print(\"MLR Training MAE: \",err_tr_lm1model)\n",
    "\n",
    "pred_ts_lm1model = lm1_model.predict(xtest)\n",
    "\n",
    "err_ts_lm1model = round(mean_absolute_error(ytest,pred_ts_lm1model),4)\n",
    "print(\"MLR Testing MAE: \",err_ts_lm1model)\n"
   ]
  },
  {
   "cell_type": "markdown",
   "id": "d1c1e9a4",
   "metadata": {},
   "source": [
    "# Check collinearity\n"
   ]
  },
  {
   "cell_type": "code",
   "execution_count": 253,
   "id": "69d3fddd",
   "metadata": {},
   "outputs": [
    {
     "data": {
      "text/html": [
       "<div>\n",
       "<style scoped>\n",
       "    .dataframe tbody tr th:only-of-type {\n",
       "        vertical-align: middle;\n",
       "    }\n",
       "\n",
       "    .dataframe tbody tr th {\n",
       "        vertical-align: top;\n",
       "    }\n",
       "\n",
       "    .dataframe thead th {\n",
       "        text-align: right;\n",
       "    }\n",
       "</style>\n",
       "<table border=\"1\" class=\"dataframe\">\n",
       "  <thead>\n",
       "    <tr style=\"text-align: right;\">\n",
       "      <th></th>\n",
       "      <th>ApplicantIncome</th>\n",
       "      <th>CoapplicantIncome</th>\n",
       "      <th>Loan_Amount_Term</th>\n",
       "      <th>Credit_History</th>\n",
       "      <th>Gender_Female</th>\n",
       "      <th>Gender_Male</th>\n",
       "      <th>Married_No</th>\n",
       "      <th>Married_Yes</th>\n",
       "      <th>Dependents_0</th>\n",
       "      <th>Dependents_1</th>\n",
       "      <th>Dependents_2</th>\n",
       "      <th>Dependents_3</th>\n",
       "      <th>Education_Graduate</th>\n",
       "      <th>Education_Not Graduate</th>\n",
       "      <th>Self_Employed_No</th>\n",
       "      <th>Self_Employed_Yes</th>\n",
       "      <th>Property_Area_Rural</th>\n",
       "      <th>Property_Area_Semiurban</th>\n",
       "      <th>Property_Area_Urban</th>\n",
       "    </tr>\n",
       "  </thead>\n",
       "  <tbody>\n",
       "    <tr>\n",
       "      <th>ApplicantIncome</th>\n",
       "      <td>1.000000</td>\n",
       "      <td>-0.359967</td>\n",
       "      <td>-0.100766</td>\n",
       "      <td>-0.030626</td>\n",
       "      <td>-0.064333</td>\n",
       "      <td>0.064333</td>\n",
       "      <td>-0.026420</td>\n",
       "      <td>0.026420</td>\n",
       "      <td>-0.155161</td>\n",
       "      <td>0.064852</td>\n",
       "      <td>0.019814</td>\n",
       "      <td>0.168624</td>\n",
       "      <td>0.179037</td>\n",
       "      <td>-0.179037</td>\n",
       "      <td>-0.229608</td>\n",
       "      <td>0.229608</td>\n",
       "      <td>-0.020304</td>\n",
       "      <td>-0.010096</td>\n",
       "      <td>0.029926</td>\n",
       "    </tr>\n",
       "    <tr>\n",
       "      <th>CoapplicantIncome</th>\n",
       "      <td>-0.359967</td>\n",
       "      <td>1.000000</td>\n",
       "      <td>0.061589</td>\n",
       "      <td>-0.033723</td>\n",
       "      <td>-0.208240</td>\n",
       "      <td>0.208240</td>\n",
       "      <td>-0.243592</td>\n",
       "      <td>0.243592</td>\n",
       "      <td>0.040999</td>\n",
       "      <td>-0.040114</td>\n",
       "      <td>0.072589</td>\n",
       "      <td>-0.124854</td>\n",
       "      <td>0.000261</td>\n",
       "      <td>-0.000261</td>\n",
       "      <td>0.072563</td>\n",
       "      <td>-0.072563</td>\n",
       "      <td>0.088023</td>\n",
       "      <td>-0.014162</td>\n",
       "      <td>-0.068110</td>\n",
       "    </tr>\n",
       "    <tr>\n",
       "      <th>Loan_Amount_Term</th>\n",
       "      <td>-0.100766</td>\n",
       "      <td>0.061589</td>\n",
       "      <td>1.000000</td>\n",
       "      <td>0.069202</td>\n",
       "      <td>0.085819</td>\n",
       "      <td>-0.085819</td>\n",
       "      <td>0.104130</td>\n",
       "      <td>-0.104130</td>\n",
       "      <td>0.081389</td>\n",
       "      <td>-0.042534</td>\n",
       "      <td>-0.031030</td>\n",
       "      <td>-0.047392</td>\n",
       "      <td>0.040525</td>\n",
       "      <td>-0.040525</td>\n",
       "      <td>0.010387</td>\n",
       "      <td>-0.010387</td>\n",
       "      <td>0.043834</td>\n",
       "      <td>0.088347</td>\n",
       "      <td>-0.135402</td>\n",
       "    </tr>\n",
       "    <tr>\n",
       "      <th>Credit_History</th>\n",
       "      <td>-0.030626</td>\n",
       "      <td>-0.033723</td>\n",
       "      <td>0.069202</td>\n",
       "      <td>1.000000</td>\n",
       "      <td>-0.013747</td>\n",
       "      <td>0.013747</td>\n",
       "      <td>-0.013089</td>\n",
       "      <td>0.013089</td>\n",
       "      <td>0.026188</td>\n",
       "      <td>0.002985</td>\n",
       "      <td>0.016866</td>\n",
       "      <td>-0.076234</td>\n",
       "      <td>0.003735</td>\n",
       "      <td>-0.003735</td>\n",
       "      <td>-0.039577</td>\n",
       "      <td>0.039577</td>\n",
       "      <td>-0.009352</td>\n",
       "      <td>-0.010410</td>\n",
       "      <td>0.019911</td>\n",
       "    </tr>\n",
       "    <tr>\n",
       "      <th>Gender_Female</th>\n",
       "      <td>-0.064333</td>\n",
       "      <td>-0.208240</td>\n",
       "      <td>0.085819</td>\n",
       "      <td>-0.013747</td>\n",
       "      <td>1.000000</td>\n",
       "      <td>-1.000000</td>\n",
       "      <td>0.361989</td>\n",
       "      <td>-0.361989</td>\n",
       "      <td>0.152266</td>\n",
       "      <td>0.021676</td>\n",
       "      <td>-0.137232</td>\n",
       "      <td>-0.112321</td>\n",
       "      <td>0.008984</td>\n",
       "      <td>-0.008984</td>\n",
       "      <td>0.017406</td>\n",
       "      <td>-0.017406</td>\n",
       "      <td>-0.078364</td>\n",
       "      <td>0.127774</td>\n",
       "      <td>-0.061876</td>\n",
       "    </tr>\n",
       "    <tr>\n",
       "      <th>Gender_Male</th>\n",
       "      <td>0.064333</td>\n",
       "      <td>0.208240</td>\n",
       "      <td>-0.085819</td>\n",
       "      <td>0.013747</td>\n",
       "      <td>-1.000000</td>\n",
       "      <td>1.000000</td>\n",
       "      <td>-0.361989</td>\n",
       "      <td>0.361989</td>\n",
       "      <td>-0.152266</td>\n",
       "      <td>-0.021676</td>\n",
       "      <td>0.137232</td>\n",
       "      <td>0.112321</td>\n",
       "      <td>-0.008984</td>\n",
       "      <td>0.008984</td>\n",
       "      <td>-0.017406</td>\n",
       "      <td>0.017406</td>\n",
       "      <td>0.078364</td>\n",
       "      <td>-0.127774</td>\n",
       "      <td>0.061876</td>\n",
       "    </tr>\n",
       "    <tr>\n",
       "      <th>Married_No</th>\n",
       "      <td>-0.026420</td>\n",
       "      <td>-0.243592</td>\n",
       "      <td>0.104130</td>\n",
       "      <td>-0.013089</td>\n",
       "      <td>0.361989</td>\n",
       "      <td>-0.361989</td>\n",
       "      <td>1.000000</td>\n",
       "      <td>-1.000000</td>\n",
       "      <td>0.346842</td>\n",
       "      <td>-0.111515</td>\n",
       "      <td>-0.253452</td>\n",
       "      <td>-0.122834</td>\n",
       "      <td>-0.025243</td>\n",
       "      <td>0.025243</td>\n",
       "      <td>0.011734</td>\n",
       "      <td>-0.011734</td>\n",
       "      <td>0.035611</td>\n",
       "      <td>-0.008640</td>\n",
       "      <td>-0.024458</td>\n",
       "    </tr>\n",
       "    <tr>\n",
       "      <th>Married_Yes</th>\n",
       "      <td>0.026420</td>\n",
       "      <td>0.243592</td>\n",
       "      <td>-0.104130</td>\n",
       "      <td>0.013089</td>\n",
       "      <td>-0.361989</td>\n",
       "      <td>0.361989</td>\n",
       "      <td>-1.000000</td>\n",
       "      <td>1.000000</td>\n",
       "      <td>-0.346842</td>\n",
       "      <td>0.111515</td>\n",
       "      <td>0.253452</td>\n",
       "      <td>0.122834</td>\n",
       "      <td>0.025243</td>\n",
       "      <td>-0.025243</td>\n",
       "      <td>-0.011734</td>\n",
       "      <td>0.011734</td>\n",
       "      <td>-0.035611</td>\n",
       "      <td>0.008640</td>\n",
       "      <td>0.024458</td>\n",
       "    </tr>\n",
       "    <tr>\n",
       "      <th>Dependents_0</th>\n",
       "      <td>-0.155161</td>\n",
       "      <td>0.040999</td>\n",
       "      <td>0.081389</td>\n",
       "      <td>0.026188</td>\n",
       "      <td>0.152266</td>\n",
       "      <td>-0.152266</td>\n",
       "      <td>0.346842</td>\n",
       "      <td>-0.346842</td>\n",
       "      <td>1.000000</td>\n",
       "      <td>-0.511536</td>\n",
       "      <td>-0.556799</td>\n",
       "      <td>-0.346028</td>\n",
       "      <td>0.060723</td>\n",
       "      <td>-0.060723</td>\n",
       "      <td>0.067731</td>\n",
       "      <td>-0.067731</td>\n",
       "      <td>0.050576</td>\n",
       "      <td>0.021702</td>\n",
       "      <td>-0.070877</td>\n",
       "    </tr>\n",
       "    <tr>\n",
       "      <th>Dependents_1</th>\n",
       "      <td>0.064852</td>\n",
       "      <td>-0.040114</td>\n",
       "      <td>-0.042534</td>\n",
       "      <td>0.002985</td>\n",
       "      <td>0.021676</td>\n",
       "      <td>-0.021676</td>\n",
       "      <td>-0.111515</td>\n",
       "      <td>0.111515</td>\n",
       "      <td>-0.511536</td>\n",
       "      <td>1.000000</td>\n",
       "      <td>-0.201797</td>\n",
       "      <td>-0.125409</td>\n",
       "      <td>-0.019379</td>\n",
       "      <td>0.019379</td>\n",
       "      <td>-0.023878</td>\n",
       "      <td>0.023878</td>\n",
       "      <td>-0.121915</td>\n",
       "      <td>0.013263</td>\n",
       "      <td>0.101092</td>\n",
       "    </tr>\n",
       "    <tr>\n",
       "      <th>Dependents_2</th>\n",
       "      <td>0.019814</td>\n",
       "      <td>0.072589</td>\n",
       "      <td>-0.031030</td>\n",
       "      <td>0.016866</td>\n",
       "      <td>-0.137232</td>\n",
       "      <td>0.137232</td>\n",
       "      <td>-0.253452</td>\n",
       "      <td>0.253452</td>\n",
       "      <td>-0.556799</td>\n",
       "      <td>-0.201797</td>\n",
       "      <td>1.000000</td>\n",
       "      <td>-0.136506</td>\n",
       "      <td>-0.034790</td>\n",
       "      <td>0.034790</td>\n",
       "      <td>-0.016627</td>\n",
       "      <td>0.016627</td>\n",
       "      <td>-0.011384</td>\n",
       "      <td>-0.015435</td>\n",
       "      <td>0.027177</td>\n",
       "    </tr>\n",
       "    <tr>\n",
       "      <th>Dependents_3</th>\n",
       "      <td>0.168624</td>\n",
       "      <td>-0.124854</td>\n",
       "      <td>-0.047392</td>\n",
       "      <td>-0.076234</td>\n",
       "      <td>-0.112321</td>\n",
       "      <td>0.112321</td>\n",
       "      <td>-0.122834</td>\n",
       "      <td>0.122834</td>\n",
       "      <td>-0.346028</td>\n",
       "      <td>-0.125409</td>\n",
       "      <td>-0.136506</td>\n",
       "      <td>1.000000</td>\n",
       "      <td>-0.035416</td>\n",
       "      <td>0.035416</td>\n",
       "      <td>-0.068185</td>\n",
       "      <td>0.068185</td>\n",
       "      <td>0.088424</td>\n",
       "      <td>-0.035675</td>\n",
       "      <td>-0.045604</td>\n",
       "    </tr>\n",
       "    <tr>\n",
       "      <th>Education_Graduate</th>\n",
       "      <td>0.179037</td>\n",
       "      <td>0.000261</td>\n",
       "      <td>0.040525</td>\n",
       "      <td>0.003735</td>\n",
       "      <td>0.008984</td>\n",
       "      <td>-0.008984</td>\n",
       "      <td>-0.025243</td>\n",
       "      <td>0.025243</td>\n",
       "      <td>0.060723</td>\n",
       "      <td>-0.019379</td>\n",
       "      <td>-0.034790</td>\n",
       "      <td>-0.035416</td>\n",
       "      <td>1.000000</td>\n",
       "      <td>-1.000000</td>\n",
       "      <td>-0.015562</td>\n",
       "      <td>0.015562</td>\n",
       "      <td>-0.063104</td>\n",
       "      <td>-0.002642</td>\n",
       "      <td>0.062440</td>\n",
       "    </tr>\n",
       "    <tr>\n",
       "      <th>Education_Not Graduate</th>\n",
       "      <td>-0.179037</td>\n",
       "      <td>-0.000261</td>\n",
       "      <td>-0.040525</td>\n",
       "      <td>-0.003735</td>\n",
       "      <td>-0.008984</td>\n",
       "      <td>0.008984</td>\n",
       "      <td>0.025243</td>\n",
       "      <td>-0.025243</td>\n",
       "      <td>-0.060723</td>\n",
       "      <td>0.019379</td>\n",
       "      <td>0.034790</td>\n",
       "      <td>0.035416</td>\n",
       "      <td>-1.000000</td>\n",
       "      <td>1.000000</td>\n",
       "      <td>0.015562</td>\n",
       "      <td>-0.015562</td>\n",
       "      <td>0.063104</td>\n",
       "      <td>0.002642</td>\n",
       "      <td>-0.062440</td>\n",
       "    </tr>\n",
       "    <tr>\n",
       "      <th>Self_Employed_No</th>\n",
       "      <td>-0.229608</td>\n",
       "      <td>0.072563</td>\n",
       "      <td>0.010387</td>\n",
       "      <td>-0.039577</td>\n",
       "      <td>0.017406</td>\n",
       "      <td>-0.017406</td>\n",
       "      <td>0.011734</td>\n",
       "      <td>-0.011734</td>\n",
       "      <td>0.067731</td>\n",
       "      <td>-0.023878</td>\n",
       "      <td>-0.016627</td>\n",
       "      <td>-0.068185</td>\n",
       "      <td>-0.015562</td>\n",
       "      <td>0.015562</td>\n",
       "      <td>1.000000</td>\n",
       "      <td>-1.000000</td>\n",
       "      <td>-0.038232</td>\n",
       "      <td>-0.017617</td>\n",
       "      <td>0.054867</td>\n",
       "    </tr>\n",
       "    <tr>\n",
       "      <th>Self_Employed_Yes</th>\n",
       "      <td>0.229608</td>\n",
       "      <td>-0.072563</td>\n",
       "      <td>-0.010387</td>\n",
       "      <td>0.039577</td>\n",
       "      <td>-0.017406</td>\n",
       "      <td>0.017406</td>\n",
       "      <td>-0.011734</td>\n",
       "      <td>0.011734</td>\n",
       "      <td>-0.067731</td>\n",
       "      <td>0.023878</td>\n",
       "      <td>0.016627</td>\n",
       "      <td>0.068185</td>\n",
       "      <td>0.015562</td>\n",
       "      <td>-0.015562</td>\n",
       "      <td>-1.000000</td>\n",
       "      <td>1.000000</td>\n",
       "      <td>0.038232</td>\n",
       "      <td>0.017617</td>\n",
       "      <td>-0.054867</td>\n",
       "    </tr>\n",
       "    <tr>\n",
       "      <th>Property_Area_Rural</th>\n",
       "      <td>-0.020304</td>\n",
       "      <td>0.088023</td>\n",
       "      <td>0.043834</td>\n",
       "      <td>-0.009352</td>\n",
       "      <td>-0.078364</td>\n",
       "      <td>0.078364</td>\n",
       "      <td>0.035611</td>\n",
       "      <td>-0.035611</td>\n",
       "      <td>0.050576</td>\n",
       "      <td>-0.121915</td>\n",
       "      <td>-0.011384</td>\n",
       "      <td>0.088424</td>\n",
       "      <td>-0.063104</td>\n",
       "      <td>0.063104</td>\n",
       "      <td>-0.038232</td>\n",
       "      <td>0.038232</td>\n",
       "      <td>1.000000</td>\n",
       "      <td>-0.509615</td>\n",
       "      <td>-0.402806</td>\n",
       "    </tr>\n",
       "    <tr>\n",
       "      <th>Property_Area_Semiurban</th>\n",
       "      <td>-0.010096</td>\n",
       "      <td>-0.014162</td>\n",
       "      <td>0.088347</td>\n",
       "      <td>-0.010410</td>\n",
       "      <td>0.127774</td>\n",
       "      <td>-0.127774</td>\n",
       "      <td>-0.008640</td>\n",
       "      <td>0.008640</td>\n",
       "      <td>0.021702</td>\n",
       "      <td>0.013263</td>\n",
       "      <td>-0.015435</td>\n",
       "      <td>-0.035675</td>\n",
       "      <td>-0.002642</td>\n",
       "      <td>0.002642</td>\n",
       "      <td>-0.017617</td>\n",
       "      <td>0.017617</td>\n",
       "      <td>-0.509615</td>\n",
       "      <td>1.000000</td>\n",
       "      <td>-0.582238</td>\n",
       "    </tr>\n",
       "    <tr>\n",
       "      <th>Property_Area_Urban</th>\n",
       "      <td>0.029926</td>\n",
       "      <td>-0.068110</td>\n",
       "      <td>-0.135402</td>\n",
       "      <td>0.019911</td>\n",
       "      <td>-0.061876</td>\n",
       "      <td>0.061876</td>\n",
       "      <td>-0.024458</td>\n",
       "      <td>0.024458</td>\n",
       "      <td>-0.070877</td>\n",
       "      <td>0.101092</td>\n",
       "      <td>0.027177</td>\n",
       "      <td>-0.045604</td>\n",
       "      <td>0.062440</td>\n",
       "      <td>-0.062440</td>\n",
       "      <td>0.054867</td>\n",
       "      <td>-0.054867</td>\n",
       "      <td>-0.402806</td>\n",
       "      <td>-0.582238</td>\n",
       "      <td>1.000000</td>\n",
       "    </tr>\n",
       "  </tbody>\n",
       "</table>\n",
       "</div>"
      ],
      "text/plain": [
       "                         ApplicantIncome  CoapplicantIncome  Loan_Amount_Term  \\\n",
       "ApplicantIncome                 1.000000          -0.359967         -0.100766   \n",
       "CoapplicantIncome              -0.359967           1.000000          0.061589   \n",
       "Loan_Amount_Term               -0.100766           0.061589          1.000000   \n",
       "Credit_History                 -0.030626          -0.033723          0.069202   \n",
       "Gender_Female                  -0.064333          -0.208240          0.085819   \n",
       "Gender_Male                     0.064333           0.208240         -0.085819   \n",
       "Married_No                     -0.026420          -0.243592          0.104130   \n",
       "Married_Yes                     0.026420           0.243592         -0.104130   \n",
       "Dependents_0                   -0.155161           0.040999          0.081389   \n",
       "Dependents_1                    0.064852          -0.040114         -0.042534   \n",
       "Dependents_2                    0.019814           0.072589         -0.031030   \n",
       "Dependents_3                    0.168624          -0.124854         -0.047392   \n",
       "Education_Graduate              0.179037           0.000261          0.040525   \n",
       "Education_Not Graduate         -0.179037          -0.000261         -0.040525   \n",
       "Self_Employed_No               -0.229608           0.072563          0.010387   \n",
       "Self_Employed_Yes               0.229608          -0.072563         -0.010387   \n",
       "Property_Area_Rural            -0.020304           0.088023          0.043834   \n",
       "Property_Area_Semiurban        -0.010096          -0.014162          0.088347   \n",
       "Property_Area_Urban             0.029926          -0.068110         -0.135402   \n",
       "\n",
       "                         Credit_History  Gender_Female  Gender_Male  \\\n",
       "ApplicantIncome               -0.030626      -0.064333     0.064333   \n",
       "CoapplicantIncome             -0.033723      -0.208240     0.208240   \n",
       "Loan_Amount_Term               0.069202       0.085819    -0.085819   \n",
       "Credit_History                 1.000000      -0.013747     0.013747   \n",
       "Gender_Female                 -0.013747       1.000000    -1.000000   \n",
       "Gender_Male                    0.013747      -1.000000     1.000000   \n",
       "Married_No                    -0.013089       0.361989    -0.361989   \n",
       "Married_Yes                    0.013089      -0.361989     0.361989   \n",
       "Dependents_0                   0.026188       0.152266    -0.152266   \n",
       "Dependents_1                   0.002985       0.021676    -0.021676   \n",
       "Dependents_2                   0.016866      -0.137232     0.137232   \n",
       "Dependents_3                  -0.076234      -0.112321     0.112321   \n",
       "Education_Graduate             0.003735       0.008984    -0.008984   \n",
       "Education_Not Graduate        -0.003735      -0.008984     0.008984   \n",
       "Self_Employed_No              -0.039577       0.017406    -0.017406   \n",
       "Self_Employed_Yes              0.039577      -0.017406     0.017406   \n",
       "Property_Area_Rural           -0.009352      -0.078364     0.078364   \n",
       "Property_Area_Semiurban       -0.010410       0.127774    -0.127774   \n",
       "Property_Area_Urban            0.019911      -0.061876     0.061876   \n",
       "\n",
       "                         Married_No  Married_Yes  Dependents_0  Dependents_1  \\\n",
       "ApplicantIncome           -0.026420     0.026420     -0.155161      0.064852   \n",
       "CoapplicantIncome         -0.243592     0.243592      0.040999     -0.040114   \n",
       "Loan_Amount_Term           0.104130    -0.104130      0.081389     -0.042534   \n",
       "Credit_History            -0.013089     0.013089      0.026188      0.002985   \n",
       "Gender_Female              0.361989    -0.361989      0.152266      0.021676   \n",
       "Gender_Male               -0.361989     0.361989     -0.152266     -0.021676   \n",
       "Married_No                 1.000000    -1.000000      0.346842     -0.111515   \n",
       "Married_Yes               -1.000000     1.000000     -0.346842      0.111515   \n",
       "Dependents_0               0.346842    -0.346842      1.000000     -0.511536   \n",
       "Dependents_1              -0.111515     0.111515     -0.511536      1.000000   \n",
       "Dependents_2              -0.253452     0.253452     -0.556799     -0.201797   \n",
       "Dependents_3              -0.122834     0.122834     -0.346028     -0.125409   \n",
       "Education_Graduate        -0.025243     0.025243      0.060723     -0.019379   \n",
       "Education_Not Graduate     0.025243    -0.025243     -0.060723      0.019379   \n",
       "Self_Employed_No           0.011734    -0.011734      0.067731     -0.023878   \n",
       "Self_Employed_Yes         -0.011734     0.011734     -0.067731      0.023878   \n",
       "Property_Area_Rural        0.035611    -0.035611      0.050576     -0.121915   \n",
       "Property_Area_Semiurban   -0.008640     0.008640      0.021702      0.013263   \n",
       "Property_Area_Urban       -0.024458     0.024458     -0.070877      0.101092   \n",
       "\n",
       "                         Dependents_2  Dependents_3  Education_Graduate  \\\n",
       "ApplicantIncome              0.019814      0.168624            0.179037   \n",
       "CoapplicantIncome            0.072589     -0.124854            0.000261   \n",
       "Loan_Amount_Term            -0.031030     -0.047392            0.040525   \n",
       "Credit_History               0.016866     -0.076234            0.003735   \n",
       "Gender_Female               -0.137232     -0.112321            0.008984   \n",
       "Gender_Male                  0.137232      0.112321           -0.008984   \n",
       "Married_No                  -0.253452     -0.122834           -0.025243   \n",
       "Married_Yes                  0.253452      0.122834            0.025243   \n",
       "Dependents_0                -0.556799     -0.346028            0.060723   \n",
       "Dependents_1                -0.201797     -0.125409           -0.019379   \n",
       "Dependents_2                 1.000000     -0.136506           -0.034790   \n",
       "Dependents_3                -0.136506      1.000000           -0.035416   \n",
       "Education_Graduate          -0.034790     -0.035416            1.000000   \n",
       "Education_Not Graduate       0.034790      0.035416           -1.000000   \n",
       "Self_Employed_No            -0.016627     -0.068185           -0.015562   \n",
       "Self_Employed_Yes            0.016627      0.068185            0.015562   \n",
       "Property_Area_Rural         -0.011384      0.088424           -0.063104   \n",
       "Property_Area_Semiurban     -0.015435     -0.035675           -0.002642   \n",
       "Property_Area_Urban          0.027177     -0.045604            0.062440   \n",
       "\n",
       "                         Education_Not Graduate  Self_Employed_No  \\\n",
       "ApplicantIncome                       -0.179037         -0.229608   \n",
       "CoapplicantIncome                     -0.000261          0.072563   \n",
       "Loan_Amount_Term                      -0.040525          0.010387   \n",
       "Credit_History                        -0.003735         -0.039577   \n",
       "Gender_Female                         -0.008984          0.017406   \n",
       "Gender_Male                            0.008984         -0.017406   \n",
       "Married_No                             0.025243          0.011734   \n",
       "Married_Yes                           -0.025243         -0.011734   \n",
       "Dependents_0                          -0.060723          0.067731   \n",
       "Dependents_1                           0.019379         -0.023878   \n",
       "Dependents_2                           0.034790         -0.016627   \n",
       "Dependents_3                           0.035416         -0.068185   \n",
       "Education_Graduate                    -1.000000         -0.015562   \n",
       "Education_Not Graduate                 1.000000          0.015562   \n",
       "Self_Employed_No                       0.015562          1.000000   \n",
       "Self_Employed_Yes                     -0.015562         -1.000000   \n",
       "Property_Area_Rural                    0.063104         -0.038232   \n",
       "Property_Area_Semiurban                0.002642         -0.017617   \n",
       "Property_Area_Urban                   -0.062440          0.054867   \n",
       "\n",
       "                         Self_Employed_Yes  Property_Area_Rural  \\\n",
       "ApplicantIncome                   0.229608            -0.020304   \n",
       "CoapplicantIncome                -0.072563             0.088023   \n",
       "Loan_Amount_Term                 -0.010387             0.043834   \n",
       "Credit_History                    0.039577            -0.009352   \n",
       "Gender_Female                    -0.017406            -0.078364   \n",
       "Gender_Male                       0.017406             0.078364   \n",
       "Married_No                       -0.011734             0.035611   \n",
       "Married_Yes                       0.011734            -0.035611   \n",
       "Dependents_0                     -0.067731             0.050576   \n",
       "Dependents_1                      0.023878            -0.121915   \n",
       "Dependents_2                      0.016627            -0.011384   \n",
       "Dependents_3                      0.068185             0.088424   \n",
       "Education_Graduate                0.015562            -0.063104   \n",
       "Education_Not Graduate           -0.015562             0.063104   \n",
       "Self_Employed_No                 -1.000000            -0.038232   \n",
       "Self_Employed_Yes                 1.000000             0.038232   \n",
       "Property_Area_Rural               0.038232             1.000000   \n",
       "Property_Area_Semiurban           0.017617            -0.509615   \n",
       "Property_Area_Urban              -0.054867            -0.402806   \n",
       "\n",
       "                         Property_Area_Semiurban  Property_Area_Urban  \n",
       "ApplicantIncome                        -0.010096             0.029926  \n",
       "CoapplicantIncome                      -0.014162            -0.068110  \n",
       "Loan_Amount_Term                        0.088347            -0.135402  \n",
       "Credit_History                         -0.010410             0.019911  \n",
       "Gender_Female                           0.127774            -0.061876  \n",
       "Gender_Male                            -0.127774             0.061876  \n",
       "Married_No                             -0.008640            -0.024458  \n",
       "Married_Yes                             0.008640             0.024458  \n",
       "Dependents_0                            0.021702            -0.070877  \n",
       "Dependents_1                            0.013263             0.101092  \n",
       "Dependents_2                           -0.015435             0.027177  \n",
       "Dependents_3                           -0.035675            -0.045604  \n",
       "Education_Graduate                     -0.002642             0.062440  \n",
       "Education_Not Graduate                  0.002642            -0.062440  \n",
       "Self_Employed_No                       -0.017617             0.054867  \n",
       "Self_Employed_Yes                       0.017617            -0.054867  \n",
       "Property_Area_Rural                    -0.509615            -0.402806  \n",
       "Property_Area_Semiurban                 1.000000            -0.582238  \n",
       "Property_Area_Urban                    -0.582238             1.000000  "
      ]
     },
     "execution_count": 253,
     "metadata": {},
     "output_type": "execute_result"
    }
   ],
   "source": [
    "X.corr()\n"
   ]
  },
  {
   "cell_type": "code",
   "execution_count": 254,
   "id": "1641b170",
   "metadata": {},
   "outputs": [
    {
     "data": {
      "text/plain": [
       "<AxesSubplot:>"
      ]
     },
     "execution_count": 254,
     "metadata": {},
     "output_type": "execute_result"
    },
    {
     "data": {
      "image/png": "[encoded data removed]",
      "text/plain": [
       "<Figure size 432x288 with 2 Axes>"
      ]
     },
     "metadata": {
      "needs_background": "light"
     },
     "output_type": "display_data"
    }
   ],
   "source": [
    "sb.heatmap(X.corr())\n"
   ]
  },
  {
   "cell_type": "markdown",
   "id": "ebb3d1f7",
   "metadata": {},
   "source": [
    "# 2)Ridge Model\n",
    "Finding best value for alpha using GridSearchCV"
   ]
  },
  {
   "cell_type": "code",
   "execution_count": 255,
   "id": "55c78dfc",
   "metadata": {},
   "outputs": [],
   "source": [
    "from sklearn.linear_model import Ridge\n",
    "\n",
    "w = []\n",
    "q = 0.9\n",
    "for i in range(0,20):\n",
    "    q = q + 0.01\n",
    "    w.append(q)\n",
    "    \n",
    "rr = Ridge()\n",
    "tp = {\"alpha\":w}\n",
    "cv = GridSearchCV(rr,tp,scoring=\"neg_mean_absolute_error\",cv=4)\n",
    "cvmodel = cv.fit(xtrain,ytrain)\n"
   ]
  },
  {
   "cell_type": "code",
   "execution_count": 256,
   "id": "3fa2b52e",
   "metadata": {},
   "outputs": [
    {
     "data": {
      "text/plain": [
       "{'alpha': 1.1}"
      ]
     },
     "execution_count": 256,
     "metadata": {},
     "output_type": "execute_result"
    }
   ],
   "source": [
    "cvmodel.best_params_\n"
   ]
  },
  {
   "cell_type": "markdown",
   "id": "7e816e63",
   "metadata": {},
   "source": [
    "# Creating Ridge Model\n"
   ]
  },
  {
   "cell_type": "code",
   "execution_count": 257,
   "id": "6e4476c7",
   "metadata": {},
   "outputs": [],
   "source": [
    "rr1 = Ridge(alpha=1.1)\n",
    "model_rr1 = rr1.fit(xtrain,ytrain)\n"
   ]
  },
  {
   "cell_type": "markdown",
   "id": "0e52890e",
   "metadata": {},
   "source": [
    "# Calculating train and test error\n"
   ]
  },
  {
   "cell_type": "code",
   "execution_count": 258,
   "id": "c24d88c8",
   "metadata": {},
   "outputs": [
    {
     "name": "stdout",
     "output_type": "stream",
     "text": [
      "Ridge Training MAE:  39.6014\n",
      "Ridge Testing MAE:  36.804\n"
     ]
    }
   ],
   "source": [
    "pred_tr_modelrr1 = model_rr1.predict(xtrain)\n",
    "err_tr_modelrr1 = round(mean_absolute_error(ytrain,pred_tr_modelrr1),4)\n",
    "print(\"Ridge Training MAE: \",err_tr_modelrr1)\n",
    "\n",
    "pred_ts_modelrr1 = model_rr1.predict(xtest)\n",
    "err_ts_modelrr1 = round(mean_absolute_error(ytest,pred_ts_modelrr1),4)\n",
    "print(\"Ridge Testing MAE: \",err_ts_modelrr1)"
   ]
  },
  {
   "cell_type": "markdown",
   "id": "31124afd",
   "metadata": {},
   "source": [
    "# 3)Lasso Model\n",
    "Finding best value for alpha using GridSearchCV"
   ]
  },
  {
   "cell_type": "code",
   "execution_count": 259,
   "id": "5a818a50",
   "metadata": {},
   "outputs": [
    {
     "data": {
      "text/plain": [
       "{'alpha': 1.1}"
      ]
     },
     "execution_count": 259,
     "metadata": {},
     "output_type": "execute_result"
    }
   ],
   "source": [
    "from sklearn.linear_model import Lasso\n",
    "\n",
    "w = []\n",
    "q = 0.9\n",
    "for i in range(0,20):\n",
    "    q = q + 0.01\n",
    "    w.append(q)\n",
    "    \n",
    "la = Lasso()\n",
    "tp = {\"alpha\":w}\n",
    "cv = GridSearchCV(la,tp,scoring=\"neg_mean_absolute_error\",cv=4)\n",
    "cvmodel = cv.fit(xtrain,ytrain)\n",
    "cvmodel.best_params_"
   ]
  },
  {
   "cell_type": "markdown",
   "id": "ec61632c",
   "metadata": {},
   "source": [
    "# Creating Lasso Model\n"
   ]
  },
  {
   "cell_type": "code",
   "execution_count": 261,
   "id": "96cdd39e",
   "metadata": {},
   "outputs": [],
   "source": [
    "la1 = Lasso(alpha=1.1)\n",
    "model_la1 = la1.fit(xtrain,ytrain)"
   ]
  },
  {
   "cell_type": "markdown",
   "id": "c9feb4a0",
   "metadata": {},
   "source": [
    "# Calculating train and test error"
   ]
  },
  {
   "cell_type": "code",
   "execution_count": 262,
   "id": "38670dee",
   "metadata": {},
   "outputs": [
    {
     "name": "stdout",
     "output_type": "stream",
     "text": [
      "Lasso Training MAE:  39.1806\n",
      "Lasso Testing MAE:  35.8647\n"
     ]
    }
   ],
   "source": [
    "pred_tr_modella1 = model_la1.predict(xtrain)\n",
    "err_tr_modella1 = round(mean_absolute_error(ytrain,pred_tr_modella1),4)\n",
    "print(\"Lasso Training MAE: \",err_tr_modella1)\n",
    "\n",
    "pred_ts_modella1 = model_la1.predict(xtest)\n",
    "err_ts_modella1 = round(mean_absolute_error(ytest,pred_ts_modella1),4)\n",
    "print(\"Lasso Testing MAE: \",err_ts_modella1)"
   ]
  },
  {
   "cell_type": "markdown",
   "id": "192d3b55",
   "metadata": {},
   "source": [
    "# 4)Decision Tree Model"
   ]
  },
  {
   "cell_type": "code",
   "execution_count": 263,
   "id": "f3dcdcb1",
   "metadata": {},
   "outputs": [],
   "source": [
    "from sklearn.tree import DecisionTreeRegressor\n",
    "dtr1  = DecisionTreeRegressor(random_state=21)\n",
    "model_dtr1 = dtr1.fit(xtrain,ytrain)"
   ]
  },
  {
   "cell_type": "markdown",
   "id": "a2b87ef7",
   "metadata": {},
   "source": [
    "# Calculating train and test error\n"
   ]
  },
  {
   "cell_type": "code",
   "execution_count": 264,
   "id": "9e6778d9",
   "metadata": {},
   "outputs": [
    {
     "name": "stdout",
     "output_type": "stream",
     "text": [
      "Decision Tree Training MAE:  0.0\n",
      "Decision Tree Testing MAE:  50.3363\n"
     ]
    }
   ],
   "source": [
    "pred_tr_modeldtr1 = model_dtr1.predict(xtrain)\n",
    "err_tr_modeldtr1 = round(mean_absolute_error(ytrain,pred_tr_modeldtr1),4)\n",
    "print(\"Decision Tree Training MAE: \",err_tr_modeldtr1)\n",
    "\n",
    "pred_ts_modeldtr1 = model_dtr1.predict(xtest)\n",
    "err_ts_modeldtr1 = round(mean_absolute_error(ytest,pred_ts_modeldtr1),4)\n",
    "print(\"Decision Tree Testing MAE: \",err_ts_modeldtr1)"
   ]
  },
  {
   "cell_type": "markdown",
   "id": "32ee0e78",
   "metadata": {},
   "source": [
    "# 5)Random Forest Model\n",
    "Finding best value for n Estimators, max depth using GridSearchCV"
   ]
  },
  {
   "cell_type": "code",
   "execution_count": 265,
   "id": "21fa6b4a",
   "metadata": {},
   "outputs": [
    {
     "data": {
      "text/plain": [
       "{'max_depth': 4, 'n_estimators': 14}"
      ]
     },
     "execution_count": 265,
     "metadata": {},
     "output_type": "execute_result"
    }
   ],
   "source": [
    "from sklearn.ensemble import RandomForestRegressor\n",
    "\n",
    "tg = {\"max_depth\":range(2,15,1),\"n_estimators\":range(2,15,1)}\n",
    "rfr = RandomForestRegressor(random_state=21)\n",
    "cv = GridSearchCV(rfr,tg,scoring=\"neg_mean_absolute_error\",cv=4)\n",
    "cvmodel = cv.fit(xtrain,ytrain)\n",
    "cvmodel.best_params_"
   ]
  },
  {
   "cell_type": "markdown",
   "id": "b0255f55",
   "metadata": {},
   "source": [
    "# Creating Random Forest Model\n"
   ]
  },
  {
   "cell_type": "code",
   "execution_count": 266,
   "id": "8f18f177",
   "metadata": {},
   "outputs": [],
   "source": [
    "rfo1 = RandomForestRegressor(n_estimators=14, random_state=21, max_depth=4)\n",
    "model_rfr1 = rfo1.fit(xtrain,ytrain)"
   ]
  },
  {
   "cell_type": "markdown",
   "id": "4566d544",
   "metadata": {},
   "source": [
    "# Calculating train and test error\n"
   ]
  },
  {
   "cell_type": "code",
   "execution_count": 267,
   "id": "52017385",
   "metadata": {},
   "outputs": [
    {
     "name": "stdout",
     "output_type": "stream",
     "text": [
      "Random Forest Training MAE:  31.6912\n",
      "Random Forest Testing MAE:  32.9811\n"
     ]
    }
   ],
   "source": [
    "pred_tr_modelrfr1 = model_rfr1.predict(xtrain)\n",
    "err_tr_modelrfr1 = round(mean_absolute_error(ytrain,pred_tr_modelrfr1),4)\n",
    "print(\"Random Forest Training MAE: \",err_tr_modelrfr1)\n",
    "\n",
    "pred_ts_modelrfr1 = model_rfr1.predict(xtest)\n",
    "err_ts_modelrfr1 = round(mean_absolute_error(ytest,pred_ts_modelrfr1),4)\n",
    "print(\"Random Forest Testing MAE: \",err_ts_modelrfr1)"
   ]
  },
  {
   "cell_type": "markdown",
   "id": "a84eef35",
   "metadata": {},
   "source": [
    "# 6)Adaboost Regression Model\n",
    "Finding best value for n Estimators using GridSearchCV"
   ]
  },
  {
   "cell_type": "code",
   "execution_count": 268,
   "id": "edb40941",
   "metadata": {},
   "outputs": [
    {
     "data": {
      "text/plain": [
       "{'n_estimators': 4}"
      ]
     },
     "execution_count": 268,
     "metadata": {},
     "output_type": "execute_result"
    }
   ],
   "source": [
    "from sklearn.ensemble import AdaBoostRegressor\n",
    "from sklearn.tree import DecisionTreeRegressor\n",
    "\n",
    "tg = {\"n_estimators\":range(2,15,1)}\n",
    "abm = AdaBoostRegressor(DecisionTreeRegressor(random_state=21,max_depth=2),random_state=21)\n",
    "cv = GridSearchCV(abm,tg,scoring=\"neg_mean_absolute_error\",cv=4)\n",
    "cvmodel = cv.fit(xtrain,ytrain)\n",
    "cvmodel.best_params_"
   ]
  },
  {
   "cell_type": "markdown",
   "id": "bcb27dcd",
   "metadata": {},
   "source": [
    "# Creating Adaboost Regression Model\n"
   ]
  },
  {
   "cell_type": "code",
   "execution_count": 269,
   "id": "06947e54",
   "metadata": {},
   "outputs": [],
   "source": [
    "boost1 = AdaBoostRegressor(DecisionTreeRegressor(random_state=21,max_depth=2),n_estimators=4,random_state=21)\n",
    "model_adr1 = boost1.fit(xtrain,ytrain)\n"
   ]
  },
  {
   "cell_type": "markdown",
   "id": "c6bbebd7",
   "metadata": {},
   "source": [
    "# Calculating train and test error\n"
   ]
  },
  {
   "cell_type": "code",
   "execution_count": 270,
   "id": "c92e7a1b",
   "metadata": {},
   "outputs": [
    {
     "name": "stdout",
     "output_type": "stream",
     "text": [
      "Adaboost Regressor Training MAE:  42.8192\n",
      "Adaboost Regressor Testing MAE:  33.1322\n"
     ]
    }
   ],
   "source": [
    "pred_tr_modeladr1 = model_adr1.predict(xtrain)\n",
    "err_tr_modeladr1 = round(mean_absolute_error(ytrain,pred_tr_modeladr1),4)\n",
    "print(\"Adaboost Regressor Training MAE: \",err_tr_modeladr1)\n",
    "\n",
    "pred_ts_modeladr1 = model_adr1.predict(xtest)\n",
    "err_ts_modeladr1 = round(mean_absolute_error(ytest,pred_ts_modeladr1),4)\n",
    "print(\"Adaboost Regressor Testing MAE: \",err_ts_modeladr1)\n"
   ]
  },
  {
   "cell_type": "markdown",
   "id": "69a6ea5d",
   "metadata": {},
   "source": [
    "# 7)KNN Regression Model\n",
    "Finding best value for n neighbors using GridSearchCV"
   ]
  },
  {
   "cell_type": "code",
   "execution_count": 271,
   "id": "03efd283",
   "metadata": {},
   "outputs": [
    {
     "data": {
      "text/plain": [
       "{'n_neighbors': 12}"
      ]
     },
     "execution_count": 271,
     "metadata": {},
     "output_type": "execute_result"
    }
   ],
   "source": [
    "from sklearn.neighbors import KNeighborsRegressor\n",
    "\n",
    "tg = {\"n_neighbors\":range(2,15,1)}\n",
    "knn = KNeighborsRegressor()\n",
    "cv = GridSearchCV(knn,tg,scoring=\"neg_mean_absolute_error\",cv=4)\n",
    "cvmodel = cv.fit(xtrain,ytrain)\n",
    "cvmodel.best_params_\n"
   ]
  },
  {
   "cell_type": "markdown",
   "id": "d7786282",
   "metadata": {},
   "source": [
    "# Creating KNN Model\n"
   ]
  },
  {
   "cell_type": "code",
   "execution_count": 272,
   "id": "608751cb",
   "metadata": {},
   "outputs": [],
   "source": [
    "kn1 = KNeighborsRegressor(n_neighbors=12)\n",
    "model_knnr1 = kn1.fit(xtrain,ytrain)\n"
   ]
  },
  {
   "cell_type": "markdown",
   "id": "53507b65",
   "metadata": {},
   "source": [
    "# Calculating train and test error\n"
   ]
  },
  {
   "cell_type": "code",
   "execution_count": 273,
   "id": "810062c5",
   "metadata": {},
   "outputs": [
    {
     "name": "stdout",
     "output_type": "stream",
     "text": [
      "KNN Regressor Training MAE:  40.0139\n",
      "KNN Regressor Testing MAE:  33.6515\n"
     ]
    }
   ],
   "source": [
    "pred_tr_modelknnr1 = model_knnr1.predict(xtrain)\n",
    "err_tr_modelknnr1 = round(mean_absolute_error(ytrain,pred_tr_modelknnr1),4)\n",
    "print(\"KNN Regressor Training MAE: \",err_tr_modelknnr1)\n",
    "\n",
    "pred_ts_modelknnr1 = model_knnr1.predict(xtest)\n",
    "err_ts_modelknnr1 = round(mean_absolute_error(ytest,pred_ts_modelknnr1),4)\n",
    "print(\"KNN Regressor Testing MAE: \",err_ts_modelknnr1)\n"
   ]
  },
  {
   "cell_type": "markdown",
   "id": "b4af4f74",
   "metadata": {},
   "source": [
    "# Random Forest Model is the best among all models\n",
    "Train Random Forest Model with overall trainning data"
   ]
  },
  {
   "cell_type": "code",
   "execution_count": 274,
   "id": "b06a01db",
   "metadata": {},
   "outputs": [],
   "source": [
    "rfrm1 = RandomForestRegressor(n_estimators=14, random_state=21, max_depth=4)\n",
    "model_rfr1_fin = rfrm1.fit(X,Y)\n"
   ]
  },
  {
   "cell_type": "markdown",
   "id": "d2f9f8a6",
   "metadata": {},
   "source": [
    "# Prepare testing data same as trainning data\n"
   ]
  },
  {
   "cell_type": "code",
   "execution_count": 276,
   "id": "b817b9f0",
   "metadata": {},
   "outputs": [],
   "source": [
    "test_data2 = B[B[\"Loan_Status\"]==\"N\"]\n"
   ]
  },
  {
   "cell_type": "markdown",
   "id": "33d0e93d",
   "metadata": {},
   "source": [
    "# Indexing\n"
   ]
  },
  {
   "cell_type": "code",
   "execution_count": 277,
   "id": "5d4c35c4",
   "metadata": {},
   "outputs": [],
   "source": [
    "len_test_data2 = test_data2.shape[0]\n",
    "test_data2.index = range(0,len_test_data2,1)\n"
   ]
  },
  {
   "cell_type": "markdown",
   "id": "72be407a",
   "metadata": {},
   "source": [
    "# Remove Unwanted Columns\n"
   ]
  },
  {
   "cell_type": "code",
   "execution_count": 278,
   "id": "bbbfdad0",
   "metadata": {},
   "outputs": [],
   "source": [
    "test_data2 = test_data2.drop(labels=[\"LoanAmount\",\"Loan_Status\"],axis=1)\n"
   ]
  },
  {
   "cell_type": "markdown",
   "id": "8480fa41",
   "metadata": {},
   "source": [
    "# Data Preprocessing\n"
   ]
  },
  {
   "cell_type": "code",
   "execution_count": 280,
   "id": "b370409a",
   "metadata": {},
   "outputs": [],
   "source": [
    "cat, con = cat_con_sep(test_data2)\n"
   ]
  },
  {
   "cell_type": "code",
   "execution_count": 281,
   "id": "36381617",
   "metadata": {},
   "outputs": [],
   "source": [
    "test_data2 = preprocessing_data(test_data2,cat,con)\n"
   ]
  },
  {
   "cell_type": "markdown",
   "id": "b4e4b1ff",
   "metadata": {},
   "source": [
    "# Predicting Loan Amount\n"
   ]
  },
  {
   "cell_type": "code",
   "execution_count": 283,
   "id": "38e866d3",
   "metadata": {},
   "outputs": [],
   "source": [
    "predicted_LoanAmount = model_rfr1_fin.predict(test_data2)\n"
   ]
  },
  {
   "cell_type": "code",
   "execution_count": 284,
   "id": "ffc5009b",
   "metadata": {},
   "outputs": [],
   "source": [
    "pred_la = []\n",
    "for i in predicted_LoanAmount:\n",
    "    pred_la.append(round(i,2))"
   ]
  },
  {
   "cell_type": "code",
   "execution_count": 285,
   "id": "7500c547",
   "metadata": {},
   "outputs": [],
   "source": [
    "C = B[B[\"Loan_Status\"]==\"N\"]\n",
    "len_C = C.shape[0]\n",
    "C.index = range(0,len_C,1)\n"
   ]
  },
  {
   "cell_type": "code",
   "execution_count": 286,
   "id": "d53c9e45",
   "metadata": {},
   "outputs": [],
   "source": [
    "C = C.drop(labels=[\"LoanAmount\",\"Loan_Status\"],axis=1)\n"
   ]
  },
  {
   "cell_type": "code",
   "execution_count": 287,
   "id": "62132ec4",
   "metadata": {},
   "outputs": [],
   "source": [
    "C[[\"LoanAmount\"]] = pred_la\n"
   ]
  },
  {
   "cell_type": "code",
   "execution_count": 288,
   "id": "4c1d5c4c",
   "metadata": {},
   "outputs": [
    {
     "data": {
      "text/html": [
       "<div>\n",
       "<style scoped>\n",
       "    .dataframe tbody tr th:only-of-type {\n",
       "        vertical-align: middle;\n",
       "    }\n",
       "\n",
       "    .dataframe tbody tr th {\n",
       "        vertical-align: top;\n",
       "    }\n",
       "\n",
       "    .dataframe thead th {\n",
       "        text-align: right;\n",
       "    }\n",
       "</style>\n",
       "<table border=\"1\" class=\"dataframe\">\n",
       "  <thead>\n",
       "    <tr style=\"text-align: right;\">\n",
       "      <th></th>\n",
       "      <th>Gender</th>\n",
       "      <th>Married</th>\n",
       "      <th>Dependents</th>\n",
       "      <th>Education</th>\n",
       "      <th>Self_Employed</th>\n",
       "      <th>ApplicantIncome</th>\n",
       "      <th>CoapplicantIncome</th>\n",
       "      <th>Loan_Amount_Term</th>\n",
       "      <th>Credit_History</th>\n",
       "      <th>Property_Area</th>\n",
       "      <th>LoanAmount</th>\n",
       "    </tr>\n",
       "  </thead>\n",
       "  <tbody>\n",
       "    <tr>\n",
       "      <th>0</th>\n",
       "      <td>Male</td>\n",
       "      <td>Yes</td>\n",
       "      <td>2</td>\n",
       "      <td>Not Graduate</td>\n",
       "      <td>No</td>\n",
       "      <td>3881</td>\n",
       "      <td>0</td>\n",
       "      <td>360.0</td>\n",
       "      <td>0.0</td>\n",
       "      <td>Rural</td>\n",
       "      <td>110.45</td>\n",
       "    </tr>\n",
       "    <tr>\n",
       "      <th>1</th>\n",
       "      <td>Male</td>\n",
       "      <td>Yes</td>\n",
       "      <td>3</td>\n",
       "      <td>Graduate</td>\n",
       "      <td>No</td>\n",
       "      <td>3786</td>\n",
       "      <td>333</td>\n",
       "      <td>360.0</td>\n",
       "      <td>1.0</td>\n",
       "      <td>Semiurban</td>\n",
       "      <td>110.45</td>\n",
       "    </tr>\n",
       "    <tr>\n",
       "      <th>2</th>\n",
       "      <td>Male</td>\n",
       "      <td>Yes</td>\n",
       "      <td>1</td>\n",
       "      <td>Not Graduate</td>\n",
       "      <td>No</td>\n",
       "      <td>1888</td>\n",
       "      <td>1620</td>\n",
       "      <td>360.0</td>\n",
       "      <td>1.0</td>\n",
       "      <td>Urban</td>\n",
       "      <td>95.76</td>\n",
       "    </tr>\n",
       "  </tbody>\n",
       "</table>\n",
       "</div>"
      ],
      "text/plain": [
       "  Gender Married Dependents     Education Self_Employed  ApplicantIncome  \\\n",
       "0   Male     Yes          2  Not Graduate            No             3881   \n",
       "1   Male     Yes          3      Graduate            No             3786   \n",
       "2   Male     Yes          1  Not Graduate            No             1888   \n",
       "\n",
       "   CoapplicantIncome  Loan_Amount_Term  Credit_History Property_Area  \\\n",
       "0                  0             360.0             0.0         Rural   \n",
       "1                333             360.0             1.0     Semiurban   \n",
       "2               1620             360.0             1.0         Urban   \n",
       "\n",
       "   LoanAmount  \n",
       "0      110.45  \n",
       "1      110.45  \n",
       "2       95.76  "
      ]
     },
     "execution_count": 288,
     "metadata": {},
     "output_type": "execute_result"
    }
   ],
   "source": [
    "C.head(3)\n"
   ]
  },
  {
   "cell_type": "markdown",
   "id": "4dc7ef97",
   "metadata": {},
   "source": [
    "# b. If duration is less than equal to 20 years, is customer eligible for required amount for some longer duration? What is that duration?\n"
   ]
  },
  {
   "cell_type": "code",
   "execution_count": 289,
   "id": "49e2df63",
   "metadata": {},
   "outputs": [],
   "source": [
    "train_data2 = A[(A[\"Loan_Status\"]==\"Y\") & (A[\"Loan_Amount_Term\"]>240.0)]\n"
   ]
  },
  {
   "cell_type": "markdown",
   "id": "5672c39d",
   "metadata": {},
   "source": [
    "# Indexing\n"
   ]
  },
  {
   "cell_type": "code",
   "execution_count": 290,
   "id": "959f3353",
   "metadata": {},
   "outputs": [],
   "source": [
    "len_train_data2 = train_data2.shape[0]\n",
    "train_data2.index = range(0,len_train_data2,1)\n"
   ]
  },
  {
   "cell_type": "markdown",
   "id": "61373ca3",
   "metadata": {},
   "source": [
    "# Drop Unnecessary Columns\n"
   ]
  },
  {
   "cell_type": "code",
   "execution_count": 291,
   "id": "edf03df3",
   "metadata": {},
   "outputs": [],
   "source": [
    "train_data2 = train_data2.drop(labels=[\"Loan_Status\"],axis=1)\n"
   ]
  },
  {
   "cell_type": "code",
   "execution_count": 292,
   "id": "d4c49ee2",
   "metadata": {},
   "outputs": [],
   "source": [
    "X = train_data2.drop(labels=[\"Loan_Amount_Term\"],axis=1)\n",
    "Y = train_data2[[\"Loan_Amount_Term\"]]\n"
   ]
  },
  {
   "cell_type": "markdown",
   "id": "54526701",
   "metadata": {},
   "source": [
    "# Convert Dependents columns into continuous\n"
   ]
  },
  {
   "cell_type": "code",
   "execution_count": 294,
   "id": "7cd15e1c",
   "metadata": {},
   "outputs": [],
   "source": [
    "dep1 = []\n",
    "for i in X.Dependents:\n",
    "    dep1.append(int(i))\n",
    "\n",
    "X[[\"Dependents\"]] = dep1\n"
   ]
  },
  {
   "cell_type": "code",
   "execution_count": 295,
   "id": "ec0b123b",
   "metadata": {},
   "outputs": [],
   "source": [
    "loan_term = []\n",
    "for i in Y.Loan_Amount_Term:\n",
    "    loan_term.append(int(i))\n",
    "    \n",
    "Y[\"Loan_Amount_Term\"] = loan_term\n"
   ]
  },
  {
   "cell_type": "markdown",
   "id": "ed23605f",
   "metadata": {},
   "source": [
    "# EDA\n",
    "1)Univariant\n"
   ]
  },
  {
   "cell_type": "code",
   "execution_count": 296,
   "id": "9aecc136",
   "metadata": {},
   "outputs": [
    {
     "data": {
      "image/png": "[encoded data removed]",
      "text/plain": [
       "<Figure size 1440x2880 with 10 Axes>"
      ]
     },
     "metadata": {
      "needs_background": "light"
     },
     "output_type": "display_data"
    }
   ],
   "source": [
    "import matplotlib.pyplot as pt\n",
    "pt.figure(figsize=(20,40))\n",
    "q = 1\n",
    "for i in X.columns:\n",
    "    if X[i].dtype == \"object\":\n",
    "        pt.subplot(11,3,q)\n",
    "        sb.countplot(X[i])\n",
    "        q = q + 1\n",
    "        \n",
    "    else:\n",
    "        pt.subplot(11,3,q)\n",
    "        sb.distplot(X[i])\n",
    "        q = q + 1"
   ]
  },
  {
   "cell_type": "markdown",
   "id": "b03fb892",
   "metadata": {},
   "source": [
    "# 2)Bivariant\n"
   ]
  },
  {
   "cell_type": "code",
   "execution_count": 297,
   "id": "55a0d463",
   "metadata": {},
   "outputs": [
    {
     "data": {
      "image/png": "[encoded data removed]",
      "text/plain": [
       "<Figure size 1440x2880 with 10 Axes>"
      ]
     },
     "metadata": {
      "needs_background": "light"
     },
     "output_type": "display_data"
    }
   ],
   "source": [
    "import matplotlib.pyplot as pt\n",
    "pt.figure(figsize=(20,40))\n",
    "q = 1\n",
    "for i in X.columns:\n",
    "    if X[i].dtype == \"object\":\n",
    "        pt.subplot(11,3,q)\n",
    "        sb.boxplot(X[i],Y.Loan_Amount_Term)\n",
    "        q = q + 1\n",
    "        \n",
    "    else:\n",
    "        pt.subplot(11,3,q)\n",
    "        sb.scatterplot(X[i],Y.Loan_Amount_Term)\n",
    "        q = q + 1\n"
   ]
  },
  {
   "cell_type": "markdown",
   "id": "7cf5ea0a",
   "metadata": {},
   "source": [
    "# Data Preprocessing\n"
   ]
  },
  {
   "cell_type": "code",
   "execution_count": 298,
   "id": "b945db7e",
   "metadata": {},
   "outputs": [],
   "source": [
    "cat, con = cat_con_sep(X)\n"
   ]
  },
  {
   "cell_type": "code",
   "execution_count": 299,
   "id": "4e448bfe",
   "metadata": {},
   "outputs": [
    {
     "data": {
      "text/plain": [
       "Dependents           1.018780\n",
       "ApplicantIncome      4.759015\n",
       "CoapplicantIncome    3.163921\n",
       "LoanAmount           3.026629\n",
       "Credit_History      -6.974311\n",
       "dtype: float64"
      ]
     },
     "execution_count": 299,
     "metadata": {},
     "output_type": "execute_result"
    }
   ],
   "source": [
    "X[con].skew()\n"
   ]
  },
  {
   "cell_type": "code",
   "execution_count": 300,
   "id": "e5cd900d",
   "metadata": {},
   "outputs": [],
   "source": [
    "X.ApplicantIncome = log(X.ApplicantIncome)\n",
    "X.CoapplicantIncome = sqrt(X.CoapplicantIncome)\n",
    "X.LoanAmount = log(X.LoanAmount)\n",
    "X.Dependents = sqrt(X.Dependents)"
   ]
  },
  {
   "cell_type": "code",
   "execution_count": 301,
   "id": "a5e912e2",
   "metadata": {},
   "outputs": [
    {
     "data": {
      "text/plain": [
       "Dependents           0.608876\n",
       "ApplicantIncome      0.532392\n",
       "CoapplicantIncome    0.303109\n",
       "LoanAmount           0.151097\n",
       "Credit_History      -6.974311\n",
       "dtype: float64"
      ]
     },
     "execution_count": 301,
     "metadata": {},
     "output_type": "execute_result"
    }
   ],
   "source": [
    "X[con].skew()\n"
   ]
  },
  {
   "cell_type": "code",
   "execution_count": 302,
   "id": "2cdc0cec",
   "metadata": {},
   "outputs": [],
   "source": [
    "cat.remove(\"Property_Area\")\n"
   ]
  },
  {
   "cell_type": "code",
   "execution_count": 303,
   "id": "f9cf1655",
   "metadata": {},
   "outputs": [
    {
     "data": {
      "text/plain": [
       "['Gender', 'Married', 'Education', 'Self_Employed']"
      ]
     },
     "execution_count": 303,
     "metadata": {},
     "output_type": "execute_result"
    }
   ],
   "source": [
    "cat"
   ]
  },
  {
   "cell_type": "code",
   "execution_count": 304,
   "id": "fd3d1995",
   "metadata": {},
   "outputs": [],
   "source": [
    "lb1 = LabelEncoder()\n",
    "ss1 = StandardScaler()\n",
    "X1 = pd.DataFrame(lb1.fit_transform(X[\"Gender\"]),columns=[\"Gender\"])\n",
    "X2 = pd.get_dummies(X[\"Property_Area\"])\n",
    "X3 = X1.join(X2)\n",
    "X4 = pd.DataFrame(lb1.fit_transform(X[\"Married\"]),columns=[\"Married\"])\n",
    "X5 = pd.DataFrame(lb1.fit_transform(X[\"Education\"]),columns=[\"Education\"])\n",
    "X6 = X4.join(X5)\n",
    "X7 = pd.DataFrame(lb1.fit_transform(X[\"Self_Employed\"]),columns=[\"Self_Employed\"])\n",
    "X8 = X6.join(X7)\n",
    "X9 = X8.join(X3)\n",
    "X10 = pd.DataFrame(ss1.fit_transform(X[con]),columns=con)\n",
    "X = X10.join(X9)\n"
   ]
  },
  {
   "cell_type": "markdown",
   "id": "c95f2110",
   "metadata": {},
   "source": [
    "# Divide X and Y into training and testing\n"
   ]
  },
  {
   "cell_type": "code",
   "execution_count": 305,
   "id": "41dbb80b",
   "metadata": {},
   "outputs": [],
   "source": [
    "xtrain,xtest,ytrain,ytest = train_test_split(X,Y,test_size=0.2,random_state=32)\n"
   ]
  },
  {
   "cell_type": "markdown",
   "id": "da51f03d",
   "metadata": {},
   "source": [
    "# Creating ML Models and choose one of the best\n",
    "1) Multiple Linear Regressor Model\n"
   ]
  },
  {
   "cell_type": "code",
   "execution_count": 306,
   "id": "5564d1c1",
   "metadata": {},
   "outputs": [],
   "source": [
    "lm2 = LinearRegression()\n",
    "lm2_model = lm2.fit(xtrain,ytrain)\n"
   ]
  },
  {
   "cell_type": "markdown",
   "id": "ea5f0d01",
   "metadata": {},
   "source": [
    "# Calculating tarin and test error"
   ]
  },
  {
   "cell_type": "code",
   "execution_count": 307,
   "id": "9d789125",
   "metadata": {},
   "outputs": [
    {
     "name": "stdout",
     "output_type": "stream",
     "text": [
      "MLR Training MAE:  7.0559\n",
      "MLR Testing MAE:  5.6847\n"
     ]
    }
   ],
   "source": [
    "pred_tr_lm2model = lm2_model.predict(xtrain)\n",
    "err_tr_lm2model = round(mean_absolute_error(ytrain,pred_tr_lm2model),4)\n",
    "print(\"MLR Training MAE: \",err_tr_lm2model)\n",
    "\n",
    "pred_ts_lm2model = lm2_model.predict(xtest)\n",
    "err_ts_lm2model = round(mean_absolute_error(ytest,pred_ts_lm2model),4)\n",
    "print(\"MLR Testing MAE: \",err_ts_lm2model)\n"
   ]
  },
  {
   "cell_type": "markdown",
   "id": "a1199a39",
   "metadata": {},
   "source": [
    "# Check Collinearity\n"
   ]
  },
  {
   "cell_type": "code",
   "execution_count": 308,
   "id": "65f80741",
   "metadata": {},
   "outputs": [
    {
     "data": {
      "text/html": [
       "<div>\n",
       "<style scoped>\n",
       "    .dataframe tbody tr th:only-of-type {\n",
       "        vertical-align: middle;\n",
       "    }\n",
       "\n",
       "    .dataframe tbody tr th {\n",
       "        vertical-align: top;\n",
       "    }\n",
       "\n",
       "    .dataframe thead th {\n",
       "        text-align: right;\n",
       "    }\n",
       "</style>\n",
       "<table border=\"1\" class=\"dataframe\">\n",
       "  <thead>\n",
       "    <tr style=\"text-align: right;\">\n",
       "      <th></th>\n",
       "      <th>Dependents</th>\n",
       "      <th>ApplicantIncome</th>\n",
       "      <th>CoapplicantIncome</th>\n",
       "      <th>LoanAmount</th>\n",
       "      <th>Credit_History</th>\n",
       "      <th>Married</th>\n",
       "      <th>Education</th>\n",
       "      <th>Self_Employed</th>\n",
       "      <th>Gender</th>\n",
       "      <th>Rural</th>\n",
       "      <th>Semiurban</th>\n",
       "      <th>Urban</th>\n",
       "    </tr>\n",
       "  </thead>\n",
       "  <tbody>\n",
       "    <tr>\n",
       "      <th>Dependents</th>\n",
       "      <td>1.000000</td>\n",
       "      <td>0.176300</td>\n",
       "      <td>-0.046527</td>\n",
       "      <td>0.169421</td>\n",
       "      <td>-0.028107</td>\n",
       "      <td>0.348830</td>\n",
       "      <td>0.054317</td>\n",
       "      <td>0.076944</td>\n",
       "      <td>0.177344</td>\n",
       "      <td>-0.010752</td>\n",
       "      <td>-0.010796</td>\n",
       "      <td>0.022142</td>\n",
       "    </tr>\n",
       "    <tr>\n",
       "      <th>ApplicantIncome</th>\n",
       "      <td>0.176300</td>\n",
       "      <td>1.000000</td>\n",
       "      <td>-0.350550</td>\n",
       "      <td>0.496044</td>\n",
       "      <td>0.016361</td>\n",
       "      <td>-0.001328</td>\n",
       "      <td>-0.176204</td>\n",
       "      <td>0.247390</td>\n",
       "      <td>0.062626</td>\n",
       "      <td>-0.022151</td>\n",
       "      <td>-0.000099</td>\n",
       "      <td>0.021580</td>\n",
       "    </tr>\n",
       "    <tr>\n",
       "      <th>CoapplicantIncome</th>\n",
       "      <td>-0.046527</td>\n",
       "      <td>-0.350550</td>\n",
       "      <td>1.000000</td>\n",
       "      <td>0.133966</td>\n",
       "      <td>-0.043845</td>\n",
       "      <td>0.264678</td>\n",
       "      <td>-0.000562</td>\n",
       "      <td>-0.064459</td>\n",
       "      <td>0.235373</td>\n",
       "      <td>0.104411</td>\n",
       "      <td>-0.038713</td>\n",
       "      <td>-0.059188</td>\n",
       "    </tr>\n",
       "    <tr>\n",
       "      <th>LoanAmount</th>\n",
       "      <td>0.169421</td>\n",
       "      <td>0.496044</td>\n",
       "      <td>0.133966</td>\n",
       "      <td>1.000000</td>\n",
       "      <td>-0.042119</td>\n",
       "      <td>0.205778</td>\n",
       "      <td>-0.156998</td>\n",
       "      <td>0.159810</td>\n",
       "      <td>0.177050</td>\n",
       "      <td>0.089795</td>\n",
       "      <td>-0.025874</td>\n",
       "      <td>-0.058957</td>\n",
       "    </tr>\n",
       "    <tr>\n",
       "      <th>Credit_History</th>\n",
       "      <td>-0.028107</td>\n",
       "      <td>0.016361</td>\n",
       "      <td>-0.043845</td>\n",
       "      <td>-0.042119</td>\n",
       "      <td>1.000000</td>\n",
       "      <td>0.037194</td>\n",
       "      <td>-0.025598</td>\n",
       "      <td>0.038172</td>\n",
       "      <td>0.036054</td>\n",
       "      <td>0.017400</td>\n",
       "      <td>-0.009624</td>\n",
       "      <td>-0.006420</td>\n",
       "    </tr>\n",
       "    <tr>\n",
       "      <th>Married</th>\n",
       "      <td>0.348830</td>\n",
       "      <td>-0.001328</td>\n",
       "      <td>0.264678</td>\n",
       "      <td>0.205778</td>\n",
       "      <td>0.037194</td>\n",
       "      <td>1.000000</td>\n",
       "      <td>-0.014222</td>\n",
       "      <td>0.016352</td>\n",
       "      <td>0.376532</td>\n",
       "      <td>-0.050300</td>\n",
       "      <td>0.014972</td>\n",
       "      <td>0.032506</td>\n",
       "    </tr>\n",
       "    <tr>\n",
       "      <th>Education</th>\n",
       "      <td>0.054317</td>\n",
       "      <td>-0.176204</td>\n",
       "      <td>-0.000562</td>\n",
       "      <td>-0.156998</td>\n",
       "      <td>-0.025598</td>\n",
       "      <td>-0.014222</td>\n",
       "      <td>1.000000</td>\n",
       "      <td>-0.012558</td>\n",
       "      <td>-0.010032</td>\n",
       "      <td>0.101820</td>\n",
       "      <td>-0.005004</td>\n",
       "      <td>-0.093270</td>\n",
       "    </tr>\n",
       "    <tr>\n",
       "      <th>Self_Employed</th>\n",
       "      <td>0.076944</td>\n",
       "      <td>0.247390</td>\n",
       "      <td>-0.064459</td>\n",
       "      <td>0.159810</td>\n",
       "      <td>0.038172</td>\n",
       "      <td>0.016352</td>\n",
       "      <td>-0.012558</td>\n",
       "      <td>1.000000</td>\n",
       "      <td>0.009976</td>\n",
       "      <td>0.040850</td>\n",
       "      <td>0.012118</td>\n",
       "      <td>-0.052755</td>\n",
       "    </tr>\n",
       "    <tr>\n",
       "      <th>Gender</th>\n",
       "      <td>0.177344</td>\n",
       "      <td>0.062626</td>\n",
       "      <td>0.235373</td>\n",
       "      <td>0.177050</td>\n",
       "      <td>0.036054</td>\n",
       "      <td>0.376532</td>\n",
       "      <td>-0.010032</td>\n",
       "      <td>0.009976</td>\n",
       "      <td>1.000000</td>\n",
       "      <td>0.076237</td>\n",
       "      <td>-0.109643</td>\n",
       "      <td>0.045124</td>\n",
       "    </tr>\n",
       "    <tr>\n",
       "      <th>Rural</th>\n",
       "      <td>-0.010752</td>\n",
       "      <td>-0.022151</td>\n",
       "      <td>0.104411</td>\n",
       "      <td>0.089795</td>\n",
       "      <td>0.017400</td>\n",
       "      <td>-0.050300</td>\n",
       "      <td>0.101820</td>\n",
       "      <td>0.040850</td>\n",
       "      <td>0.076237</td>\n",
       "      <td>1.000000</td>\n",
       "      <td>-0.531291</td>\n",
       "      <td>-0.392618</td>\n",
       "    </tr>\n",
       "    <tr>\n",
       "      <th>Semiurban</th>\n",
       "      <td>-0.010796</td>\n",
       "      <td>-0.000099</td>\n",
       "      <td>-0.038713</td>\n",
       "      <td>-0.025874</td>\n",
       "      <td>-0.009624</td>\n",
       "      <td>0.014972</td>\n",
       "      <td>-0.005004</td>\n",
       "      <td>0.012118</td>\n",
       "      <td>-0.109643</td>\n",
       "      <td>-0.531291</td>\n",
       "      <td>1.000000</td>\n",
       "      <td>-0.570567</td>\n",
       "    </tr>\n",
       "    <tr>\n",
       "      <th>Urban</th>\n",
       "      <td>0.022142</td>\n",
       "      <td>0.021580</td>\n",
       "      <td>-0.059188</td>\n",
       "      <td>-0.058957</td>\n",
       "      <td>-0.006420</td>\n",
       "      <td>0.032506</td>\n",
       "      <td>-0.093270</td>\n",
       "      <td>-0.052755</td>\n",
       "      <td>0.045124</td>\n",
       "      <td>-0.392618</td>\n",
       "      <td>-0.570567</td>\n",
       "      <td>1.000000</td>\n",
       "    </tr>\n",
       "  </tbody>\n",
       "</table>\n",
       "</div>"
      ],
      "text/plain": [
       "                   Dependents  ApplicantIncome  CoapplicantIncome  LoanAmount  \\\n",
       "Dependents           1.000000         0.176300          -0.046527    0.169421   \n",
       "ApplicantIncome      0.176300         1.000000          -0.350550    0.496044   \n",
       "CoapplicantIncome   -0.046527        -0.350550           1.000000    0.133966   \n",
       "LoanAmount           0.169421         0.496044           0.133966    1.000000   \n",
       "Credit_History      -0.028107         0.016361          -0.043845   -0.042119   \n",
       "Married              0.348830        -0.001328           0.264678    0.205778   \n",
       "Education            0.054317        -0.176204          -0.000562   -0.156998   \n",
       "Self_Employed        0.076944         0.247390          -0.064459    0.159810   \n",
       "Gender               0.177344         0.062626           0.235373    0.177050   \n",
       "Rural               -0.010752        -0.022151           0.104411    0.089795   \n",
       "Semiurban           -0.010796        -0.000099          -0.038713   -0.025874   \n",
       "Urban                0.022142         0.021580          -0.059188   -0.058957   \n",
       "\n",
       "                   Credit_History   Married  Education  Self_Employed  \\\n",
       "Dependents              -0.028107  0.348830   0.054317       0.076944   \n",
       "ApplicantIncome          0.016361 -0.001328  -0.176204       0.247390   \n",
       "CoapplicantIncome       -0.043845  0.264678  -0.000562      -0.064459   \n",
       "LoanAmount              -0.042119  0.205778  -0.156998       0.159810   \n",
       "Credit_History           1.000000  0.037194  -0.025598       0.038172   \n",
       "Married                  0.037194  1.000000  -0.014222       0.016352   \n",
       "Education               -0.025598 -0.014222   1.000000      -0.012558   \n",
       "Self_Employed            0.038172  0.016352  -0.012558       1.000000   \n",
       "Gender                   0.036054  0.376532  -0.010032       0.009976   \n",
       "Rural                    0.017400 -0.050300   0.101820       0.040850   \n",
       "Semiurban               -0.009624  0.014972  -0.005004       0.012118   \n",
       "Urban                   -0.006420  0.032506  -0.093270      -0.052755   \n",
       "\n",
       "                     Gender     Rural  Semiurban     Urban  \n",
       "Dependents         0.177344 -0.010752  -0.010796  0.022142  \n",
       "ApplicantIncome    0.062626 -0.022151  -0.000099  0.021580  \n",
       "CoapplicantIncome  0.235373  0.104411  -0.038713 -0.059188  \n",
       "LoanAmount         0.177050  0.089795  -0.025874 -0.058957  \n",
       "Credit_History     0.036054  0.017400  -0.009624 -0.006420  \n",
       "Married            0.376532 -0.050300   0.014972  0.032506  \n",
       "Education         -0.010032  0.101820  -0.005004 -0.093270  \n",
       "Self_Employed      0.009976  0.040850   0.012118 -0.052755  \n",
       "Gender             1.000000  0.076237  -0.109643  0.045124  \n",
       "Rural              0.076237  1.000000  -0.531291 -0.392618  \n",
       "Semiurban         -0.109643 -0.531291   1.000000 -0.570567  \n",
       "Urban              0.045124 -0.392618  -0.570567  1.000000  "
      ]
     },
     "execution_count": 308,
     "metadata": {},
     "output_type": "execute_result"
    }
   ],
   "source": [
    "X.corr()"
   ]
  },
  {
   "cell_type": "code",
   "execution_count": 309,
   "id": "0745a1d2",
   "metadata": {},
   "outputs": [
    {
     "data": {
      "text/plain": [
       "<AxesSubplot:>"
      ]
     },
     "execution_count": 309,
     "metadata": {},
     "output_type": "execute_result"
    },
    {
     "data": {
      "image/png": "[encoded data removed]",
      "text/plain": [
       "<Figure size 432x288 with 2 Axes>"
      ]
     },
     "metadata": {
      "needs_background": "light"
     },
     "output_type": "display_data"
    }
   ],
   "source": [
    "sb.heatmap(X.corr())\n"
   ]
  },
  {
   "cell_type": "markdown",
   "id": "658ae88c",
   "metadata": {},
   "source": [
    "# 2)Ridge Model\n",
    "Finding best alpha value using GridSearchCV"
   ]
  },
  {
   "cell_type": "code",
   "execution_count": 310,
   "id": "2ed2d790",
   "metadata": {},
   "outputs": [
    {
     "data": {
      "text/plain": [
       "{'alpha': 1.1}"
      ]
     },
     "execution_count": 310,
     "metadata": {},
     "output_type": "execute_result"
    }
   ],
   "source": [
    "w = []\n",
    "q = 0.9\n",
    "for i in range(0,20):\n",
    "    q = q + 0.01\n",
    "    w.append(q)\n",
    "    \n",
    "rr = Ridge()\n",
    "tp = {\"alpha\":w}\n",
    "cv = GridSearchCV(rr,tp,scoring=\"neg_mean_absolute_error\",cv=4)\n",
    "cvmodel = cv.fit(xtrain,ytrain)\n",
    "cvmodel.best_params_\n"
   ]
  },
  {
   "cell_type": "markdown",
   "id": "97b38972",
   "metadata": {},
   "source": [
    "# Creating Ridge Model\n"
   ]
  },
  {
   "cell_type": "code",
   "execution_count": 311,
   "id": "e58edeb0",
   "metadata": {},
   "outputs": [],
   "source": [
    "rr2 = Ridge(alpha=1.1)\n",
    "model_rr2 = rr2.fit(xtrain,ytrain)\n"
   ]
  },
  {
   "cell_type": "markdown",
   "id": "982a5f8c",
   "metadata": {},
   "source": [
    "# Calculating train and test error\n"
   ]
  },
  {
   "cell_type": "code",
   "execution_count": 312,
   "id": "9dce799f",
   "metadata": {},
   "outputs": [
    {
     "name": "stdout",
     "output_type": "stream",
     "text": [
      "Ridge Training MAE:  7.0177\n",
      "Ridge Testing MAE:  5.6351\n"
     ]
    }
   ],
   "source": [
    "pred_tr_modelrr2 = model_rr2.predict(xtrain)\n",
    "err_tr_modelrr2 = round(mean_absolute_error(ytrain,pred_tr_modelrr2),4)\n",
    "print(\"Ridge Training MAE: \",err_tr_modelrr2)\n",
    "\n",
    "pred_ts_modelrr2 = model_rr2.predict(xtest)\n",
    "err_ts_modelrr2 = round(mean_absolute_error(ytest,pred_ts_modelrr2),4)\n",
    "print(\"Ridge Testing MAE: \",err_ts_modelrr2)\n"
   ]
  },
  {
   "cell_type": "markdown",
   "id": "c3759653",
   "metadata": {},
   "source": [
    "# 3)Lasso Model\n",
    "Finding best alpha value using GridSearchCV"
   ]
  },
  {
   "cell_type": "code",
   "execution_count": 314,
   "id": "9b8626cb",
   "metadata": {},
   "outputs": [
    {
     "data": {
      "text/plain": [
       "{'alpha': 1.1}"
      ]
     },
     "execution_count": 314,
     "metadata": {},
     "output_type": "execute_result"
    }
   ],
   "source": [
    "w = []\n",
    "q = 0.9\n",
    "for i in range(0,20):\n",
    "    q = q + 0.01\n",
    "    w.append(q)\n",
    "    \n",
    "la = Lasso()\n",
    "tp = {\"alpha\":w}\n",
    "cv = GridSearchCV(la,tp,scoring=\"neg_mean_absolute_error\",cv=4)\n",
    "cvmodel = cv.fit(xtrain,ytrain)\n",
    "cvmodel.best_params_\n"
   ]
  },
  {
   "cell_type": "markdown",
   "id": "14a26830",
   "metadata": {},
   "source": [
    "# Creating Lasso Model\n"
   ]
  },
  {
   "cell_type": "code",
   "execution_count": 315,
   "id": "293702fe",
   "metadata": {},
   "outputs": [],
   "source": [
    "la2 = Lasso(alpha=1.1)\n",
    "model_la2 = la2.fit(xtrain,ytrain)\n"
   ]
  },
  {
   "cell_type": "markdown",
   "id": "96aa6e2d",
   "metadata": {},
   "source": [
    "# Predicting train and test error\n"
   ]
  },
  {
   "cell_type": "code",
   "execution_count": 316,
   "id": "1203847b",
   "metadata": {},
   "outputs": [
    {
     "name": "stdout",
     "output_type": "stream",
     "text": [
      "Lasso Training MAE:  39.1806\n",
      "Lasso Testing MAE:  2.3311\n"
     ]
    }
   ],
   "source": [
    "pred_tr_modella2 = model_la2.predict(xtrain)\n",
    "err_tr_modella2 = round(mean_absolute_error(ytrain,pred_tr_modella2),4)\n",
    "print(\"Lasso Training MAE: \",err_tr_modella1)\n",
    "\n",
    "pred_ts_modella2 = model_la2.predict(xtest)\n",
    "err_ts_modella2 = round(mean_absolute_error(ytest,pred_ts_modella2),4)\n",
    "print(\"Lasso Testing MAE: \",err_ts_modella2)\n"
   ]
  },
  {
   "cell_type": "markdown",
   "id": "32098a42",
   "metadata": {},
   "source": [
    "# 4)Decision Tree Model\n"
   ]
  },
  {
   "cell_type": "code",
   "execution_count": 317,
   "id": "83380903",
   "metadata": {},
   "outputs": [],
   "source": [
    "dtr2  = DecisionTreeRegressor(random_state=21)\n",
    "model_dtr2 = dtr2.fit(xtrain,ytrain)\n"
   ]
  },
  {
   "cell_type": "markdown",
   "id": "8cc8988a",
   "metadata": {},
   "source": [
    "# Calculating train and test error\n"
   ]
  },
  {
   "cell_type": "code",
   "execution_count": 318,
   "id": "c571d36a",
   "metadata": {},
   "outputs": [
    {
     "name": "stdout",
     "output_type": "stream",
     "text": [
      "Decision Tree Training MAE:  0.0\n",
      "Decision Tree Testing MAE:  7.2468\n"
     ]
    }
   ],
   "source": [
    "pred_tr_modeldtr2 = model_dtr2.predict(xtrain)\n",
    "err_tr_modeldtr2 = round(mean_absolute_error(ytrain,pred_tr_modeldtr2),4)\n",
    "print(\"Decision Tree Training MAE: \",err_tr_modeldtr2)\n",
    "\n",
    "pred_ts_modeldtr2 = model_dtr2.predict(xtest)\n",
    "err_ts_modeldtr2 = round(mean_absolute_error(ytest,pred_ts_modeldtr2),4)\n",
    "print(\"Decision Tree Testing MAE: \",err_ts_modeldtr2)\n"
   ]
  },
  {
   "cell_type": "markdown",
   "id": "e1caa5b5",
   "metadata": {},
   "source": [
    "# 5)Random Forest Model\n",
    "Finding best value for n Estimators, max depth using GridSearchCV"
   ]
  },
  {
   "cell_type": "code",
   "execution_count": 319,
   "id": "8c57145c",
   "metadata": {},
   "outputs": [
    {
     "data": {
      "text/plain": [
       "{'max_depth': 2, 'n_estimators': 8}"
      ]
     },
     "execution_count": 319,
     "metadata": {},
     "output_type": "execute_result"
    }
   ],
   "source": [
    "tg = {\"max_depth\":range(2,15,1),\"n_estimators\":range(2,15,1)}\n",
    "rfr = RandomForestRegressor(random_state=21)\n",
    "cv = GridSearchCV(rfr,tg,scoring=\"neg_mean_absolute_error\",cv=4)\n",
    "cvmodel = cv.fit(xtrain,ytrain)\n",
    "cvmodel.best_params_"
   ]
  },
  {
   "cell_type": "markdown",
   "id": "8b7ab6a3",
   "metadata": {},
   "source": [
    "# Creating Random Forest Model\n"
   ]
  },
  {
   "cell_type": "code",
   "execution_count": 320,
   "id": "c39ab438",
   "metadata": {},
   "outputs": [],
   "source": [
    "rfo2 = RandomForestRegressor(n_estimators=8, random_state=21, max_depth=2)\n",
    "model_rfr2 = rfo2.fit(xtrain,ytrain)\n"
   ]
  },
  {
   "cell_type": "markdown",
   "id": "81f6c575",
   "metadata": {},
   "source": [
    "# Calculating train and test error\n"
   ]
  },
  {
   "cell_type": "code",
   "execution_count": 321,
   "id": "4545e3a8",
   "metadata": {},
   "outputs": [
    {
     "name": "stdout",
     "output_type": "stream",
     "text": [
      "Random Forest Training MAE:  3.8898\n",
      "Random Forest Testing MAE:  4.1571\n"
     ]
    }
   ],
   "source": [
    "pred_tr_modelrfr2 = model_rfr2.predict(xtrain)\n",
    "err_tr_modelrfr2 = round(mean_absolute_error(ytrain,pred_tr_modelrfr2),4)\n",
    "print(\"Random Forest Training MAE: \",err_tr_modelrfr2)\n",
    "\n",
    "pred_ts_modelrfr2 = model_rfr2.predict(xtest)\n",
    "err_ts_modelrfr2 = round(mean_absolute_error(ytest,pred_ts_modelrfr2),4)\n",
    "print(\"Random Forest Testing MAE: \",err_ts_modelrfr2)\n"
   ]
  },
  {
   "cell_type": "markdown",
   "id": "d1139e7d",
   "metadata": {},
   "source": [
    "# 6)Adaboost Regression Model\n",
    "Finding best value for n Estimators using GridSearchCV"
   ]
  },
  {
   "cell_type": "code",
   "execution_count": 322,
   "id": "c0610362",
   "metadata": {},
   "outputs": [
    {
     "data": {
      "text/plain": [
       "{'n_estimators': 2}"
      ]
     },
     "execution_count": 322,
     "metadata": {},
     "output_type": "execute_result"
    }
   ],
   "source": [
    "tg = {\"n_estimators\":range(2,15,1)}\n",
    "abm = AdaBoostRegressor(DecisionTreeRegressor(random_state=21,max_depth=2),random_state=21)\n",
    "cv = GridSearchCV(abm,tg,scoring=\"neg_mean_absolute_error\",cv=4)\n",
    "cvmodel = cv.fit(xtrain,ytrain)\n",
    "cvmodel.best_params_\n"
   ]
  },
  {
   "cell_type": "markdown",
   "id": "02fc79a8",
   "metadata": {},
   "source": [
    "# Creating Adaboost Regression\n"
   ]
  },
  {
   "cell_type": "code",
   "execution_count": 324,
   "id": "4b0f732c",
   "metadata": {},
   "outputs": [],
   "source": [
    "boost2 = AdaBoostRegressor(DecisionTreeRegressor(random_state=21,max_depth=2),n_estimators=2,random_state=21)\n",
    "model_adr2 = boost2.fit(xtrain,ytrain)\n"
   ]
  },
  {
   "cell_type": "markdown",
   "id": "404c9f28",
   "metadata": {},
   "source": [
    "# Calculating train and test error\n"
   ]
  },
  {
   "cell_type": "code",
   "execution_count": 325,
   "id": "104c98b8",
   "metadata": {},
   "outputs": [
    {
     "name": "stdout",
     "output_type": "stream",
     "text": [
      "Adaboost Regressor Training MAE:  4.212\n",
      "Adaboost Regressor Testing MAE:  3.1747\n"
     ]
    }
   ],
   "source": [
    "pred_tr_modeladr2 = model_adr2.predict(xtrain)\n",
    "err_tr_modeladr2 = round(mean_absolute_error(ytrain,pred_tr_modeladr2),4)\n",
    "print(\"Adaboost Regressor Training MAE: \",err_tr_modeladr2)\n",
    "\n",
    "pred_ts_modeladr2 = model_adr2.predict(xtest)\n",
    "err_ts_modeladr2 = round(mean_absolute_error(ytest,pred_ts_modeladr2),4)\n",
    "print(\"Adaboost Regressor Testing MAE: \",err_ts_modeladr2)\n"
   ]
  },
  {
   "cell_type": "markdown",
   "id": "3fe9387c",
   "metadata": {},
   "source": [
    "# 7)KNN Regression Model\n",
    "Finding best value n neighbors using GridSearchCV\n"
   ]
  },
  {
   "cell_type": "code",
   "execution_count": 326,
   "id": "27700a40",
   "metadata": {},
   "outputs": [
    {
     "data": {
      "text/plain": [
       "{'n_neighbors': 7}"
      ]
     },
     "execution_count": 326,
     "metadata": {},
     "output_type": "execute_result"
    }
   ],
   "source": [
    "tg = {\"n_neighbors\":range(2,15,1)}\n",
    "knn = KNeighborsRegressor()\n",
    "cv = GridSearchCV(knn,tg,scoring=\"neg_mean_absolute_error\",cv=4)\n",
    "cvmodel = cv.fit(xtrain,ytrain)\n",
    "cvmodel.best_params_\n"
   ]
  },
  {
   "cell_type": "markdown",
   "id": "1f9c51bc",
   "metadata": {},
   "source": [
    "# Making of KNN model\n"
   ]
  },
  {
   "cell_type": "code",
   "execution_count": 327,
   "id": "a66152e8",
   "metadata": {},
   "outputs": [],
   "source": [
    "kn2 = KNeighborsRegressor(n_neighbors=10)\n",
    "model_knnr2 = kn2.fit(xtrain,ytrain)\n"
   ]
  },
  {
   "cell_type": "markdown",
   "id": "d131ba38",
   "metadata": {},
   "source": [
    "# Calculating train and test error\n"
   ]
  },
  {
   "cell_type": "code",
   "execution_count": 328,
   "id": "37c25141",
   "metadata": {},
   "outputs": [
    {
     "name": "stdout",
     "output_type": "stream",
     "text": [
      "KNN Regressor Training MAE:  6.1184\n",
      "KNN Regressor Testing MAE:  4.1143\n"
     ]
    }
   ],
   "source": [
    "pred_tr_modelknnr2 = model_knnr2.predict(xtrain)\n",
    "err_tr_modelknnr2 = round(mean_absolute_error(ytrain,pred_tr_modelknnr2),4)\n",
    "print(\"KNN Regressor Training MAE: \",err_tr_modelknnr2)\n",
    "\n",
    "pred_ts_modelknnr2 = model_knnr2.predict(xtest)\n",
    "err_ts_modelknnr2 = round(mean_absolute_error(ytest,pred_ts_modelknnr2),4)\n",
    "print(\"KNN Regressor Testing MAE: \",err_ts_modelknnr2)\n"
   ]
  },
  {
   "cell_type": "markdown",
   "id": "298bede2",
   "metadata": {},
   "source": [
    "# Adaboost Regression Model is best model as compared to others\n",
    "Train Adaboost Regression Model with overall trainning data\n"
   ]
  },
  {
   "cell_type": "code",
   "execution_count": 329,
   "id": "e4389838",
   "metadata": {},
   "outputs": [],
   "source": [
    "booster = AdaBoostRegressor(DecisionTreeRegressor(random_state=21,max_depth=2),n_estimators=2,random_state=21)\n",
    "model_adr2_fin = booster.fit(X,Y)\n"
   ]
  },
  {
   "cell_type": "markdown",
   "id": "dc1aa738",
   "metadata": {},
   "source": [
    "# Prepare testing data same as trainning data\n"
   ]
  },
  {
   "cell_type": "code",
   "execution_count": 330,
   "id": "922ab026",
   "metadata": {},
   "outputs": [],
   "source": [
    "test_data3 = B[(B[\"Loan_Status\"]==\"N\") & (B[\"Loan_Amount_Term\"]<=240)]\n"
   ]
  },
  {
   "cell_type": "markdown",
   "id": "2ec2e0ed",
   "metadata": {},
   "source": [
    "# Indexing"
   ]
  },
  {
   "cell_type": "code",
   "execution_count": 332,
   "id": "1eeeb95c",
   "metadata": {},
   "outputs": [],
   "source": [
    "len_test_data3 = test_data3.shape[0]\n",
    "test_data3.index = range(0,len_test_data3,1)\n"
   ]
  },
  {
   "cell_type": "markdown",
   "id": "9129511a",
   "metadata": {},
   "source": [
    "# Delete Unwanted Columns\n"
   ]
  },
  {
   "cell_type": "code",
   "execution_count": 333,
   "id": "1ab46e41",
   "metadata": {},
   "outputs": [],
   "source": [
    "test_data3 = test_data3.drop(labels=[\"Loan_Status\",\"Loan_Amount_Term\"],axis=1)\n"
   ]
  },
  {
   "cell_type": "markdown",
   "id": "49f08d59",
   "metadata": {},
   "source": [
    "# Convert Dependents columns type into continuous\n"
   ]
  },
  {
   "cell_type": "code",
   "execution_count": 334,
   "id": "bac74119",
   "metadata": {},
   "outputs": [],
   "source": [
    "test_dep = []\n",
    "for i in test_data3.Dependents:\n",
    "    test_dep.append(int(i))\n",
    "    \n",
    "test_data3[\"Dependents\"] = test_dep\n"
   ]
  },
  {
   "cell_type": "markdown",
   "id": "3f23d46b",
   "metadata": {},
   "source": [
    "# Data Preprocessing\n"
   ]
  },
  {
   "cell_type": "code",
   "execution_count": 335,
   "id": "cde28412",
   "metadata": {},
   "outputs": [],
   "source": [
    "cat, con = cat_con_sep(test_data3)\n"
   ]
  },
  {
   "cell_type": "code",
   "execution_count": 336,
   "id": "f8846e66",
   "metadata": {},
   "outputs": [
    {
     "data": {
      "text/plain": [
       "['Gender', 'Married', 'Education', 'Self_Employed']"
      ]
     },
     "execution_count": 336,
     "metadata": {},
     "output_type": "execute_result"
    }
   ],
   "source": [
    "cat.remove(\"Property_Area\")\n",
    "cat\n"
   ]
  },
  {
   "cell_type": "code",
   "execution_count": 337,
   "id": "bdd79645",
   "metadata": {},
   "outputs": [],
   "source": [
    "input1 = pd.get_dummies(test_data3[\"Property_Area\"])\n",
    "input2 = pd.DataFrame(lb1.fit_transform(test_data3[\"Gender\"]),columns=[\"Gender\"])\n",
    "out1 = input2.join(input1)\n",
    "input3 = pd.DataFrame(lb1.fit_transform(test_data3[\"Self_Employed\"]),columns=[\"Self_Employed\"])\n",
    "input4 = pd.DataFrame(lb1.fit_transform(test_data3[\"Education\"]),columns=[\"Education\"])\n",
    "out2 = input4.join(input3)\n",
    "input5 = pd.DataFrame(lb1.fit_transform(test_data3[\"Married\"]),columns=[\"Married\"])\n",
    "out3 = input5.join(out2)\n",
    "out4 = out3.join(out1)\n",
    "\n",
    "x_con = pd.DataFrame(ss1.fit_transform(test_data3[con]),columns=con)\n",
    "\n",
    "test_data3 = x_con.join(out4)\n"
   ]
  },
  {
   "cell_type": "code",
   "execution_count": 338,
   "id": "c5239cff",
   "metadata": {},
   "outputs": [
    {
     "data": {
      "text/html": [
       "<div>\n",
       "<style scoped>\n",
       "    .dataframe tbody tr th:only-of-type {\n",
       "        vertical-align: middle;\n",
       "    }\n",
       "\n",
       "    .dataframe tbody tr th {\n",
       "        vertical-align: top;\n",
       "    }\n",
       "\n",
       "    .dataframe thead th {\n",
       "        text-align: right;\n",
       "    }\n",
       "</style>\n",
       "<table border=\"1\" class=\"dataframe\">\n",
       "  <thead>\n",
       "    <tr style=\"text-align: right;\">\n",
       "      <th></th>\n",
       "      <th>Dependents</th>\n",
       "      <th>ApplicantIncome</th>\n",
       "      <th>CoapplicantIncome</th>\n",
       "      <th>LoanAmount</th>\n",
       "      <th>Credit_History</th>\n",
       "      <th>Married</th>\n",
       "      <th>Education</th>\n",
       "      <th>Self_Employed</th>\n",
       "      <th>Gender</th>\n",
       "      <th>Rural</th>\n",
       "      <th>Semiurban</th>\n",
       "      <th>Urban</th>\n",
       "    </tr>\n",
       "  </thead>\n",
       "  <tbody>\n",
       "    <tr>\n",
       "      <th>0</th>\n",
       "      <td>1.543487</td>\n",
       "      <td>-0.757813</td>\n",
       "      <td>-1.166422</td>\n",
       "      <td>-1.262291</td>\n",
       "      <td>0.5</td>\n",
       "      <td>0</td>\n",
       "      <td>1</td>\n",
       "      <td>0</td>\n",
       "      <td>0</td>\n",
       "      <td>0</td>\n",
       "      <td>0</td>\n",
       "      <td>1</td>\n",
       "    </tr>\n",
       "    <tr>\n",
       "      <th>1</th>\n",
       "      <td>0.685994</td>\n",
       "      <td>1.966320</td>\n",
       "      <td>1.231289</td>\n",
       "      <td>1.786627</td>\n",
       "      <td>0.5</td>\n",
       "      <td>1</td>\n",
       "      <td>0</td>\n",
       "      <td>0</td>\n",
       "      <td>1</td>\n",
       "      <td>0</td>\n",
       "      <td>0</td>\n",
       "      <td>1</td>\n",
       "    </tr>\n",
       "    <tr>\n",
       "      <th>2</th>\n",
       "      <td>-1.028992</td>\n",
       "      <td>-0.245777</td>\n",
       "      <td>-1.166422</td>\n",
       "      <td>-0.446657</td>\n",
       "      <td>0.5</td>\n",
       "      <td>0</td>\n",
       "      <td>0</td>\n",
       "      <td>0</td>\n",
       "      <td>1</td>\n",
       "      <td>0</td>\n",
       "      <td>0</td>\n",
       "      <td>1</td>\n",
       "    </tr>\n",
       "    <tr>\n",
       "      <th>3</th>\n",
       "      <td>-1.028992</td>\n",
       "      <td>-0.348184</td>\n",
       "      <td>0.271372</td>\n",
       "      <td>0.038840</td>\n",
       "      <td>-2.0</td>\n",
       "      <td>0</td>\n",
       "      <td>0</td>\n",
       "      <td>0</td>\n",
       "      <td>1</td>\n",
       "      <td>0</td>\n",
       "      <td>1</td>\n",
       "      <td>0</td>\n",
       "    </tr>\n",
       "    <tr>\n",
       "      <th>4</th>\n",
       "      <td>-0.171499</td>\n",
       "      <td>-0.614546</td>\n",
       "      <td>0.830183</td>\n",
       "      <td>-0.116519</td>\n",
       "      <td>0.5</td>\n",
       "      <td>1</td>\n",
       "      <td>0</td>\n",
       "      <td>1</td>\n",
       "      <td>1</td>\n",
       "      <td>1</td>\n",
       "      <td>0</td>\n",
       "      <td>0</td>\n",
       "    </tr>\n",
       "  </tbody>\n",
       "</table>\n",
       "</div>"
      ],
      "text/plain": [
       "   Dependents  ApplicantIncome  CoapplicantIncome  LoanAmount  Credit_History  \\\n",
       "0    1.543487        -0.757813          -1.166422   -1.262291             0.5   \n",
       "1    0.685994         1.966320           1.231289    1.786627             0.5   \n",
       "2   -1.028992        -0.245777          -1.166422   -0.446657             0.5   \n",
       "3   -1.028992        -0.348184           0.271372    0.038840            -2.0   \n",
       "4   -0.171499        -0.614546           0.830183   -0.116519             0.5   \n",
       "\n",
       "   Married  Education  Self_Employed  Gender  Rural  Semiurban  Urban  \n",
       "0        0          1              0       0      0          0      1  \n",
       "1        1          0              0       1      0          0      1  \n",
       "2        0          0              0       1      0          0      1  \n",
       "3        0          0              0       1      0          1      0  \n",
       "4        1          0              1       1      1          0      0  "
      ]
     },
     "execution_count": 338,
     "metadata": {},
     "output_type": "execute_result"
    }
   ],
   "source": [
    "test_data3\n"
   ]
  },
  {
   "cell_type": "markdown",
   "id": "b3ad2d42",
   "metadata": {},
   "source": [
    "# Predicting Loan Amount Term\n"
   ]
  },
  {
   "cell_type": "code",
   "execution_count": 339,
   "id": "fcd682ee",
   "metadata": {},
   "outputs": [],
   "source": [
    "pred_loan_amount_term = model_adr2_fin.predict(test_data3)\n"
   ]
  },
  {
   "cell_type": "code",
   "execution_count": 340,
   "id": "e52e716d",
   "metadata": {},
   "outputs": [],
   "source": [
    "la_term = []\n",
    "for i in pred_loan_amount_term:\n",
    "    la_term.append(round(i))\n"
   ]
  },
  {
   "cell_type": "code",
   "execution_count": 341,
   "id": "f9953cef",
   "metadata": {},
   "outputs": [
    {
     "data": {
      "text/plain": [
       "[360, 360, 360, 352, 360]"
      ]
     },
     "execution_count": 341,
     "metadata": {},
     "output_type": "execute_result"
    }
   ],
   "source": [
    "la_term"
   ]
  },
  {
   "cell_type": "code",
   "execution_count": 342,
   "id": "20a960b5",
   "metadata": {},
   "outputs": [],
   "source": [
    "D = B[(B[\"Loan_Status\"]==\"N\") & (B[\"Loan_Amount_Term\"]<=240)]\n"
   ]
  },
  {
   "cell_type": "code",
   "execution_count": 343,
   "id": "79e4be89",
   "metadata": {},
   "outputs": [],
   "source": [
    "len_D = D.shape[0]\n",
    "D.index = range(0,len_D,1)\n"
   ]
  },
  {
   "cell_type": "code",
   "execution_count": 344,
   "id": "bf0c1c38",
   "metadata": {},
   "outputs": [],
   "source": [
    "D = D.drop(labels=[\"Loan_Amount_Term\",\"Loan_Status\"],axis=1)\n"
   ]
  },
  {
   "cell_type": "code",
   "execution_count": 345,
   "id": "4b37f8ac",
   "metadata": {},
   "outputs": [],
   "source": [
    "D[\"Loan_Amount_Term\"] = la_term\n"
   ]
  },
  {
   "cell_type": "code",
   "execution_count": 349,
   "id": "ec9aedbc",
   "metadata": {},
   "outputs": [
    {
     "data": {
      "text/html": [
       "<div>\n",
       "<style scoped>\n",
       "    .dataframe tbody tr th:only-of-type {\n",
       "        vertical-align: middle;\n",
       "    }\n",
       "\n",
       "    .dataframe tbody tr th {\n",
       "        vertical-align: top;\n",
       "    }\n",
       "\n",
       "    .dataframe thead th {\n",
       "        text-align: right;\n",
       "    }\n",
       "</style>\n",
       "<table border=\"1\" class=\"dataframe\">\n",
       "  <thead>\n",
       "    <tr style=\"text-align: right;\">\n",
       "      <th></th>\n",
       "      <th>Gender</th>\n",
       "      <th>Married</th>\n",
       "      <th>Dependents</th>\n",
       "      <th>Education</th>\n",
       "      <th>Self_Employed</th>\n",
       "      <th>ApplicantIncome</th>\n",
       "      <th>CoapplicantIncome</th>\n",
       "      <th>LoanAmount</th>\n",
       "      <th>Credit_History</th>\n",
       "      <th>Property_Area</th>\n",
       "      <th>Loan_Amount_Term</th>\n",
       "    </tr>\n",
       "  </thead>\n",
       "  <tbody>\n",
       "    <tr>\n",
       "      <th>0</th>\n",
       "      <td>Female</td>\n",
       "      <td>No</td>\n",
       "      <td>3</td>\n",
       "      <td>Not Graduate</td>\n",
       "      <td>No</td>\n",
       "      <td>2083</td>\n",
       "      <td>0</td>\n",
       "      <td>28.0</td>\n",
       "      <td>1.0</td>\n",
       "      <td>Urban</td>\n",
       "      <td>360</td>\n",
       "    </tr>\n",
       "    <tr>\n",
       "      <th>1</th>\n",
       "      <td>Male</td>\n",
       "      <td>Yes</td>\n",
       "      <td>2</td>\n",
       "      <td>Graduate</td>\n",
       "      <td>No</td>\n",
       "      <td>7350</td>\n",
       "      <td>4029</td>\n",
       "      <td>185.0</td>\n",
       "      <td>1.0</td>\n",
       "      <td>Urban</td>\n",
       "      <td>360</td>\n",
       "    </tr>\n",
       "    <tr>\n",
       "      <th>2</th>\n",
       "      <td>Male</td>\n",
       "      <td>No</td>\n",
       "      <td>0</td>\n",
       "      <td>Graduate</td>\n",
       "      <td>No</td>\n",
       "      <td>3073</td>\n",
       "      <td>0</td>\n",
       "      <td>70.0</td>\n",
       "      <td>1.0</td>\n",
       "      <td>Urban</td>\n",
       "      <td>360</td>\n",
       "    </tr>\n",
       "    <tr>\n",
       "      <th>3</th>\n",
       "      <td>Male</td>\n",
       "      <td>No</td>\n",
       "      <td>0</td>\n",
       "      <td>Graduate</td>\n",
       "      <td>No</td>\n",
       "      <td>2875</td>\n",
       "      <td>2416</td>\n",
       "      <td>95.0</td>\n",
       "      <td>0.0</td>\n",
       "      <td>Semiurban</td>\n",
       "      <td>352</td>\n",
       "    </tr>\n",
       "    <tr>\n",
       "      <th>4</th>\n",
       "      <td>Male</td>\n",
       "      <td>Yes</td>\n",
       "      <td>1</td>\n",
       "      <td>Graduate</td>\n",
       "      <td>Yes</td>\n",
       "      <td>2360</td>\n",
       "      <td>3355</td>\n",
       "      <td>87.0</td>\n",
       "      <td>1.0</td>\n",
       "      <td>Rural</td>\n",
       "      <td>360</td>\n",
       "    </tr>\n",
       "  </tbody>\n",
       "</table>\n",
       "</div>"
      ],
      "text/plain": [
       "   Gender Married Dependents     Education Self_Employed  ApplicantIncome  \\\n",
       "0  Female      No          3  Not Graduate            No             2083   \n",
       "1    Male     Yes          2      Graduate            No             7350   \n",
       "2    Male      No          0      Graduate            No             3073   \n",
       "3    Male      No          0      Graduate            No             2875   \n",
       "4    Male     Yes          1      Graduate           Yes             2360   \n",
       "\n",
       "   CoapplicantIncome  LoanAmount  Credit_History Property_Area  \\\n",
       "0                  0        28.0             1.0         Urban   \n",
       "1               4029       185.0             1.0         Urban   \n",
       "2                  0        70.0             1.0         Urban   \n",
       "3               2416        95.0             0.0     Semiurban   \n",
       "4               3355        87.0             1.0         Rural   \n",
       "\n",
       "   Loan_Amount_Term  \n",
       "0               360  \n",
       "1               360  \n",
       "2               360  \n",
       "3               352  \n",
       "4               360  "
      ]
     },
     "execution_count": 349,
     "metadata": {},
     "output_type": "execute_result"
    }
   ],
   "source": [
    "D"
   ]
  },
  {
   "cell_type": "code",
   "execution_count": null,
   "id": "2f30a8e7",
   "metadata": {},
   "outputs": [],
   "source": []
  }
 ],
 "metadata": {
  "kernelspec": {
   "display_name": "Python 3",
   "language": "python",
   "name": "python3"
  },
  "language_info": {
   "codemirror_mode": {
    "name": "ipython",
    "version": 3
   },
   "file_extension": ".py",
   "mimetype": "text/x-python",
   "name": "python",
   "nbconvert_exporter": "python",
   "pygments_lexer": "ipython3",
   "version": "3.8.8"
  }
 },
 "nbformat": 4,
 "nbformat_minor": 5
}
