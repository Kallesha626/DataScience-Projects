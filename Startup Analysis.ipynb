{
 "cells": [
  {
   "cell_type": "code",
   "execution_count": 72,
   "id": "84d35a12",
   "metadata": {},
   "outputs": [],
   "source": [
    "from pandas import read_csv\n",
    "A = read_csv(\"C:/Users/Dell/Desktop/50_Startups.csv\")"
   ]
  },
  {
   "cell_type": "code",
   "execution_count": 73,
   "id": "3fda9a3f",
   "metadata": {},
   "outputs": [
    {
     "data": {
      "text/html": [
       "<div>\n",
       "<style scoped>\n",
       "    .dataframe tbody tr th:only-of-type {\n",
       "        vertical-align: middle;\n",
       "    }\n",
       "\n",
       "    .dataframe tbody tr th {\n",
       "        vertical-align: top;\n",
       "    }\n",
       "\n",
       "    .dataframe thead th {\n",
       "        text-align: right;\n",
       "    }\n",
       "</style>\n",
       "<table border=\"1\" class=\"dataframe\">\n",
       "  <thead>\n",
       "    <tr style=\"text-align: right;\">\n",
       "      <th></th>\n",
       "      <th>RND</th>\n",
       "      <th>ADMIN</th>\n",
       "      <th>MKT</th>\n",
       "      <th>STATE</th>\n",
       "      <th>PROFIT</th>\n",
       "    </tr>\n",
       "  </thead>\n",
       "  <tbody>\n",
       "    <tr>\n",
       "      <th>0</th>\n",
       "      <td>165349.20</td>\n",
       "      <td>136897.80</td>\n",
       "      <td>471784.10</td>\n",
       "      <td>New York</td>\n",
       "      <td>192261.83</td>\n",
       "    </tr>\n",
       "    <tr>\n",
       "      <th>1</th>\n",
       "      <td>162597.70</td>\n",
       "      <td>151377.59</td>\n",
       "      <td>443898.53</td>\n",
       "      <td>California</td>\n",
       "      <td>191792.06</td>\n",
       "    </tr>\n",
       "    <tr>\n",
       "      <th>2</th>\n",
       "      <td>153441.51</td>\n",
       "      <td>101145.55</td>\n",
       "      <td>407934.54</td>\n",
       "      <td>Florida</td>\n",
       "      <td>191050.39</td>\n",
       "    </tr>\n",
       "    <tr>\n",
       "      <th>3</th>\n",
       "      <td>144372.41</td>\n",
       "      <td>118671.85</td>\n",
       "      <td>383199.62</td>\n",
       "      <td>New York</td>\n",
       "      <td>182901.99</td>\n",
       "    </tr>\n",
       "    <tr>\n",
       "      <th>4</th>\n",
       "      <td>142107.34</td>\n",
       "      <td>91391.77</td>\n",
       "      <td>366168.42</td>\n",
       "      <td>Florida</td>\n",
       "      <td>166187.94</td>\n",
       "    </tr>\n",
       "  </tbody>\n",
       "</table>\n",
       "</div>"
      ],
      "text/plain": [
       "         RND      ADMIN        MKT       STATE     PROFIT\n",
       "0  165349.20  136897.80  471784.10    New York  192261.83\n",
       "1  162597.70  151377.59  443898.53  California  191792.06\n",
       "2  153441.51  101145.55  407934.54     Florida  191050.39\n",
       "3  144372.41  118671.85  383199.62    New York  182901.99\n",
       "4  142107.34   91391.77  366168.42     Florida  166187.94"
      ]
     },
     "execution_count": 73,
     "metadata": {},
     "output_type": "execute_result"
    }
   ],
   "source": [
    "A.head()"
   ]
  },
  {
   "cell_type": "code",
   "execution_count": 74,
   "id": "05a28630",
   "metadata": {},
   "outputs": [
    {
     "data": {
      "text/plain": [
       "RND       0\n",
       "ADMIN     0\n",
       "MKT       0\n",
       "STATE     0\n",
       "PROFIT    0\n",
       "dtype: int64"
      ]
     },
     "execution_count": 74,
     "metadata": {},
     "output_type": "execute_result"
    }
   ],
   "source": [
    "A.isna().sum()"
   ]
  },
  {
   "cell_type": "code",
   "execution_count": 75,
   "id": "175f4a4b",
   "metadata": {},
   "outputs": [
    {
     "data": {
      "text/html": [
       "<div>\n",
       "<style scoped>\n",
       "    .dataframe tbody tr th:only-of-type {\n",
       "        vertical-align: middle;\n",
       "    }\n",
       "\n",
       "    .dataframe tbody tr th {\n",
       "        vertical-align: top;\n",
       "    }\n",
       "\n",
       "    .dataframe thead th {\n",
       "        text-align: right;\n",
       "    }\n",
       "</style>\n",
       "<table border=\"1\" class=\"dataframe\">\n",
       "  <thead>\n",
       "    <tr style=\"text-align: right;\">\n",
       "      <th></th>\n",
       "      <th>RND</th>\n",
       "      <th>ADMIN</th>\n",
       "      <th>MKT</th>\n",
       "      <th>PROFIT</th>\n",
       "    </tr>\n",
       "  </thead>\n",
       "  <tbody>\n",
       "    <tr>\n",
       "      <th>RND</th>\n",
       "      <td>1.000000</td>\n",
       "      <td>0.241955</td>\n",
       "      <td>0.724248</td>\n",
       "      <td>0.972900</td>\n",
       "    </tr>\n",
       "    <tr>\n",
       "      <th>ADMIN</th>\n",
       "      <td>0.241955</td>\n",
       "      <td>1.000000</td>\n",
       "      <td>-0.032154</td>\n",
       "      <td>0.200717</td>\n",
       "    </tr>\n",
       "    <tr>\n",
       "      <th>MKT</th>\n",
       "      <td>0.724248</td>\n",
       "      <td>-0.032154</td>\n",
       "      <td>1.000000</td>\n",
       "      <td>0.747766</td>\n",
       "    </tr>\n",
       "    <tr>\n",
       "      <th>PROFIT</th>\n",
       "      <td>0.972900</td>\n",
       "      <td>0.200717</td>\n",
       "      <td>0.747766</td>\n",
       "      <td>1.000000</td>\n",
       "    </tr>\n",
       "  </tbody>\n",
       "</table>\n",
       "</div>"
      ],
      "text/plain": [
       "             RND     ADMIN       MKT    PROFIT\n",
       "RND     1.000000  0.241955  0.724248  0.972900\n",
       "ADMIN   0.241955  1.000000 -0.032154  0.200717\n",
       "MKT     0.724248 -0.032154  1.000000  0.747766\n",
       "PROFIT  0.972900  0.200717  0.747766  1.000000"
      ]
     },
     "execution_count": 75,
     "metadata": {},
     "output_type": "execute_result"
    }
   ],
   "source": [
    "A.corr()\n"
   ]
  },
  {
   "cell_type": "code",
   "execution_count": 76,
   "id": "9184fc8e",
   "metadata": {},
   "outputs": [
    {
     "data": {
      "text/plain": [
       "RND       0.972900\n",
       "ADMIN     0.200717\n",
       "MKT       0.747766\n",
       "PROFIT    1.000000\n",
       "Name: PROFIT, dtype: float64"
      ]
     },
     "execution_count": 76,
     "metadata": {},
     "output_type": "execute_result"
    }
   ],
   "source": [
    "A.corr()[\"PROFIT\"]\n"
   ]
  },
  {
   "cell_type": "markdown",
   "id": "fd10fa13",
   "metadata": {},
   "source": [
    "# Relation of Profit with RND"
   ]
  },
  {
   "cell_type": "code",
   "execution_count": 77,
   "id": "b720d94e",
   "metadata": {},
   "outputs": [
    {
     "data": {
      "text/plain": [
       "array([[1.        , 0.97290047],\n",
       "       [0.97290047, 1.        ]])"
      ]
     },
     "execution_count": 77,
     "metadata": {},
     "output_type": "execute_result"
    }
   ],
   "source": [
    "from numpy import corrcoef\n",
    "corrcoef(A.RND,A.PROFIT)"
   ]
  },
  {
   "cell_type": "code",
   "execution_count": 78,
   "id": "0d3a63fa",
   "metadata": {},
   "outputs": [
    {
     "data": {
      "text/plain": [
       "Text(0.5, 1.0, 'RND vs PROFIT Scatterplot')"
      ]
     },
     "execution_count": 78,
     "metadata": {},
     "output_type": "execute_result"
    },
    {
     "data": {
      "image/png": "[encoded data removed]",
      "text/plain": [
       "<Figure size 432x288 with 1 Axes>"
      ]
     },
     "metadata": {
      "needs_background": "light"
     },
     "output_type": "display_data"
    }
   ],
   "source": [
    "from warnings import filterwarnings\n",
    "filterwarnings(\"ignore\")\n",
    "from matplotlib.pyplot import scatter,plot,xlabel,ylabel,title\n",
    " \n",
    "scatter(A.RND,A.PROFIT,c=\"red\")\n",
    "xlabel(\"Amount spent in RND\")\n",
    "ylabel(\"Amount of PROFIT\")\n",
    "title(\"RND vs PROFIT Scatterplot\")"
   ]
  },
  {
   "cell_type": "code",
   "execution_count": 79,
   "id": "f388e721",
   "metadata": {},
   "outputs": [
    {
     "data": {
      "text/plain": [
       "<AxesSubplot:xlabel='RND', ylabel='PROFIT'>"
      ]
     },
     "execution_count": 79,
     "metadata": {},
     "output_type": "execute_result"
    },
    {
     "data": {
      "image/png": "[encoded data removed]",
      "text/plain": [
       "<Figure size 432x288 with 1 Axes>"
      ]
     },
     "metadata": {
      "needs_background": "light"
     },
     "output_type": "display_data"
    }
   ],
   "source": [
    "from seaborn import scatterplot\n",
    "scatterplot(A.RND,A.PROFIT)\n"
   ]
  },
  {
   "cell_type": "markdown",
   "id": "d817f2f9",
   "metadata": {},
   "source": [
    "# Relationship with PROFIT with MKT"
   ]
  },
  {
   "cell_type": "code",
   "execution_count": 80,
   "id": "c227a59e",
   "metadata": {},
   "outputs": [
    {
     "data": {
      "text/plain": [
       "array([[1.        , 0.74776572],\n",
       "       [0.74776572, 1.        ]])"
      ]
     },
     "execution_count": 80,
     "metadata": {},
     "output_type": "execute_result"
    }
   ],
   "source": [
    "from numpy import corrcoef\n",
    "corrcoef(A.MKT,A.PROFIT)"
   ]
  },
  {
   "cell_type": "code",
   "execution_count": 81,
   "id": "517b1590",
   "metadata": {},
   "outputs": [
    {
     "data": {
      "text/plain": [
       "<AxesSubplot:xlabel='MKT', ylabel='PROFIT'>"
      ]
     },
     "execution_count": 81,
     "metadata": {},
     "output_type": "execute_result"
    },
    {
     "data": {
      "image/png": "[encoded data removed]",
      "text/plain": [
       "<Figure size 432x288 with 1 Axes>"
      ]
     },
     "metadata": {
      "needs_background": "light"
     },
     "output_type": "display_data"
    }
   ],
   "source": [
    "from seaborn import scatterplot\n",
    "scatterplot(A.MKT,A.PROFIT)"
   ]
  },
  {
   "cell_type": "code",
   "execution_count": 82,
   "id": "e11c8468",
   "metadata": {},
   "outputs": [],
   "source": [
    "X = A[[\"RND\"]]\n",
    "Y = A[[\"PROFIT\"]]\n",
    "from sklearn.model_selection import train_test_split\n",
    "xtrain,xtest,ytrain,ytest=train_test_split(X,Y,test_size=0.2,random_state=51)"
   ]
  },
  {
   "cell_type": "markdown",
   "id": "899e62f8",
   "metadata": {},
   "source": [
    "# Sampling Bias"
   ]
  },
  {
   "cell_type": "code",
   "execution_count": 83,
   "id": "20a04f42",
   "metadata": {},
   "outputs": [
    {
     "data": {
      "text/plain": [
       "<AxesSubplot:ylabel='Density'>"
      ]
     },
     "execution_count": 83,
     "metadata": {},
     "output_type": "execute_result"
    },
    {
     "data": {
      "image/png": "[encoded data removed]",
      "text/plain": [
       "<Figure size 432x288 with 1 Axes>"
      ]
     },
     "metadata": {
      "needs_background": "light"
     },
     "output_type": "display_data"
    }
   ],
   "source": [
    "from seaborn import distplot\n",
    "distplot(Y)\n",
    "distplot(ytrain)"
   ]
  },
  {
   "cell_type": "markdown",
   "id": "2be3e7ac",
   "metadata": {},
   "source": [
    "# Regression model"
   ]
  },
  {
   "cell_type": "code",
   "execution_count": 84,
   "id": "ad963731",
   "metadata": {},
   "outputs": [],
   "source": [
    "from sklearn.linear_model import LinearRegression\n",
    "lm = LinearRegression()\n",
    "model = lm.fit(xtrain,ytrain)"
   ]
  },
  {
   "cell_type": "markdown",
   "id": "5f03e187",
   "metadata": {},
   "source": [
    "\n",
    "# Fetch and round off of bo and b1"
   ]
  },
  {
   "cell_type": "code",
   "execution_count": 85,
   "id": "57d9a219",
   "metadata": {},
   "outputs": [
    {
     "data": {
      "text/plain": [
       "array([51453.71082217])"
      ]
     },
     "execution_count": 85,
     "metadata": {},
     "output_type": "execute_result"
    }
   ],
   "source": [
    "model.intercept_"
   ]
  },
  {
   "cell_type": "code",
   "execution_count": 86,
   "id": "a42d2ab0",
   "metadata": {},
   "outputs": [
    {
     "data": {
      "text/plain": [
       "51453.71082216924"
      ]
     },
     "execution_count": 86,
     "metadata": {},
     "output_type": "execute_result"
    }
   ],
   "source": [
    "model.intercept_[0]\n"
   ]
  },
  {
   "cell_type": "code",
   "execution_count": 87,
   "id": "77fc9518",
   "metadata": {},
   "outputs": [
    {
     "data": {
      "text/plain": [
       "51453.71"
      ]
     },
     "execution_count": 87,
     "metadata": {},
     "output_type": "execute_result"
    }
   ],
   "source": [
    "round(model.intercept_[0],2)\n"
   ]
  },
  {
   "cell_type": "code",
   "execution_count": 88,
   "id": "0a134d88",
   "metadata": {},
   "outputs": [],
   "source": [
    "\n",
    "b0 = round(model.intercept_[0],2)\n"
   ]
  },
  {
   "cell_type": "code",
   "execution_count": 89,
   "id": "7acee369",
   "metadata": {},
   "outputs": [
    {
     "data": {
      "text/plain": [
       "array([[0.83438573]])"
      ]
     },
     "execution_count": 89,
     "metadata": {},
     "output_type": "execute_result"
    }
   ],
   "source": [
    "model.coef_\n"
   ]
  },
  {
   "cell_type": "code",
   "execution_count": 90,
   "id": "d8c46665",
   "metadata": {},
   "outputs": [
    {
     "data": {
      "text/plain": [
       "array([0.83438573])"
      ]
     },
     "execution_count": 90,
     "metadata": {},
     "output_type": "execute_result"
    }
   ],
   "source": [
    "\n",
    "model.coef_[0]\n"
   ]
  },
  {
   "cell_type": "code",
   "execution_count": 91,
   "id": "272a32ea",
   "metadata": {},
   "outputs": [
    {
     "data": {
      "text/plain": [
       "0.8343857309530335"
      ]
     },
     "execution_count": 91,
     "metadata": {},
     "output_type": "execute_result"
    }
   ],
   "source": [
    "model.coef_[0][0]\n"
   ]
  },
  {
   "cell_type": "code",
   "execution_count": 92,
   "id": "8af75b47",
   "metadata": {},
   "outputs": [
    {
     "data": {
      "text/plain": [
       "0.83"
      ]
     },
     "execution_count": 92,
     "metadata": {},
     "output_type": "execute_result"
    }
   ],
   "source": [
    "round(model.coef_[0][0],2)\n"
   ]
  },
  {
   "cell_type": "code",
   "execution_count": 93,
   "id": "e6286b1f",
   "metadata": {},
   "outputs": [],
   "source": [
    "b1 = round(model.coef_[0][0],2)\n"
   ]
  },
  {
   "cell_type": "markdown",
   "id": "83cf25b1",
   "metadata": {},
   "source": [
    "# Create predictions on test data"
   ]
  },
  {
   "cell_type": "code",
   "execution_count": 94,
   "id": "ac8fa86e",
   "metadata": {},
   "outputs": [
    {
     "data": {
      "text/html": [
       "<div>\n",
       "<style scoped>\n",
       "    .dataframe tbody tr th:only-of-type {\n",
       "        vertical-align: middle;\n",
       "    }\n",
       "\n",
       "    .dataframe tbody tr th {\n",
       "        vertical-align: top;\n",
       "    }\n",
       "\n",
       "    .dataframe thead th {\n",
       "        text-align: right;\n",
       "    }\n",
       "</style>\n",
       "<table border=\"1\" class=\"dataframe\">\n",
       "  <thead>\n",
       "    <tr style=\"text-align: right;\">\n",
       "      <th></th>\n",
       "      <th>RND</th>\n",
       "      <th>PROFIT</th>\n",
       "    </tr>\n",
       "  </thead>\n",
       "  <tbody>\n",
       "    <tr>\n",
       "      <th>4</th>\n",
       "      <td>142107.34</td>\n",
       "      <td>166187.94</td>\n",
       "    </tr>\n",
       "    <tr>\n",
       "      <th>48</th>\n",
       "      <td>542.05</td>\n",
       "      <td>35673.41</td>\n",
       "    </tr>\n",
       "    <tr>\n",
       "      <th>47</th>\n",
       "      <td>0.00</td>\n",
       "      <td>42559.73</td>\n",
       "    </tr>\n",
       "    <tr>\n",
       "      <th>15</th>\n",
       "      <td>114523.61</td>\n",
       "      <td>129917.04</td>\n",
       "    </tr>\n",
       "    <tr>\n",
       "      <th>0</th>\n",
       "      <td>165349.20</td>\n",
       "      <td>192261.83</td>\n",
       "    </tr>\n",
       "    <tr>\n",
       "      <th>17</th>\n",
       "      <td>94657.16</td>\n",
       "      <td>125370.37</td>\n",
       "    </tr>\n",
       "    <tr>\n",
       "      <th>29</th>\n",
       "      <td>65605.48</td>\n",
       "      <td>101004.64</td>\n",
       "    </tr>\n",
       "    <tr>\n",
       "      <th>31</th>\n",
       "      <td>61136.38</td>\n",
       "      <td>97483.56</td>\n",
       "    </tr>\n",
       "    <tr>\n",
       "      <th>19</th>\n",
       "      <td>86419.70</td>\n",
       "      <td>122776.86</td>\n",
       "    </tr>\n",
       "    <tr>\n",
       "      <th>2</th>\n",
       "      <td>153441.51</td>\n",
       "      <td>191050.39</td>\n",
       "    </tr>\n",
       "  </tbody>\n",
       "</table>\n",
       "</div>"
      ],
      "text/plain": [
       "          RND     PROFIT\n",
       "4   142107.34  166187.94\n",
       "48     542.05   35673.41\n",
       "47       0.00   42559.73\n",
       "15  114523.61  129917.04\n",
       "0   165349.20  192261.83\n",
       "17   94657.16  125370.37\n",
       "29   65605.48  101004.64\n",
       "31   61136.38   97483.56\n",
       "19   86419.70  122776.86\n",
       "2   153441.51  191050.39"
      ]
     },
     "execution_count": 94,
     "metadata": {},
     "output_type": "execute_result"
    }
   ],
   "source": [
    "xtest.join(ytest)\n"
   ]
  },
  {
   "cell_type": "code",
   "execution_count": 95,
   "id": "4d9b49c2",
   "metadata": {},
   "outputs": [],
   "source": [
    "\n",
    "\n",
    "\n",
    "W = xtest.join(ytest)\n"
   ]
  },
  {
   "cell_type": "code",
   "execution_count": 96,
   "id": "8552dd0c",
   "metadata": {},
   "outputs": [],
   "source": [
    "PRED = []\n",
    "for i in W.RND:\n",
    "    predicted_profit = b0 + b1*i\n",
    "    predicted_profit = round(predicted_profit,2)\n",
    "    PRED.append(predicted_profit)"
   ]
  },
  {
   "cell_type": "code",
   "execution_count": 97,
   "id": "2ea3a3db",
   "metadata": {},
   "outputs": [
    {
     "data": {
      "text/plain": [
       "[169402.8,\n",
       " 51903.61,\n",
       " 51453.71,\n",
       " 146508.31,\n",
       " 188693.55,\n",
       " 130019.15,\n",
       " 105906.26,\n",
       " 102196.91,\n",
       " 123182.06,\n",
       " 178810.16]"
      ]
     },
     "execution_count": 97,
     "metadata": {},
     "output_type": "execute_result"
    }
   ],
   "source": [
    "PRED"
   ]
  },
  {
   "cell_type": "code",
   "execution_count": 98,
   "id": "5ff0d141",
   "metadata": {},
   "outputs": [
    {
     "data": {
      "text/html": [
       "<div>\n",
       "<style scoped>\n",
       "    .dataframe tbody tr th:only-of-type {\n",
       "        vertical-align: middle;\n",
       "    }\n",
       "\n",
       "    .dataframe tbody tr th {\n",
       "        vertical-align: top;\n",
       "    }\n",
       "\n",
       "    .dataframe thead th {\n",
       "        text-align: right;\n",
       "    }\n",
       "</style>\n",
       "<table border=\"1\" class=\"dataframe\">\n",
       "  <thead>\n",
       "    <tr style=\"text-align: right;\">\n",
       "      <th></th>\n",
       "      <th>RND</th>\n",
       "      <th>PROFIT</th>\n",
       "    </tr>\n",
       "  </thead>\n",
       "  <tbody>\n",
       "    <tr>\n",
       "      <th>4</th>\n",
       "      <td>142107.34</td>\n",
       "      <td>166187.94</td>\n",
       "    </tr>\n",
       "    <tr>\n",
       "      <th>48</th>\n",
       "      <td>542.05</td>\n",
       "      <td>35673.41</td>\n",
       "    </tr>\n",
       "    <tr>\n",
       "      <th>47</th>\n",
       "      <td>0.00</td>\n",
       "      <td>42559.73</td>\n",
       "    </tr>\n",
       "    <tr>\n",
       "      <th>15</th>\n",
       "      <td>114523.61</td>\n",
       "      <td>129917.04</td>\n",
       "    </tr>\n",
       "    <tr>\n",
       "      <th>0</th>\n",
       "      <td>165349.20</td>\n",
       "      <td>192261.83</td>\n",
       "    </tr>\n",
       "    <tr>\n",
       "      <th>17</th>\n",
       "      <td>94657.16</td>\n",
       "      <td>125370.37</td>\n",
       "    </tr>\n",
       "    <tr>\n",
       "      <th>29</th>\n",
       "      <td>65605.48</td>\n",
       "      <td>101004.64</td>\n",
       "    </tr>\n",
       "    <tr>\n",
       "      <th>31</th>\n",
       "      <td>61136.38</td>\n",
       "      <td>97483.56</td>\n",
       "    </tr>\n",
       "    <tr>\n",
       "      <th>19</th>\n",
       "      <td>86419.70</td>\n",
       "      <td>122776.86</td>\n",
       "    </tr>\n",
       "    <tr>\n",
       "      <th>2</th>\n",
       "      <td>153441.51</td>\n",
       "      <td>191050.39</td>\n",
       "    </tr>\n",
       "  </tbody>\n",
       "</table>\n",
       "</div>"
      ],
      "text/plain": [
       "          RND     PROFIT\n",
       "4   142107.34  166187.94\n",
       "48     542.05   35673.41\n",
       "47       0.00   42559.73\n",
       "15  114523.61  129917.04\n",
       "0   165349.20  192261.83\n",
       "17   94657.16  125370.37\n",
       "29   65605.48  101004.64\n",
       "31   61136.38   97483.56\n",
       "19   86419.70  122776.86\n",
       "2   153441.51  191050.39"
      ]
     },
     "execution_count": 98,
     "metadata": {},
     "output_type": "execute_result"
    }
   ],
   "source": [
    "W"
   ]
  },
  {
   "cell_type": "code",
   "execution_count": 99,
   "id": "11701e5e",
   "metadata": {},
   "outputs": [],
   "source": [
    "W[\"Pred_PROFIT\"]=PRED\n"
   ]
  },
  {
   "cell_type": "code",
   "execution_count": 100,
   "id": "66cdb26f",
   "metadata": {},
   "outputs": [
    {
     "data": {
      "text/html": [
       "<div>\n",
       "<style scoped>\n",
       "    .dataframe tbody tr th:only-of-type {\n",
       "        vertical-align: middle;\n",
       "    }\n",
       "\n",
       "    .dataframe tbody tr th {\n",
       "        vertical-align: top;\n",
       "    }\n",
       "\n",
       "    .dataframe thead th {\n",
       "        text-align: right;\n",
       "    }\n",
       "</style>\n",
       "<table border=\"1\" class=\"dataframe\">\n",
       "  <thead>\n",
       "    <tr style=\"text-align: right;\">\n",
       "      <th></th>\n",
       "      <th>RND</th>\n",
       "      <th>PROFIT</th>\n",
       "      <th>Pred_PROFIT</th>\n",
       "    </tr>\n",
       "  </thead>\n",
       "  <tbody>\n",
       "    <tr>\n",
       "      <th>4</th>\n",
       "      <td>142107.34</td>\n",
       "      <td>166187.94</td>\n",
       "      <td>169402.80</td>\n",
       "    </tr>\n",
       "    <tr>\n",
       "      <th>48</th>\n",
       "      <td>542.05</td>\n",
       "      <td>35673.41</td>\n",
       "      <td>51903.61</td>\n",
       "    </tr>\n",
       "    <tr>\n",
       "      <th>47</th>\n",
       "      <td>0.00</td>\n",
       "      <td>42559.73</td>\n",
       "      <td>51453.71</td>\n",
       "    </tr>\n",
       "    <tr>\n",
       "      <th>15</th>\n",
       "      <td>114523.61</td>\n",
       "      <td>129917.04</td>\n",
       "      <td>146508.31</td>\n",
       "    </tr>\n",
       "    <tr>\n",
       "      <th>0</th>\n",
       "      <td>165349.20</td>\n",
       "      <td>192261.83</td>\n",
       "      <td>188693.55</td>\n",
       "    </tr>\n",
       "    <tr>\n",
       "      <th>17</th>\n",
       "      <td>94657.16</td>\n",
       "      <td>125370.37</td>\n",
       "      <td>130019.15</td>\n",
       "    </tr>\n",
       "    <tr>\n",
       "      <th>29</th>\n",
       "      <td>65605.48</td>\n",
       "      <td>101004.64</td>\n",
       "      <td>105906.26</td>\n",
       "    </tr>\n",
       "    <tr>\n",
       "      <th>31</th>\n",
       "      <td>61136.38</td>\n",
       "      <td>97483.56</td>\n",
       "      <td>102196.91</td>\n",
       "    </tr>\n",
       "    <tr>\n",
       "      <th>19</th>\n",
       "      <td>86419.70</td>\n",
       "      <td>122776.86</td>\n",
       "      <td>123182.06</td>\n",
       "    </tr>\n",
       "    <tr>\n",
       "      <th>2</th>\n",
       "      <td>153441.51</td>\n",
       "      <td>191050.39</td>\n",
       "      <td>178810.16</td>\n",
       "    </tr>\n",
       "  </tbody>\n",
       "</table>\n",
       "</div>"
      ],
      "text/plain": [
       "          RND     PROFIT  Pred_PROFIT\n",
       "4   142107.34  166187.94    169402.80\n",
       "48     542.05   35673.41     51903.61\n",
       "47       0.00   42559.73     51453.71\n",
       "15  114523.61  129917.04    146508.31\n",
       "0   165349.20  192261.83    188693.55\n",
       "17   94657.16  125370.37    130019.15\n",
       "29   65605.48  101004.64    105906.26\n",
       "31   61136.38   97483.56    102196.91\n",
       "19   86419.70  122776.86    123182.06\n",
       "2   153441.51  191050.39    178810.16"
      ]
     },
     "execution_count": 100,
     "metadata": {},
     "output_type": "execute_result"
    }
   ],
   "source": [
    "W"
   ]
  },
  {
   "cell_type": "markdown",
   "id": "7bcb8072",
   "metadata": {},
   "source": [
    "# Find Error"
   ]
  },
  {
   "cell_type": "code",
   "execution_count": 101,
   "id": "6f024c7e",
   "metadata": {},
   "outputs": [],
   "source": [
    "W[\"Error\"] = W.PROFIT - W.Pred_PROFIT\n"
   ]
  },
  {
   "cell_type": "code",
   "execution_count": 102,
   "id": "ad8b3366",
   "metadata": {},
   "outputs": [
    {
     "data": {
      "text/html": [
       "<div>\n",
       "<style scoped>\n",
       "    .dataframe tbody tr th:only-of-type {\n",
       "        vertical-align: middle;\n",
       "    }\n",
       "\n",
       "    .dataframe tbody tr th {\n",
       "        vertical-align: top;\n",
       "    }\n",
       "\n",
       "    .dataframe thead th {\n",
       "        text-align: right;\n",
       "    }\n",
       "</style>\n",
       "<table border=\"1\" class=\"dataframe\">\n",
       "  <thead>\n",
       "    <tr style=\"text-align: right;\">\n",
       "      <th></th>\n",
       "      <th>RND</th>\n",
       "      <th>PROFIT</th>\n",
       "      <th>Pred_PROFIT</th>\n",
       "      <th>Error</th>\n",
       "    </tr>\n",
       "  </thead>\n",
       "  <tbody>\n",
       "    <tr>\n",
       "      <th>4</th>\n",
       "      <td>142107.34</td>\n",
       "      <td>166187.94</td>\n",
       "      <td>169402.80</td>\n",
       "      <td>-3214.86</td>\n",
       "    </tr>\n",
       "    <tr>\n",
       "      <th>48</th>\n",
       "      <td>542.05</td>\n",
       "      <td>35673.41</td>\n",
       "      <td>51903.61</td>\n",
       "      <td>-16230.20</td>\n",
       "    </tr>\n",
       "    <tr>\n",
       "      <th>47</th>\n",
       "      <td>0.00</td>\n",
       "      <td>42559.73</td>\n",
       "      <td>51453.71</td>\n",
       "      <td>-8893.98</td>\n",
       "    </tr>\n",
       "    <tr>\n",
       "      <th>15</th>\n",
       "      <td>114523.61</td>\n",
       "      <td>129917.04</td>\n",
       "      <td>146508.31</td>\n",
       "      <td>-16591.27</td>\n",
       "    </tr>\n",
       "    <tr>\n",
       "      <th>0</th>\n",
       "      <td>165349.20</td>\n",
       "      <td>192261.83</td>\n",
       "      <td>188693.55</td>\n",
       "      <td>3568.28</td>\n",
       "    </tr>\n",
       "    <tr>\n",
       "      <th>17</th>\n",
       "      <td>94657.16</td>\n",
       "      <td>125370.37</td>\n",
       "      <td>130019.15</td>\n",
       "      <td>-4648.78</td>\n",
       "    </tr>\n",
       "    <tr>\n",
       "      <th>29</th>\n",
       "      <td>65605.48</td>\n",
       "      <td>101004.64</td>\n",
       "      <td>105906.26</td>\n",
       "      <td>-4901.62</td>\n",
       "    </tr>\n",
       "    <tr>\n",
       "      <th>31</th>\n",
       "      <td>61136.38</td>\n",
       "      <td>97483.56</td>\n",
       "      <td>102196.91</td>\n",
       "      <td>-4713.35</td>\n",
       "    </tr>\n",
       "    <tr>\n",
       "      <th>19</th>\n",
       "      <td>86419.70</td>\n",
       "      <td>122776.86</td>\n",
       "      <td>123182.06</td>\n",
       "      <td>-405.20</td>\n",
       "    </tr>\n",
       "    <tr>\n",
       "      <th>2</th>\n",
       "      <td>153441.51</td>\n",
       "      <td>191050.39</td>\n",
       "      <td>178810.16</td>\n",
       "      <td>12240.23</td>\n",
       "    </tr>\n",
       "  </tbody>\n",
       "</table>\n",
       "</div>"
      ],
      "text/plain": [
       "          RND     PROFIT  Pred_PROFIT     Error\n",
       "4   142107.34  166187.94    169402.80  -3214.86\n",
       "48     542.05   35673.41     51903.61 -16230.20\n",
       "47       0.00   42559.73     51453.71  -8893.98\n",
       "15  114523.61  129917.04    146508.31 -16591.27\n",
       "0   165349.20  192261.83    188693.55   3568.28\n",
       "17   94657.16  125370.37    130019.15  -4648.78\n",
       "29   65605.48  101004.64    105906.26  -4901.62\n",
       "31   61136.38   97483.56    102196.91  -4713.35\n",
       "19   86419.70  122776.86    123182.06   -405.20\n",
       "2   153441.51  191050.39    178810.16  12240.23"
      ]
     },
     "execution_count": 102,
     "metadata": {},
     "output_type": "execute_result"
    }
   ],
   "source": [
    "W"
   ]
  },
  {
   "cell_type": "markdown",
   "id": "71d6f14e",
   "metadata": {},
   "source": [
    "# Find Test Error"
   ]
  },
  {
   "cell_type": "code",
   "execution_count": 103,
   "id": "d924424a",
   "metadata": {},
   "outputs": [],
   "source": [
    "from numpy import abs\n",
    "\n",
    "W[\"Absolutes\"] = abs(W.Error)"
   ]
  },
  {
   "cell_type": "code",
   "execution_count": 104,
   "id": "dcd28617",
   "metadata": {},
   "outputs": [
    {
     "data": {
      "text/html": [
       "<div>\n",
       "<style scoped>\n",
       "    .dataframe tbody tr th:only-of-type {\n",
       "        vertical-align: middle;\n",
       "    }\n",
       "\n",
       "    .dataframe tbody tr th {\n",
       "        vertical-align: top;\n",
       "    }\n",
       "\n",
       "    .dataframe thead th {\n",
       "        text-align: right;\n",
       "    }\n",
       "</style>\n",
       "<table border=\"1\" class=\"dataframe\">\n",
       "  <thead>\n",
       "    <tr style=\"text-align: right;\">\n",
       "      <th></th>\n",
       "      <th>RND</th>\n",
       "      <th>PROFIT</th>\n",
       "      <th>Pred_PROFIT</th>\n",
       "      <th>Error</th>\n",
       "      <th>Absolutes</th>\n",
       "    </tr>\n",
       "  </thead>\n",
       "  <tbody>\n",
       "    <tr>\n",
       "      <th>4</th>\n",
       "      <td>142107.34</td>\n",
       "      <td>166187.94</td>\n",
       "      <td>169402.80</td>\n",
       "      <td>-3214.86</td>\n",
       "      <td>3214.86</td>\n",
       "    </tr>\n",
       "    <tr>\n",
       "      <th>48</th>\n",
       "      <td>542.05</td>\n",
       "      <td>35673.41</td>\n",
       "      <td>51903.61</td>\n",
       "      <td>-16230.20</td>\n",
       "      <td>16230.20</td>\n",
       "    </tr>\n",
       "    <tr>\n",
       "      <th>47</th>\n",
       "      <td>0.00</td>\n",
       "      <td>42559.73</td>\n",
       "      <td>51453.71</td>\n",
       "      <td>-8893.98</td>\n",
       "      <td>8893.98</td>\n",
       "    </tr>\n",
       "    <tr>\n",
       "      <th>15</th>\n",
       "      <td>114523.61</td>\n",
       "      <td>129917.04</td>\n",
       "      <td>146508.31</td>\n",
       "      <td>-16591.27</td>\n",
       "      <td>16591.27</td>\n",
       "    </tr>\n",
       "    <tr>\n",
       "      <th>0</th>\n",
       "      <td>165349.20</td>\n",
       "      <td>192261.83</td>\n",
       "      <td>188693.55</td>\n",
       "      <td>3568.28</td>\n",
       "      <td>3568.28</td>\n",
       "    </tr>\n",
       "    <tr>\n",
       "      <th>17</th>\n",
       "      <td>94657.16</td>\n",
       "      <td>125370.37</td>\n",
       "      <td>130019.15</td>\n",
       "      <td>-4648.78</td>\n",
       "      <td>4648.78</td>\n",
       "    </tr>\n",
       "    <tr>\n",
       "      <th>29</th>\n",
       "      <td>65605.48</td>\n",
       "      <td>101004.64</td>\n",
       "      <td>105906.26</td>\n",
       "      <td>-4901.62</td>\n",
       "      <td>4901.62</td>\n",
       "    </tr>\n",
       "    <tr>\n",
       "      <th>31</th>\n",
       "      <td>61136.38</td>\n",
       "      <td>97483.56</td>\n",
       "      <td>102196.91</td>\n",
       "      <td>-4713.35</td>\n",
       "      <td>4713.35</td>\n",
       "    </tr>\n",
       "    <tr>\n",
       "      <th>19</th>\n",
       "      <td>86419.70</td>\n",
       "      <td>122776.86</td>\n",
       "      <td>123182.06</td>\n",
       "      <td>-405.20</td>\n",
       "      <td>405.20</td>\n",
       "    </tr>\n",
       "    <tr>\n",
       "      <th>2</th>\n",
       "      <td>153441.51</td>\n",
       "      <td>191050.39</td>\n",
       "      <td>178810.16</td>\n",
       "      <td>12240.23</td>\n",
       "      <td>12240.23</td>\n",
       "    </tr>\n",
       "  </tbody>\n",
       "</table>\n",
       "</div>"
      ],
      "text/plain": [
       "          RND     PROFIT  Pred_PROFIT     Error  Absolutes\n",
       "4   142107.34  166187.94    169402.80  -3214.86    3214.86\n",
       "48     542.05   35673.41     51903.61 -16230.20   16230.20\n",
       "47       0.00   42559.73     51453.71  -8893.98    8893.98\n",
       "15  114523.61  129917.04    146508.31 -16591.27   16591.27\n",
       "0   165349.20  192261.83    188693.55   3568.28    3568.28\n",
       "17   94657.16  125370.37    130019.15  -4648.78    4648.78\n",
       "29   65605.48  101004.64    105906.26  -4901.62    4901.62\n",
       "31   61136.38   97483.56    102196.91  -4713.35    4713.35\n",
       "19   86419.70  122776.86    123182.06   -405.20     405.20\n",
       "2   153441.51  191050.39    178810.16  12240.23   12240.23"
      ]
     },
     "execution_count": 104,
     "metadata": {},
     "output_type": "execute_result"
    }
   ],
   "source": [
    "W"
   ]
  },
  {
   "cell_type": "code",
   "execution_count": 105,
   "id": "3b5fdf60",
   "metadata": {},
   "outputs": [],
   "source": [
    "MAE = round(W.Absolutes.mean(),2)\n"
   ]
  },
  {
   "cell_type": "code",
   "execution_count": 106,
   "id": "6035bbb8",
   "metadata": {},
   "outputs": [
    {
     "data": {
      "text/plain": [
       "7540.78"
      ]
     },
     "execution_count": 106,
     "metadata": {},
     "output_type": "execute_result"
    }
   ],
   "source": [
    "MAE"
   ]
  },
  {
   "cell_type": "markdown",
   "id": "b4633a78",
   "metadata": {},
   "source": [
    "# Plot Regression Line"
   ]
  },
  {
   "cell_type": "code",
   "execution_count": 107,
   "id": "5c677038",
   "metadata": {},
   "outputs": [
    {
     "data": {
      "text/plain": [
       "Text(0.5, 1.0, 'RND vs PROFIT scatterplot with Regression Line')"
      ]
     },
     "execution_count": 107,
     "metadata": {},
     "output_type": "execute_result"
    },
    {
     "data": {
      "image/png": "[encoded data removed]",
      "text/plain": [
       "<Figure size 432x288 with 1 Axes>"
      ]
     },
     "metadata": {
      "needs_background": "light"
     },
     "output_type": "display_data"
    }
   ],
   "source": [
    "from matplotlib.pyplot import scatter,plot,xlabel,ylabel,title\n",
    "\n",
    "scatter(xtrain.RND,ytrain.PROFIT,c=\"red\")\n",
    "plot(xtrain.RND,b0 + b1*xtrain.RND,c=\"blue\")\n",
    "xlabel(\"Amount spent in RND\")\n",
    "ylabel(\"Amount of PROFIT\")\n",
    "title(\"RND vs PROFIT scatterplot with Regression Line\")"
   ]
  },
  {
   "cell_type": "code",
   "execution_count": 108,
   "id": "58d86a33",
   "metadata": {},
   "outputs": [
    {
     "data": {
      "text/plain": [
       "<AxesSubplot:xlabel='RND', ylabel='PROFIT'>"
      ]
     },
     "execution_count": 108,
     "metadata": {},
     "output_type": "execute_result"
    },
    {
     "data": {
      "image/png": "[encoded data removed]",
      "text/plain": [
       "<Figure size 432x288 with 1 Axes>"
      ]
     },
     "metadata": {
      "needs_background": "light"
     },
     "output_type": "display_data"
    }
   ],
   "source": [
    "from seaborn import regplot\n",
    "regplot(xtrain.RND,ytrain.PROFIT)"
   ]
  },
  {
   "cell_type": "code",
   "execution_count": null,
   "id": "17e18ccc",
   "metadata": {},
   "outputs": [],
   "source": []
  },
  {
   "cell_type": "code",
   "execution_count": null,
   "id": "011f38bc",
   "metadata": {},
   "outputs": [],
   "source": []
  },
  {
   "cell_type": "code",
   "execution_count": null,
   "id": "65adb825",
   "metadata": {},
   "outputs": [],
   "source": []
  },
  {
   "cell_type": "code",
   "execution_count": null,
   "id": "f79c4c6d",
   "metadata": {},
   "outputs": [],
   "source": []
  },
  {
   "cell_type": "code",
   "execution_count": null,
   "id": "17a74cf4",
   "metadata": {},
   "outputs": [],
   "source": []
  },
  {
   "cell_type": "code",
   "execution_count": null,
   "id": "11b3db0e",
   "metadata": {},
   "outputs": [],
   "source": []
  },
  {
   "cell_type": "code",
   "execution_count": null,
   "id": "4f7f3e36",
   "metadata": {},
   "outputs": [],
   "source": []
  },
  {
   "cell_type": "code",
   "execution_count": null,
   "id": "5b4b1a0d",
   "metadata": {},
   "outputs": [],
   "source": []
  },
  {
   "cell_type": "code",
   "execution_count": null,
   "id": "41a8bc36",
   "metadata": {},
   "outputs": [],
   "source": []
  },
  {
   "cell_type": "code",
   "execution_count": null,
   "id": "b868aec1",
   "metadata": {},
   "outputs": [],
   "source": []
  }
 ],
 "metadata": {
  "kernelspec": {
   "display_name": "Python 3",
   "language": "python",
   "name": "python3"
  },
  "language_info": {
   "codemirror_mode": {
    "name": "ipython",
    "version": 3
   },
   "file_extension": ".py",
   "mimetype": "text/x-python",
   "name": "python",
   "nbconvert_exporter": "python",
   "pygments_lexer": "ipython3",
   "version": "3.8.8"
  }
 },
 "nbformat": 4,
 "nbformat_minor": 5
}
